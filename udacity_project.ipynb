{
  "cells": [
    {
      "cell_type": "markdown",
      "metadata": {
        "id": "ASR0jHyLeWy4"
      },
      "source": [
        "\n",
        "# Project: Investigate a Dataset - [No-show appointments]\n",
        "\n",
        "## Table of Contents\n",
        "<ul>\n",
        "<li><a href=\"#intro\">Introduction</a></li>\n",
        "<li><a href=\"#wrangling\">Data Wrangling</a></li>\n",
        "<li><a href=\"#eda\">Exploratory Data Analysis</a></li>\n",
        "<li><a href=\"#conclusions\">Conclusions</a></li>\n",
        "</ul>"
      ]
    },
    {
      "cell_type": "markdown",
      "metadata": {
        "id": "ua5Tg1ud_UnV"
      },
      "source": [
        "\t\n",
        "About Dataset\n",
        "Context\n",
        "A person makes a doctor appointment, receives all the instructions and no-show. Who to blame?\n",
        "If this help you studying or working, please don´t forget to upvote :). Reference to Joni Hoppen and Aquarela Advanced Analytics Aquarela\n",
        "\n",
        "Greetings!\n",
        "\n",
        "Content\n",
        "110527 medical appointments its 14 associated variables (characteristics). The most important one if the patient show-up or no-show to the appointment. Variable names are self-explanatory, if you have doubts, just let me know!\n",
        "\n",
        "scholarship variable means this concept = https://en.wikipedia.org/wiki/Bolsa_Fam%C3%ADlia\n",
        "\n",
        "14 variables\n",
        "\n",
        "Data Dictionary\n",
        "* 01 - PatientId\n",
        "Identification of a patient\n",
        "* 02 - AppointmentID\n",
        "Identification of each appointment\n",
        "* 03 - Gender\n",
        "Male or Female . Female is the greater proportion, woman takes way more care of they health in comparison to man.\n",
        "* 04 - DataMarcacaoConsulta\n",
        "The day of the actuall appointment, when they have to visit the doctor.\n",
        "* 05 - DataAgendamento\n",
        "The day someone called or registered the appointment, this is before appointment of course.\n",
        "* 06 - Age\n",
        "How old is the patient.\n",
        "* 07 - Neighbourhood\n",
        "Where the appointment takes place.\n",
        "* 08 - Scholarship\n",
        "True of False . Observation, this is a broad topic, consider reading this article https://en.wikipedia.org/wiki/Bolsa_Fam%C3%ADlia\n",
        "* 09 - Hipertension\n",
        "True or False\n",
        "* 10 - Diabetes\n",
        "True or False\n",
        "* Alcoholism\n",
        "True or False\n",
        "* Handcap\n",
        "True or False\n",
        "* SMS_received\n",
        "1 or more messages sent to the patient.\n",
        "* No-show\n",
        "True or False."
      ]
    },
    {
      "cell_type": "markdown",
      "source": [
        "## Questions Asked\n",
        "* How many Group of gender show-up and does not show-up for the appoinment\n",
        "* Did people that have disease show-up more than does that did not have\n",
        "* the people that showed-up is it some features maybe scholarship or many more\n",
        "* which neighbourhood was occured most\n"
      ],
      "metadata": {
        "id": "Yz_11sfGsuax"
      }
    },
    {
      "cell_type": "code",
      "execution_count": 1,
      "metadata": {
        "id": "rDizGA2DDJ1y"
      },
      "outputs": [],
      "source": [
        "# importing library\n",
        "import pandas as pd\n",
        "import numpy as np\n",
        "import matplotlib.pyplot as plt\n",
        "%matplotlib inline\n",
        "import seaborn as sns"
      ]
    },
    {
      "cell_type": "code",
      "source": [
        "from google.colab import drive\n",
        "drive.mount('/content/drive')"
      ],
      "metadata": {
        "colab": {
          "base_uri": "https://localhost:8080/"
        },
        "id": "ezlC-rfOppzC",
        "outputId": "b802c3f2-240d-45b7-eb70-400b3525a9d4"
      },
      "execution_count": 2,
      "outputs": [
        {
          "output_type": "stream",
          "name": "stdout",
          "text": [
            "Mounted at /content/drive\n"
          ]
        }
      ]
    },
    {
      "cell_type": "code",
      "source": [
        "cd drive"
      ],
      "metadata": {
        "colab": {
          "base_uri": "https://localhost:8080/"
        },
        "id": "ZIb_YaZEhn7g",
        "outputId": "e2e9e3ff-25b3-45db-ef7e-372d350f761b"
      },
      "execution_count": 3,
      "outputs": [
        {
          "output_type": "stream",
          "name": "stdout",
          "text": [
            "/content/drive\n"
          ]
        }
      ]
    },
    {
      "cell_type": "code",
      "source": [
        "ls"
      ],
      "metadata": {
        "colab": {
          "base_uri": "https://localhost:8080/"
        },
        "id": "2f9f7ogdRCUD",
        "outputId": "c1de228d-9c34-4b82-fcff-90198f3bc70c"
      },
      "execution_count": 4,
      "outputs": [
        {
          "output_type": "stream",
          "name": "stdout",
          "text": [
            "\u001b[0m\u001b[01;34mMyDrive\u001b[0m/\n"
          ]
        }
      ]
    },
    {
      "cell_type": "code",
      "source": [
        "cd MyDrive"
      ],
      "metadata": {
        "colab": {
          "base_uri": "https://localhost:8080/"
        },
        "id": "o86U6sqHRFAR",
        "outputId": "8bc3f9e5-e86d-41dd-d56a-016c57284078"
      },
      "execution_count": 5,
      "outputs": [
        {
          "output_type": "stream",
          "name": "stdout",
          "text": [
            "/content/drive/MyDrive\n"
          ]
        }
      ]
    },
    {
      "cell_type": "code",
      "source": [
        "ls"
      ],
      "metadata": {
        "colab": {
          "base_uri": "https://localhost:8080/"
        },
        "id": "bQzYbzeVRH7H",
        "outputId": "480a0fd7-08a7-4499-83e8-14f9bb611851"
      },
      "execution_count": 6,
      "outputs": [
        {
          "output_type": "stream",
          "name": "stdout",
          "text": [
            "\u001b[0m\u001b[01;34m'2nd semester'\u001b[0m/       \u001b[01;34m'Colab Notebooks'\u001b[0m/                          \u001b[01;34mpdf\u001b[0m/\n",
            "\u001b[01;34m'CLASSIC MODEL  DB'\u001b[0m/   noshowappointments-kagglev2-may-2016.csv   \u001b[01;34mudacity\u001b[0m/\n"
          ]
        }
      ]
    },
    {
      "cell_type": "markdown",
      "metadata": {
        "id": "rfWiRJnnEFdj",
        "outputId": "eeffe974-1a85-4279-d019-c9443f44dd2d"
      },
      "source": [
        "# Introduction\n",
        "## Data Wrangling Phase\n",
        "### Dataset Description "
      ]
    },
    {
      "cell_type": "code",
      "execution_count": 7,
      "metadata": {
        "colab": {
          "base_uri": "https://localhost:8080/",
          "height": 354
        },
        "id": "s3wrY0gSD3Uq",
        "outputId": "1598534a-952b-45e4-e305-4e9fd23bcd79"
      },
      "outputs": [
        {
          "output_type": "execute_result",
          "data": {
            "text/plain": [
              "      PatientId  AppointmentID Gender          ScheduledDay  \\\n",
              "0  2.987250e+13        5642903      F  2016-04-29T18:38:08Z   \n",
              "1  5.589978e+14        5642503      M  2016-04-29T16:08:27Z   \n",
              "2  4.262962e+12        5642549      F  2016-04-29T16:19:04Z   \n",
              "3  8.679512e+11        5642828      F  2016-04-29T17:29:31Z   \n",
              "4  8.841186e+12        5642494      F  2016-04-29T16:07:23Z   \n",
              "\n",
              "         AppointmentDay  Age      Neighbourhood  Scholarship  Hipertension  \\\n",
              "0  2016-04-29T00:00:00Z   62    JARDIM DA PENHA            0             1   \n",
              "1  2016-04-29T00:00:00Z   56    JARDIM DA PENHA            0             0   \n",
              "2  2016-04-29T00:00:00Z   62      MATA DA PRAIA            0             0   \n",
              "3  2016-04-29T00:00:00Z    8  PONTAL DE CAMBURI            0             0   \n",
              "4  2016-04-29T00:00:00Z   56    JARDIM DA PENHA            0             1   \n",
              "\n",
              "   Diabetes  Alcoholism  Handcap  SMS_received No-show  \n",
              "0         0           0        0             0      No  \n",
              "1         0           0        0             0      No  \n",
              "2         0           0        0             0      No  \n",
              "3         0           0        0             0      No  \n",
              "4         1           0        0             0      No  "
            ],
            "text/html": [
              "\n",
              "  <div id=\"df-c7e2e3b9-c407-408c-aff6-c8390a815f49\">\n",
              "    <div class=\"colab-df-container\">\n",
              "      <div>\n",
              "<style scoped>\n",
              "    .dataframe tbody tr th:only-of-type {\n",
              "        vertical-align: middle;\n",
              "    }\n",
              "\n",
              "    .dataframe tbody tr th {\n",
              "        vertical-align: top;\n",
              "    }\n",
              "\n",
              "    .dataframe thead th {\n",
              "        text-align: right;\n",
              "    }\n",
              "</style>\n",
              "<table border=\"1\" class=\"dataframe\">\n",
              "  <thead>\n",
              "    <tr style=\"text-align: right;\">\n",
              "      <th></th>\n",
              "      <th>PatientId</th>\n",
              "      <th>AppointmentID</th>\n",
              "      <th>Gender</th>\n",
              "      <th>ScheduledDay</th>\n",
              "      <th>AppointmentDay</th>\n",
              "      <th>Age</th>\n",
              "      <th>Neighbourhood</th>\n",
              "      <th>Scholarship</th>\n",
              "      <th>Hipertension</th>\n",
              "      <th>Diabetes</th>\n",
              "      <th>Alcoholism</th>\n",
              "      <th>Handcap</th>\n",
              "      <th>SMS_received</th>\n",
              "      <th>No-show</th>\n",
              "    </tr>\n",
              "  </thead>\n",
              "  <tbody>\n",
              "    <tr>\n",
              "      <th>0</th>\n",
              "      <td>2.987250e+13</td>\n",
              "      <td>5642903</td>\n",
              "      <td>F</td>\n",
              "      <td>2016-04-29T18:38:08Z</td>\n",
              "      <td>2016-04-29T00:00:00Z</td>\n",
              "      <td>62</td>\n",
              "      <td>JARDIM DA PENHA</td>\n",
              "      <td>0</td>\n",
              "      <td>1</td>\n",
              "      <td>0</td>\n",
              "      <td>0</td>\n",
              "      <td>0</td>\n",
              "      <td>0</td>\n",
              "      <td>No</td>\n",
              "    </tr>\n",
              "    <tr>\n",
              "      <th>1</th>\n",
              "      <td>5.589978e+14</td>\n",
              "      <td>5642503</td>\n",
              "      <td>M</td>\n",
              "      <td>2016-04-29T16:08:27Z</td>\n",
              "      <td>2016-04-29T00:00:00Z</td>\n",
              "      <td>56</td>\n",
              "      <td>JARDIM DA PENHA</td>\n",
              "      <td>0</td>\n",
              "      <td>0</td>\n",
              "      <td>0</td>\n",
              "      <td>0</td>\n",
              "      <td>0</td>\n",
              "      <td>0</td>\n",
              "      <td>No</td>\n",
              "    </tr>\n",
              "    <tr>\n",
              "      <th>2</th>\n",
              "      <td>4.262962e+12</td>\n",
              "      <td>5642549</td>\n",
              "      <td>F</td>\n",
              "      <td>2016-04-29T16:19:04Z</td>\n",
              "      <td>2016-04-29T00:00:00Z</td>\n",
              "      <td>62</td>\n",
              "      <td>MATA DA PRAIA</td>\n",
              "      <td>0</td>\n",
              "      <td>0</td>\n",
              "      <td>0</td>\n",
              "      <td>0</td>\n",
              "      <td>0</td>\n",
              "      <td>0</td>\n",
              "      <td>No</td>\n",
              "    </tr>\n",
              "    <tr>\n",
              "      <th>3</th>\n",
              "      <td>8.679512e+11</td>\n",
              "      <td>5642828</td>\n",
              "      <td>F</td>\n",
              "      <td>2016-04-29T17:29:31Z</td>\n",
              "      <td>2016-04-29T00:00:00Z</td>\n",
              "      <td>8</td>\n",
              "      <td>PONTAL DE CAMBURI</td>\n",
              "      <td>0</td>\n",
              "      <td>0</td>\n",
              "      <td>0</td>\n",
              "      <td>0</td>\n",
              "      <td>0</td>\n",
              "      <td>0</td>\n",
              "      <td>No</td>\n",
              "    </tr>\n",
              "    <tr>\n",
              "      <th>4</th>\n",
              "      <td>8.841186e+12</td>\n",
              "      <td>5642494</td>\n",
              "      <td>F</td>\n",
              "      <td>2016-04-29T16:07:23Z</td>\n",
              "      <td>2016-04-29T00:00:00Z</td>\n",
              "      <td>56</td>\n",
              "      <td>JARDIM DA PENHA</td>\n",
              "      <td>0</td>\n",
              "      <td>1</td>\n",
              "      <td>1</td>\n",
              "      <td>0</td>\n",
              "      <td>0</td>\n",
              "      <td>0</td>\n",
              "      <td>No</td>\n",
              "    </tr>\n",
              "  </tbody>\n",
              "</table>\n",
              "</div>\n",
              "      <button class=\"colab-df-convert\" onclick=\"convertToInteractive('df-c7e2e3b9-c407-408c-aff6-c8390a815f49')\"\n",
              "              title=\"Convert this dataframe to an interactive table.\"\n",
              "              style=\"display:none;\">\n",
              "        \n",
              "  <svg xmlns=\"http://www.w3.org/2000/svg\" height=\"24px\"viewBox=\"0 0 24 24\"\n",
              "       width=\"24px\">\n",
              "    <path d=\"M0 0h24v24H0V0z\" fill=\"none\"/>\n",
              "    <path d=\"M18.56 5.44l.94 2.06.94-2.06 2.06-.94-2.06-.94-.94-2.06-.94 2.06-2.06.94zm-11 1L8.5 8.5l.94-2.06 2.06-.94-2.06-.94L8.5 2.5l-.94 2.06-2.06.94zm10 10l.94 2.06.94-2.06 2.06-.94-2.06-.94-.94-2.06-.94 2.06-2.06.94z\"/><path d=\"M17.41 7.96l-1.37-1.37c-.4-.4-.92-.59-1.43-.59-.52 0-1.04.2-1.43.59L10.3 9.45l-7.72 7.72c-.78.78-.78 2.05 0 2.83L4 21.41c.39.39.9.59 1.41.59.51 0 1.02-.2 1.41-.59l7.78-7.78 2.81-2.81c.8-.78.8-2.07 0-2.86zM5.41 20L4 18.59l7.72-7.72 1.47 1.35L5.41 20z\"/>\n",
              "  </svg>\n",
              "      </button>\n",
              "      \n",
              "  <style>\n",
              "    .colab-df-container {\n",
              "      display:flex;\n",
              "      flex-wrap:wrap;\n",
              "      gap: 12px;\n",
              "    }\n",
              "\n",
              "    .colab-df-convert {\n",
              "      background-color: #E8F0FE;\n",
              "      border: none;\n",
              "      border-radius: 50%;\n",
              "      cursor: pointer;\n",
              "      display: none;\n",
              "      fill: #1967D2;\n",
              "      height: 32px;\n",
              "      padding: 0 0 0 0;\n",
              "      width: 32px;\n",
              "    }\n",
              "\n",
              "    .colab-df-convert:hover {\n",
              "      background-color: #E2EBFA;\n",
              "      box-shadow: 0px 1px 2px rgba(60, 64, 67, 0.3), 0px 1px 3px 1px rgba(60, 64, 67, 0.15);\n",
              "      fill: #174EA6;\n",
              "    }\n",
              "\n",
              "    [theme=dark] .colab-df-convert {\n",
              "      background-color: #3B4455;\n",
              "      fill: #D2E3FC;\n",
              "    }\n",
              "\n",
              "    [theme=dark] .colab-df-convert:hover {\n",
              "      background-color: #434B5C;\n",
              "      box-shadow: 0px 1px 3px 1px rgba(0, 0, 0, 0.15);\n",
              "      filter: drop-shadow(0px 1px 2px rgba(0, 0, 0, 0.3));\n",
              "      fill: #FFFFFF;\n",
              "    }\n",
              "  </style>\n",
              "\n",
              "      <script>\n",
              "        const buttonEl =\n",
              "          document.querySelector('#df-c7e2e3b9-c407-408c-aff6-c8390a815f49 button.colab-df-convert');\n",
              "        buttonEl.style.display =\n",
              "          google.colab.kernel.accessAllowed ? 'block' : 'none';\n",
              "\n",
              "        async function convertToInteractive(key) {\n",
              "          const element = document.querySelector('#df-c7e2e3b9-c407-408c-aff6-c8390a815f49');\n",
              "          const dataTable =\n",
              "            await google.colab.kernel.invokeFunction('convertToInteractive',\n",
              "                                                     [key], {});\n",
              "          if (!dataTable) return;\n",
              "\n",
              "          const docLinkHtml = 'Like what you see? Visit the ' +\n",
              "            '<a target=\"_blank\" href=https://colab.research.google.com/notebooks/data_table.ipynb>data table notebook</a>'\n",
              "            + ' to learn more about interactive tables.';\n",
              "          element.innerHTML = '';\n",
              "          dataTable['output_type'] = 'display_data';\n",
              "          await google.colab.output.renderOutput(dataTable, element);\n",
              "          const docLink = document.createElement('div');\n",
              "          docLink.innerHTML = docLinkHtml;\n",
              "          element.appendChild(docLink);\n",
              "        }\n",
              "      </script>\n",
              "    </div>\n",
              "  </div>\n",
              "  "
            ]
          },
          "metadata": {},
          "execution_count": 7
        }
      ],
      "source": [
        "df = pd.read_csv('noshowappointments-kagglev2-may-2016.csv')\n",
        "df.head()"
      ]
    },
    {
      "cell_type": "code",
      "source": [
        "df.columns"
      ],
      "metadata": {
        "colab": {
          "base_uri": "https://localhost:8080/"
        },
        "id": "yYEkLArsjPQG",
        "outputId": "1c7eeb2e-e98f-4992-b7a7-5169b3da4c4a"
      },
      "execution_count": 8,
      "outputs": [
        {
          "output_type": "execute_result",
          "data": {
            "text/plain": [
              "Index(['PatientId', 'AppointmentID', 'Gender', 'ScheduledDay',\n",
              "       'AppointmentDay', 'Age', 'Neighbourhood', 'Scholarship', 'Hipertension',\n",
              "       'Diabetes', 'Alcoholism', 'Handcap', 'SMS_received', 'No-show'],\n",
              "      dtype='object')"
            ]
          },
          "metadata": {},
          "execution_count": 8
        }
      ]
    },
    {
      "cell_type": "code",
      "source": [
        "# renaming the columns\n",
        "df.rename(columns = \n",
        "          {'PatientId':'Patient_Id','AppointmentID':'Appointment_ID','ScheduledDay':'Scheduled_Day',\n",
        "           'AppointmentDay':'Appointment_Day','No-show':'No_show'}, inplace = True)"
      ],
      "metadata": {
        "id": "HGgr_Ej-jS7G"
      },
      "execution_count": 9,
      "outputs": []
    },
    {
      "cell_type": "code",
      "execution_count": 10,
      "metadata": {
        "colab": {
          "base_uri": "https://localhost:8080/"
        },
        "id": "Ysp3EMSAEC0C",
        "outputId": "45bde5b5-592b-46d4-db14-84af545c67e8"
      },
      "outputs": [
        {
          "output_type": "stream",
          "name": "stdout",
          "text": [
            "<class 'pandas.core.frame.DataFrame'>\n",
            "RangeIndex: 110527 entries, 0 to 110526\n",
            "Data columns (total 14 columns):\n",
            " #   Column           Non-Null Count   Dtype  \n",
            "---  ------           --------------   -----  \n",
            " 0   Patient_Id       110527 non-null  float64\n",
            " 1   Appointment_ID   110527 non-null  int64  \n",
            " 2   Gender           110527 non-null  object \n",
            " 3   Scheduled_Day    110527 non-null  object \n",
            " 4   Appointment_Day  110527 non-null  object \n",
            " 5   Age              110527 non-null  int64  \n",
            " 6   Neighbourhood    110527 non-null  object \n",
            " 7   Scholarship      110527 non-null  int64  \n",
            " 8   Hipertension     110527 non-null  int64  \n",
            " 9   Diabetes         110527 non-null  int64  \n",
            " 10  Alcoholism       110527 non-null  int64  \n",
            " 11  Handcap          110527 non-null  int64  \n",
            " 12  SMS_received     110527 non-null  int64  \n",
            " 13  No_show          110527 non-null  object \n",
            "dtypes: float64(1), int64(8), object(5)\n",
            "memory usage: 11.8+ MB\n"
          ]
        }
      ],
      "source": [
        "df.info()"
      ]
    },
    {
      "cell_type": "code",
      "execution_count": 11,
      "metadata": {
        "id": "ykFzpObwKBmu"
      },
      "outputs": [],
      "source": [
        "df['Scheduled_Day'] = df['Scheduled_Day'].apply(np.datetime64) \n",
        "df['Appointment_Day'] = df['Appointment_Day'].apply(np.datetime64)"
      ]
    },
    {
      "cell_type": "code",
      "execution_count": 12,
      "metadata": {
        "id": "AiBwsojTeWzC"
      },
      "outputs": [],
      "source": [
        "#display(df['ScheduledDay'].dt.year.unique(),\n",
        "#df['AppointmentDay'].dt.year.unique())"
      ]
    },
    {
      "cell_type": "code",
      "execution_count": 13,
      "metadata": {
        "colab": {
          "base_uri": "https://localhost:8080/",
          "height": 564
        },
        "id": "kPwWt8GsEiKN",
        "outputId": "78f3bcda-b4fa-4603-83df-f63e929868cd"
      },
      "outputs": [
        {
          "output_type": "display_data",
          "data": {
            "text/plain": [
              "Patient_Id         0\n",
              "Appointment_ID     0\n",
              "Gender             0\n",
              "Scheduled_Day      0\n",
              "Appointment_Day    0\n",
              "Age                0\n",
              "Neighbourhood      0\n",
              "Scholarship        0\n",
              "Hipertension       0\n",
              "Diabetes           0\n",
              "Alcoholism         0\n",
              "Handcap            0\n",
              "SMS_received       0\n",
              "No_show            0\n",
              "dtype: int64"
            ]
          },
          "metadata": {}
        },
        {
          "output_type": "display_data",
          "data": {
            "text/plain": [
              "Patient_Id         0\n",
              "Appointment_ID     0\n",
              "Gender             0\n",
              "Scheduled_Day      0\n",
              "Appointment_Day    0\n",
              "Age                0\n",
              "Neighbourhood      0\n",
              "Scholarship        0\n",
              "Hipertension       0\n",
              "Diabetes           0\n",
              "Alcoholism         0\n",
              "Handcap            0\n",
              "SMS_received       0\n",
              "No_show            0\n",
              "dtype: int64"
            ]
          },
          "metadata": {}
        }
      ],
      "source": [
        "# checking for missing values in the datasets\n",
        "display(df.isnull().sum(), \n",
        "        df.isna().sum())"
      ]
    },
    {
      "cell_type": "code",
      "execution_count": 14,
      "metadata": {
        "colab": {
          "base_uri": "https://localhost:8080/"
        },
        "id": "rPur9ttzE1LY",
        "outputId": "be89246d-68f2-4daf-cf1f-7710e514531e"
      },
      "outputs": [
        {
          "output_type": "execute_result",
          "data": {
            "text/plain": [
              "(110527, 14)"
            ]
          },
          "metadata": {},
          "execution_count": 14
        }
      ],
      "source": [
        "df.shape"
      ]
    },
    {
      "cell_type": "markdown",
      "source": [
        "Here we can see that from our documentation we see that the dataset is complete where we have 110527 rows and 14 rows"
      ],
      "metadata": {
        "id": "cBQUdvbNDgKU"
      }
    },
    {
      "cell_type": "code",
      "source": [
        "df.nunique()"
      ],
      "metadata": {
        "colab": {
          "base_uri": "https://localhost:8080/"
        },
        "id": "nmmqLvWKDHXP",
        "outputId": "60ba5669-9eca-4df8-ba11-89c228b3bbd0"
      },
      "execution_count": 15,
      "outputs": [
        {
          "output_type": "execute_result",
          "data": {
            "text/plain": [
              "Patient_Id          62299\n",
              "Appointment_ID     110527\n",
              "Gender                  2\n",
              "Scheduled_Day      103549\n",
              "Appointment_Day        27\n",
              "Age                   104\n",
              "Neighbourhood          81\n",
              "Scholarship             2\n",
              "Hipertension            2\n",
              "Diabetes                2\n",
              "Alcoholism              2\n",
              "Handcap                 5\n",
              "SMS_received            2\n",
              "No_show                 2\n",
              "dtype: int64"
            ]
          },
          "metadata": {},
          "execution_count": 15
        }
      ]
    },
    {
      "cell_type": "markdown",
      "source": [
        "information we gather is that looking at the \n",
        "1. patientid their are some patient that make appointedment several time that is the reason why it is not up to the total number\n",
        "2. for the appointmentDay we only have 27 unique number of appointment days\n",
        "3. Scholarship            2(True or false)\n",
        "4. Hipertension           2(True or false)\n",
        "5. Diabetes               2(True or false)\n",
        "6. Alcoholism             2(True or false)\n",
        "7. Handcap                5 this ought to be (True or false) but i am going to look on that\n",
        "8. SMS_received           2(True or false)\n",
        "9. No-show "
      ],
      "metadata": {
        "id": "OjP_CU0YD3mP"
      }
    },
    {
      "cell_type": "code",
      "execution_count": 16,
      "metadata": {
        "colab": {
          "base_uri": "https://localhost:8080/",
          "height": 300
        },
        "id": "fBhxSepoEmv_",
        "outputId": "4f283af0-2913-422b-94a6-eec85a1d4ed0"
      },
      "outputs": [
        {
          "output_type": "execute_result",
          "data": {
            "text/plain": [
              "         Patient_Id  Appointment_ID            Age    Scholarship  \\\n",
              "count  1.105270e+05    1.105270e+05  110527.000000  110527.000000   \n",
              "mean   1.474963e+14    5.675305e+06      37.088874       0.098266   \n",
              "std    2.560949e+14    7.129575e+04      23.110205       0.297675   \n",
              "min    3.921784e+04    5.030230e+06      -1.000000       0.000000   \n",
              "25%    4.172614e+12    5.640286e+06      18.000000       0.000000   \n",
              "50%    3.173184e+13    5.680573e+06      37.000000       0.000000   \n",
              "75%    9.439172e+13    5.725524e+06      55.000000       0.000000   \n",
              "max    9.999816e+14    5.790484e+06     115.000000       1.000000   \n",
              "\n",
              "        Hipertension       Diabetes     Alcoholism        Handcap  \\\n",
              "count  110527.000000  110527.000000  110527.000000  110527.000000   \n",
              "mean        0.197246       0.071865       0.030400       0.022248   \n",
              "std         0.397921       0.258265       0.171686       0.161543   \n",
              "min         0.000000       0.000000       0.000000       0.000000   \n",
              "25%         0.000000       0.000000       0.000000       0.000000   \n",
              "50%         0.000000       0.000000       0.000000       0.000000   \n",
              "75%         0.000000       0.000000       0.000000       0.000000   \n",
              "max         1.000000       1.000000       1.000000       4.000000   \n",
              "\n",
              "        SMS_received  \n",
              "count  110527.000000  \n",
              "mean        0.321026  \n",
              "std         0.466873  \n",
              "min         0.000000  \n",
              "25%         0.000000  \n",
              "50%         0.000000  \n",
              "75%         1.000000  \n",
              "max         1.000000  "
            ],
            "text/html": [
              "\n",
              "  <div id=\"df-11ff925c-7a88-4b5c-83d7-95adbc3dd306\">\n",
              "    <div class=\"colab-df-container\">\n",
              "      <div>\n",
              "<style scoped>\n",
              "    .dataframe tbody tr th:only-of-type {\n",
              "        vertical-align: middle;\n",
              "    }\n",
              "\n",
              "    .dataframe tbody tr th {\n",
              "        vertical-align: top;\n",
              "    }\n",
              "\n",
              "    .dataframe thead th {\n",
              "        text-align: right;\n",
              "    }\n",
              "</style>\n",
              "<table border=\"1\" class=\"dataframe\">\n",
              "  <thead>\n",
              "    <tr style=\"text-align: right;\">\n",
              "      <th></th>\n",
              "      <th>Patient_Id</th>\n",
              "      <th>Appointment_ID</th>\n",
              "      <th>Age</th>\n",
              "      <th>Scholarship</th>\n",
              "      <th>Hipertension</th>\n",
              "      <th>Diabetes</th>\n",
              "      <th>Alcoholism</th>\n",
              "      <th>Handcap</th>\n",
              "      <th>SMS_received</th>\n",
              "    </tr>\n",
              "  </thead>\n",
              "  <tbody>\n",
              "    <tr>\n",
              "      <th>count</th>\n",
              "      <td>1.105270e+05</td>\n",
              "      <td>1.105270e+05</td>\n",
              "      <td>110527.000000</td>\n",
              "      <td>110527.000000</td>\n",
              "      <td>110527.000000</td>\n",
              "      <td>110527.000000</td>\n",
              "      <td>110527.000000</td>\n",
              "      <td>110527.000000</td>\n",
              "      <td>110527.000000</td>\n",
              "    </tr>\n",
              "    <tr>\n",
              "      <th>mean</th>\n",
              "      <td>1.474963e+14</td>\n",
              "      <td>5.675305e+06</td>\n",
              "      <td>37.088874</td>\n",
              "      <td>0.098266</td>\n",
              "      <td>0.197246</td>\n",
              "      <td>0.071865</td>\n",
              "      <td>0.030400</td>\n",
              "      <td>0.022248</td>\n",
              "      <td>0.321026</td>\n",
              "    </tr>\n",
              "    <tr>\n",
              "      <th>std</th>\n",
              "      <td>2.560949e+14</td>\n",
              "      <td>7.129575e+04</td>\n",
              "      <td>23.110205</td>\n",
              "      <td>0.297675</td>\n",
              "      <td>0.397921</td>\n",
              "      <td>0.258265</td>\n",
              "      <td>0.171686</td>\n",
              "      <td>0.161543</td>\n",
              "      <td>0.466873</td>\n",
              "    </tr>\n",
              "    <tr>\n",
              "      <th>min</th>\n",
              "      <td>3.921784e+04</td>\n",
              "      <td>5.030230e+06</td>\n",
              "      <td>-1.000000</td>\n",
              "      <td>0.000000</td>\n",
              "      <td>0.000000</td>\n",
              "      <td>0.000000</td>\n",
              "      <td>0.000000</td>\n",
              "      <td>0.000000</td>\n",
              "      <td>0.000000</td>\n",
              "    </tr>\n",
              "    <tr>\n",
              "      <th>25%</th>\n",
              "      <td>4.172614e+12</td>\n",
              "      <td>5.640286e+06</td>\n",
              "      <td>18.000000</td>\n",
              "      <td>0.000000</td>\n",
              "      <td>0.000000</td>\n",
              "      <td>0.000000</td>\n",
              "      <td>0.000000</td>\n",
              "      <td>0.000000</td>\n",
              "      <td>0.000000</td>\n",
              "    </tr>\n",
              "    <tr>\n",
              "      <th>50%</th>\n",
              "      <td>3.173184e+13</td>\n",
              "      <td>5.680573e+06</td>\n",
              "      <td>37.000000</td>\n",
              "      <td>0.000000</td>\n",
              "      <td>0.000000</td>\n",
              "      <td>0.000000</td>\n",
              "      <td>0.000000</td>\n",
              "      <td>0.000000</td>\n",
              "      <td>0.000000</td>\n",
              "    </tr>\n",
              "    <tr>\n",
              "      <th>75%</th>\n",
              "      <td>9.439172e+13</td>\n",
              "      <td>5.725524e+06</td>\n",
              "      <td>55.000000</td>\n",
              "      <td>0.000000</td>\n",
              "      <td>0.000000</td>\n",
              "      <td>0.000000</td>\n",
              "      <td>0.000000</td>\n",
              "      <td>0.000000</td>\n",
              "      <td>1.000000</td>\n",
              "    </tr>\n",
              "    <tr>\n",
              "      <th>max</th>\n",
              "      <td>9.999816e+14</td>\n",
              "      <td>5.790484e+06</td>\n",
              "      <td>115.000000</td>\n",
              "      <td>1.000000</td>\n",
              "      <td>1.000000</td>\n",
              "      <td>1.000000</td>\n",
              "      <td>1.000000</td>\n",
              "      <td>4.000000</td>\n",
              "      <td>1.000000</td>\n",
              "    </tr>\n",
              "  </tbody>\n",
              "</table>\n",
              "</div>\n",
              "      <button class=\"colab-df-convert\" onclick=\"convertToInteractive('df-11ff925c-7a88-4b5c-83d7-95adbc3dd306')\"\n",
              "              title=\"Convert this dataframe to an interactive table.\"\n",
              "              style=\"display:none;\">\n",
              "        \n",
              "  <svg xmlns=\"http://www.w3.org/2000/svg\" height=\"24px\"viewBox=\"0 0 24 24\"\n",
              "       width=\"24px\">\n",
              "    <path d=\"M0 0h24v24H0V0z\" fill=\"none\"/>\n",
              "    <path d=\"M18.56 5.44l.94 2.06.94-2.06 2.06-.94-2.06-.94-.94-2.06-.94 2.06-2.06.94zm-11 1L8.5 8.5l.94-2.06 2.06-.94-2.06-.94L8.5 2.5l-.94 2.06-2.06.94zm10 10l.94 2.06.94-2.06 2.06-.94-2.06-.94-.94-2.06-.94 2.06-2.06.94z\"/><path d=\"M17.41 7.96l-1.37-1.37c-.4-.4-.92-.59-1.43-.59-.52 0-1.04.2-1.43.59L10.3 9.45l-7.72 7.72c-.78.78-.78 2.05 0 2.83L4 21.41c.39.39.9.59 1.41.59.51 0 1.02-.2 1.41-.59l7.78-7.78 2.81-2.81c.8-.78.8-2.07 0-2.86zM5.41 20L4 18.59l7.72-7.72 1.47 1.35L5.41 20z\"/>\n",
              "  </svg>\n",
              "      </button>\n",
              "      \n",
              "  <style>\n",
              "    .colab-df-container {\n",
              "      display:flex;\n",
              "      flex-wrap:wrap;\n",
              "      gap: 12px;\n",
              "    }\n",
              "\n",
              "    .colab-df-convert {\n",
              "      background-color: #E8F0FE;\n",
              "      border: none;\n",
              "      border-radius: 50%;\n",
              "      cursor: pointer;\n",
              "      display: none;\n",
              "      fill: #1967D2;\n",
              "      height: 32px;\n",
              "      padding: 0 0 0 0;\n",
              "      width: 32px;\n",
              "    }\n",
              "\n",
              "    .colab-df-convert:hover {\n",
              "      background-color: #E2EBFA;\n",
              "      box-shadow: 0px 1px 2px rgba(60, 64, 67, 0.3), 0px 1px 3px 1px rgba(60, 64, 67, 0.15);\n",
              "      fill: #174EA6;\n",
              "    }\n",
              "\n",
              "    [theme=dark] .colab-df-convert {\n",
              "      background-color: #3B4455;\n",
              "      fill: #D2E3FC;\n",
              "    }\n",
              "\n",
              "    [theme=dark] .colab-df-convert:hover {\n",
              "      background-color: #434B5C;\n",
              "      box-shadow: 0px 1px 3px 1px rgba(0, 0, 0, 0.15);\n",
              "      filter: drop-shadow(0px 1px 2px rgba(0, 0, 0, 0.3));\n",
              "      fill: #FFFFFF;\n",
              "    }\n",
              "  </style>\n",
              "\n",
              "      <script>\n",
              "        const buttonEl =\n",
              "          document.querySelector('#df-11ff925c-7a88-4b5c-83d7-95adbc3dd306 button.colab-df-convert');\n",
              "        buttonEl.style.display =\n",
              "          google.colab.kernel.accessAllowed ? 'block' : 'none';\n",
              "\n",
              "        async function convertToInteractive(key) {\n",
              "          const element = document.querySelector('#df-11ff925c-7a88-4b5c-83d7-95adbc3dd306');\n",
              "          const dataTable =\n",
              "            await google.colab.kernel.invokeFunction('convertToInteractive',\n",
              "                                                     [key], {});\n",
              "          if (!dataTable) return;\n",
              "\n",
              "          const docLinkHtml = 'Like what you see? Visit the ' +\n",
              "            '<a target=\"_blank\" href=https://colab.research.google.com/notebooks/data_table.ipynb>data table notebook</a>'\n",
              "            + ' to learn more about interactive tables.';\n",
              "          element.innerHTML = '';\n",
              "          dataTable['output_type'] = 'display_data';\n",
              "          await google.colab.output.renderOutput(dataTable, element);\n",
              "          const docLink = document.createElement('div');\n",
              "          docLink.innerHTML = docLinkHtml;\n",
              "          element.appendChild(docLink);\n",
              "        }\n",
              "      </script>\n",
              "    </div>\n",
              "  </div>\n",
              "  "
            ]
          },
          "metadata": {},
          "execution_count": 16
        }
      ],
      "source": [
        "# show a descriptive statistics of the data 'df'\n",
        "df.describe()"
      ]
    },
    {
      "cell_type": "markdown",
      "source": [
        "Here we notice that the age has a min of -1 and which is not possible for a person to have a negative age"
      ],
      "metadata": {
        "id": "c2EUTvpSFkru"
      }
    },
    {
      "cell_type": "code",
      "execution_count": 17,
      "metadata": {
        "id": "EdCTiOCpeWzE"
      },
      "outputs": [],
      "source": [
        "df.rename(columns= {'Hipertension': 'hypertension', 'Handcap': 'handicap'}, inplace= True)"
      ]
    },
    {
      "cell_type": "markdown",
      "metadata": {
        "id": "LU47hqpDeWzE"
      },
      "source": [
        "* 1.ScheduledDay and AppointmentDay are strings not datetime64 but now have being change to datatime\n",
        "* 2.PatientId is way less than AppointmentId: meaning patient may revisit several times\n",
        "* 3.renamed some columns with typos error such as (Hipertension, Handcap) \n",
        "* 4.Handcap values are (0, 1, 2, 3, 4) stands for different levels of being a Handicap\n",
        "* 6.AppointmentDay does not show the exact time, only the date\n",
        "* 7.Null values does not exists in this dataset"
      ]
    },
    {
      "cell_type": "code",
      "execution_count": 18,
      "metadata": {
        "colab": {
          "base_uri": "https://localhost:8080/",
          "height": 357
        },
        "id": "Wl2omdrRFZEL",
        "outputId": "0bbef20b-28dc-4554-d03e-70a468c45dca",
        "scrolled": true
      },
      "outputs": [
        {
          "output_type": "execute_result",
          "data": {
            "text/plain": [
              "     Patient_Id  Appointment_ID Gender       Scheduled_Day Appointment_Day  \\\n",
              "0  2.987250e+13         5642903      F 2016-04-29 18:38:08      2016-04-29   \n",
              "1  5.589978e+14         5642503      M 2016-04-29 16:08:27      2016-04-29   \n",
              "2  4.262962e+12         5642549      F 2016-04-29 16:19:04      2016-04-29   \n",
              "3  8.679512e+11         5642828      F 2016-04-29 17:29:31      2016-04-29   \n",
              "4  8.841186e+12         5642494      F 2016-04-29 16:07:23      2016-04-29   \n",
              "\n",
              "   Age      Neighbourhood  Scholarship  hypertension  Diabetes  Alcoholism  \\\n",
              "0   62    JARDIM DA PENHA            0             1         0           0   \n",
              "1   56    JARDIM DA PENHA            0             0         0           0   \n",
              "2   62      MATA DA PRAIA            0             0         0           0   \n",
              "3    8  PONTAL DE CAMBURI            0             0         0           0   \n",
              "4   56    JARDIM DA PENHA            0             1         1           0   \n",
              "\n",
              "   handicap  SMS_received No_show  \n",
              "0         0             0      No  \n",
              "1         0             0      No  \n",
              "2         0             0      No  \n",
              "3         0             0      No  \n",
              "4         0             0      No  "
            ],
            "text/html": [
              "\n",
              "  <div id=\"df-84cdaccc-f3e9-41e3-9c50-7815f7e002ce\">\n",
              "    <div class=\"colab-df-container\">\n",
              "      <div>\n",
              "<style scoped>\n",
              "    .dataframe tbody tr th:only-of-type {\n",
              "        vertical-align: middle;\n",
              "    }\n",
              "\n",
              "    .dataframe tbody tr th {\n",
              "        vertical-align: top;\n",
              "    }\n",
              "\n",
              "    .dataframe thead th {\n",
              "        text-align: right;\n",
              "    }\n",
              "</style>\n",
              "<table border=\"1\" class=\"dataframe\">\n",
              "  <thead>\n",
              "    <tr style=\"text-align: right;\">\n",
              "      <th></th>\n",
              "      <th>Patient_Id</th>\n",
              "      <th>Appointment_ID</th>\n",
              "      <th>Gender</th>\n",
              "      <th>Scheduled_Day</th>\n",
              "      <th>Appointment_Day</th>\n",
              "      <th>Age</th>\n",
              "      <th>Neighbourhood</th>\n",
              "      <th>Scholarship</th>\n",
              "      <th>hypertension</th>\n",
              "      <th>Diabetes</th>\n",
              "      <th>Alcoholism</th>\n",
              "      <th>handicap</th>\n",
              "      <th>SMS_received</th>\n",
              "      <th>No_show</th>\n",
              "    </tr>\n",
              "  </thead>\n",
              "  <tbody>\n",
              "    <tr>\n",
              "      <th>0</th>\n",
              "      <td>2.987250e+13</td>\n",
              "      <td>5642903</td>\n",
              "      <td>F</td>\n",
              "      <td>2016-04-29 18:38:08</td>\n",
              "      <td>2016-04-29</td>\n",
              "      <td>62</td>\n",
              "      <td>JARDIM DA PENHA</td>\n",
              "      <td>0</td>\n",
              "      <td>1</td>\n",
              "      <td>0</td>\n",
              "      <td>0</td>\n",
              "      <td>0</td>\n",
              "      <td>0</td>\n",
              "      <td>No</td>\n",
              "    </tr>\n",
              "    <tr>\n",
              "      <th>1</th>\n",
              "      <td>5.589978e+14</td>\n",
              "      <td>5642503</td>\n",
              "      <td>M</td>\n",
              "      <td>2016-04-29 16:08:27</td>\n",
              "      <td>2016-04-29</td>\n",
              "      <td>56</td>\n",
              "      <td>JARDIM DA PENHA</td>\n",
              "      <td>0</td>\n",
              "      <td>0</td>\n",
              "      <td>0</td>\n",
              "      <td>0</td>\n",
              "      <td>0</td>\n",
              "      <td>0</td>\n",
              "      <td>No</td>\n",
              "    </tr>\n",
              "    <tr>\n",
              "      <th>2</th>\n",
              "      <td>4.262962e+12</td>\n",
              "      <td>5642549</td>\n",
              "      <td>F</td>\n",
              "      <td>2016-04-29 16:19:04</td>\n",
              "      <td>2016-04-29</td>\n",
              "      <td>62</td>\n",
              "      <td>MATA DA PRAIA</td>\n",
              "      <td>0</td>\n",
              "      <td>0</td>\n",
              "      <td>0</td>\n",
              "      <td>0</td>\n",
              "      <td>0</td>\n",
              "      <td>0</td>\n",
              "      <td>No</td>\n",
              "    </tr>\n",
              "    <tr>\n",
              "      <th>3</th>\n",
              "      <td>8.679512e+11</td>\n",
              "      <td>5642828</td>\n",
              "      <td>F</td>\n",
              "      <td>2016-04-29 17:29:31</td>\n",
              "      <td>2016-04-29</td>\n",
              "      <td>8</td>\n",
              "      <td>PONTAL DE CAMBURI</td>\n",
              "      <td>0</td>\n",
              "      <td>0</td>\n",
              "      <td>0</td>\n",
              "      <td>0</td>\n",
              "      <td>0</td>\n",
              "      <td>0</td>\n",
              "      <td>No</td>\n",
              "    </tr>\n",
              "    <tr>\n",
              "      <th>4</th>\n",
              "      <td>8.841186e+12</td>\n",
              "      <td>5642494</td>\n",
              "      <td>F</td>\n",
              "      <td>2016-04-29 16:07:23</td>\n",
              "      <td>2016-04-29</td>\n",
              "      <td>56</td>\n",
              "      <td>JARDIM DA PENHA</td>\n",
              "      <td>0</td>\n",
              "      <td>1</td>\n",
              "      <td>1</td>\n",
              "      <td>0</td>\n",
              "      <td>0</td>\n",
              "      <td>0</td>\n",
              "      <td>No</td>\n",
              "    </tr>\n",
              "  </tbody>\n",
              "</table>\n",
              "</div>\n",
              "      <button class=\"colab-df-convert\" onclick=\"convertToInteractive('df-84cdaccc-f3e9-41e3-9c50-7815f7e002ce')\"\n",
              "              title=\"Convert this dataframe to an interactive table.\"\n",
              "              style=\"display:none;\">\n",
              "        \n",
              "  <svg xmlns=\"http://www.w3.org/2000/svg\" height=\"24px\"viewBox=\"0 0 24 24\"\n",
              "       width=\"24px\">\n",
              "    <path d=\"M0 0h24v24H0V0z\" fill=\"none\"/>\n",
              "    <path d=\"M18.56 5.44l.94 2.06.94-2.06 2.06-.94-2.06-.94-.94-2.06-.94 2.06-2.06.94zm-11 1L8.5 8.5l.94-2.06 2.06-.94-2.06-.94L8.5 2.5l-.94 2.06-2.06.94zm10 10l.94 2.06.94-2.06 2.06-.94-2.06-.94-.94-2.06-.94 2.06-2.06.94z\"/><path d=\"M17.41 7.96l-1.37-1.37c-.4-.4-.92-.59-1.43-.59-.52 0-1.04.2-1.43.59L10.3 9.45l-7.72 7.72c-.78.78-.78 2.05 0 2.83L4 21.41c.39.39.9.59 1.41.59.51 0 1.02-.2 1.41-.59l7.78-7.78 2.81-2.81c.8-.78.8-2.07 0-2.86zM5.41 20L4 18.59l7.72-7.72 1.47 1.35L5.41 20z\"/>\n",
              "  </svg>\n",
              "      </button>\n",
              "      \n",
              "  <style>\n",
              "    .colab-df-container {\n",
              "      display:flex;\n",
              "      flex-wrap:wrap;\n",
              "      gap: 12px;\n",
              "    }\n",
              "\n",
              "    .colab-df-convert {\n",
              "      background-color: #E8F0FE;\n",
              "      border: none;\n",
              "      border-radius: 50%;\n",
              "      cursor: pointer;\n",
              "      display: none;\n",
              "      fill: #1967D2;\n",
              "      height: 32px;\n",
              "      padding: 0 0 0 0;\n",
              "      width: 32px;\n",
              "    }\n",
              "\n",
              "    .colab-df-convert:hover {\n",
              "      background-color: #E2EBFA;\n",
              "      box-shadow: 0px 1px 2px rgba(60, 64, 67, 0.3), 0px 1px 3px 1px rgba(60, 64, 67, 0.15);\n",
              "      fill: #174EA6;\n",
              "    }\n",
              "\n",
              "    [theme=dark] .colab-df-convert {\n",
              "      background-color: #3B4455;\n",
              "      fill: #D2E3FC;\n",
              "    }\n",
              "\n",
              "    [theme=dark] .colab-df-convert:hover {\n",
              "      background-color: #434B5C;\n",
              "      box-shadow: 0px 1px 3px 1px rgba(0, 0, 0, 0.15);\n",
              "      filter: drop-shadow(0px 1px 2px rgba(0, 0, 0, 0.3));\n",
              "      fill: #FFFFFF;\n",
              "    }\n",
              "  </style>\n",
              "\n",
              "      <script>\n",
              "        const buttonEl =\n",
              "          document.querySelector('#df-84cdaccc-f3e9-41e3-9c50-7815f7e002ce button.colab-df-convert');\n",
              "        buttonEl.style.display =\n",
              "          google.colab.kernel.accessAllowed ? 'block' : 'none';\n",
              "\n",
              "        async function convertToInteractive(key) {\n",
              "          const element = document.querySelector('#df-84cdaccc-f3e9-41e3-9c50-7815f7e002ce');\n",
              "          const dataTable =\n",
              "            await google.colab.kernel.invokeFunction('convertToInteractive',\n",
              "                                                     [key], {});\n",
              "          if (!dataTable) return;\n",
              "\n",
              "          const docLinkHtml = 'Like what you see? Visit the ' +\n",
              "            '<a target=\"_blank\" href=https://colab.research.google.com/notebooks/data_table.ipynb>data table notebook</a>'\n",
              "            + ' to learn more about interactive tables.';\n",
              "          element.innerHTML = '';\n",
              "          dataTable['output_type'] = 'display_data';\n",
              "          await google.colab.output.renderOutput(dataTable, element);\n",
              "          const docLink = document.createElement('div');\n",
              "          docLink.innerHTML = docLinkHtml;\n",
              "          element.appendChild(docLink);\n",
              "        }\n",
              "      </script>\n",
              "    </div>\n",
              "  </div>\n",
              "  "
            ]
          },
          "metadata": {},
          "execution_count": 18
        }
      ],
      "source": [
        "df.head()"
      ]
    },
    {
      "cell_type": "code",
      "execution_count": 19,
      "metadata": {
        "colab": {
          "base_uri": "https://localhost:8080/"
        },
        "id": "79_8aTIbFEjO",
        "outputId": "a72baca0-c3fe-48c4-90cf-70ba76f3628e",
        "scrolled": true
      },
      "outputs": [
        {
          "output_type": "execute_result",
          "data": {
            "text/plain": [
              "Index(['Patient_Id', 'Appointment_ID', 'Gender', 'Scheduled_Day',\n",
              "       'Appointment_Day', 'Age', 'Neighbourhood', 'Scholarship',\n",
              "       'hypertension', 'Diabetes', 'Alcoholism', 'handicap', 'SMS_received',\n",
              "       'No_show'],\n",
              "      dtype='object')"
            ]
          },
          "metadata": {},
          "execution_count": 19
        }
      ],
      "source": [
        "df.columns"
      ]
    },
    {
      "cell_type": "code",
      "execution_count": 20,
      "metadata": {
        "id": "JivY-PZBeWzF",
        "outputId": "7dfd56b9-95d4-4a3f-ee60-4648e7e47dfe",
        "colab": {
          "base_uri": "https://localhost:8080/"
        }
      },
      "outputs": [
        {
          "output_type": "stream",
          "name": "stdout",
          "text": [
            "Gender ['F' 'M']\n",
            "Scholarship [0 1]\n",
            "hypertension [1 0]\n",
            "Diabetes [0 1]\n",
            "Alcoholic [0 1]\n",
            "Handicap [0 1 2 3 4]\n",
            "SMS recieved [0 1]\n",
            "No Show ['No' 'Yes']\n",
            "Appointment Day ['No' 'Yes']\n",
            "Age [ 62  56   8  76  23  39  21  19  30  29  22  28  54  15  50  40  46   4\n",
            "  13  65  45  51  32  12  61  38  79  18  63  64  85  59  55  71  49  78\n",
            "  31  58  27   6   2  11   7   0   3   1  69  68  60  67  36  10  35  20\n",
            "  26  34  33  16  42   5  47  17  41  44  37  24  66  77  81  70  53  75\n",
            "  73  52  74  43  89  57  14   9  48  83  72  25  80  87  88  84  82  90\n",
            "  94  86  91  98  92  96  93  95  97 102 115 100  99  -1]\n"
          ]
        }
      ],
      "source": [
        "print('Gender', df.Gender.unique())\n",
        "print('Scholarship', df.Scholarship.unique())\n",
        "print('hypertension', df.hypertension.unique())\n",
        "print('Diabetes', df.Diabetes.unique())\n",
        "print('Alcoholic', df.Alcoholism.unique())\n",
        "print('Handicap', df.handicap.unique())\n",
        "print('SMS recieved', df.SMS_received.unique())\n",
        "print('No Show', df['No_show'].unique())\n",
        "print('Appointment Day', df.No_show.unique())\n",
        "print('Age', df.Age.unique())"
      ]
    },
    {
      "cell_type": "markdown",
      "source": [
        "I notice that their is a negative age in the dataset which is not visible for paltient to have and i also limit the age to 100\n",
        "so this analysis is base on age of people from 0-100"
      ],
      "metadata": {
        "id": "ONEWwu4PuSNQ"
      }
    },
    {
      "cell_type": "code",
      "source": [
        "df = df[(df['Age'] >-1) & (df['Age'] <=100)]\n",
        "df.describe()"
      ],
      "metadata": {
        "colab": {
          "base_uri": "https://localhost:8080/",
          "height": 300
        },
        "id": "FF6Z1a-isstN",
        "outputId": "6a9d13c2-3171-43be-f8e8-af099a48618f"
      },
      "execution_count": 21,
      "outputs": [
        {
          "output_type": "execute_result",
          "data": {
            "text/plain": [
              "         Patient_Id  Appointment_ID            Age    Scholarship  \\\n",
              "count  1.105190e+05    1.105190e+05  110519.000000  110519.000000   \n",
              "mean   1.474860e+14    5.675303e+06      37.084519       0.098273   \n",
              "std    2.560826e+14    7.129600e+04      23.103165       0.297684   \n",
              "min    3.921784e+04    5.030230e+06       0.000000       0.000000   \n",
              "25%    4.172457e+12    5.640284e+06      18.000000       0.000000   \n",
              "50%    3.172598e+13    5.680569e+06      37.000000       0.000000   \n",
              "75%    9.438963e+13    5.725522e+06      55.000000       0.000000   \n",
              "max    9.999816e+14    5.790484e+06     100.000000       1.000000   \n",
              "\n",
              "        hypertension       Diabetes     Alcoholism       handicap  \\\n",
              "count  110519.000000  110519.000000  110519.000000  110519.000000   \n",
              "mean        0.197251       0.071870       0.030402       0.022213   \n",
              "std         0.397925       0.258274       0.171692       0.161441   \n",
              "min         0.000000       0.000000       0.000000       0.000000   \n",
              "25%         0.000000       0.000000       0.000000       0.000000   \n",
              "50%         0.000000       0.000000       0.000000       0.000000   \n",
              "75%         0.000000       0.000000       0.000000       0.000000   \n",
              "max         1.000000       1.000000       1.000000       4.000000   \n",
              "\n",
              "        SMS_received  \n",
              "count  110519.000000  \n",
              "mean        0.321040  \n",
              "std         0.466878  \n",
              "min         0.000000  \n",
              "25%         0.000000  \n",
              "50%         0.000000  \n",
              "75%         1.000000  \n",
              "max         1.000000  "
            ],
            "text/html": [
              "\n",
              "  <div id=\"df-eadfe6dc-6178-4f2b-9cdc-3f295be4f592\">\n",
              "    <div class=\"colab-df-container\">\n",
              "      <div>\n",
              "<style scoped>\n",
              "    .dataframe tbody tr th:only-of-type {\n",
              "        vertical-align: middle;\n",
              "    }\n",
              "\n",
              "    .dataframe tbody tr th {\n",
              "        vertical-align: top;\n",
              "    }\n",
              "\n",
              "    .dataframe thead th {\n",
              "        text-align: right;\n",
              "    }\n",
              "</style>\n",
              "<table border=\"1\" class=\"dataframe\">\n",
              "  <thead>\n",
              "    <tr style=\"text-align: right;\">\n",
              "      <th></th>\n",
              "      <th>Patient_Id</th>\n",
              "      <th>Appointment_ID</th>\n",
              "      <th>Age</th>\n",
              "      <th>Scholarship</th>\n",
              "      <th>hypertension</th>\n",
              "      <th>Diabetes</th>\n",
              "      <th>Alcoholism</th>\n",
              "      <th>handicap</th>\n",
              "      <th>SMS_received</th>\n",
              "    </tr>\n",
              "  </thead>\n",
              "  <tbody>\n",
              "    <tr>\n",
              "      <th>count</th>\n",
              "      <td>1.105190e+05</td>\n",
              "      <td>1.105190e+05</td>\n",
              "      <td>110519.000000</td>\n",
              "      <td>110519.000000</td>\n",
              "      <td>110519.000000</td>\n",
              "      <td>110519.000000</td>\n",
              "      <td>110519.000000</td>\n",
              "      <td>110519.000000</td>\n",
              "      <td>110519.000000</td>\n",
              "    </tr>\n",
              "    <tr>\n",
              "      <th>mean</th>\n",
              "      <td>1.474860e+14</td>\n",
              "      <td>5.675303e+06</td>\n",
              "      <td>37.084519</td>\n",
              "      <td>0.098273</td>\n",
              "      <td>0.197251</td>\n",
              "      <td>0.071870</td>\n",
              "      <td>0.030402</td>\n",
              "      <td>0.022213</td>\n",
              "      <td>0.321040</td>\n",
              "    </tr>\n",
              "    <tr>\n",
              "      <th>std</th>\n",
              "      <td>2.560826e+14</td>\n",
              "      <td>7.129600e+04</td>\n",
              "      <td>23.103165</td>\n",
              "      <td>0.297684</td>\n",
              "      <td>0.397925</td>\n",
              "      <td>0.258274</td>\n",
              "      <td>0.171692</td>\n",
              "      <td>0.161441</td>\n",
              "      <td>0.466878</td>\n",
              "    </tr>\n",
              "    <tr>\n",
              "      <th>min</th>\n",
              "      <td>3.921784e+04</td>\n",
              "      <td>5.030230e+06</td>\n",
              "      <td>0.000000</td>\n",
              "      <td>0.000000</td>\n",
              "      <td>0.000000</td>\n",
              "      <td>0.000000</td>\n",
              "      <td>0.000000</td>\n",
              "      <td>0.000000</td>\n",
              "      <td>0.000000</td>\n",
              "    </tr>\n",
              "    <tr>\n",
              "      <th>25%</th>\n",
              "      <td>4.172457e+12</td>\n",
              "      <td>5.640284e+06</td>\n",
              "      <td>18.000000</td>\n",
              "      <td>0.000000</td>\n",
              "      <td>0.000000</td>\n",
              "      <td>0.000000</td>\n",
              "      <td>0.000000</td>\n",
              "      <td>0.000000</td>\n",
              "      <td>0.000000</td>\n",
              "    </tr>\n",
              "    <tr>\n",
              "      <th>50%</th>\n",
              "      <td>3.172598e+13</td>\n",
              "      <td>5.680569e+06</td>\n",
              "      <td>37.000000</td>\n",
              "      <td>0.000000</td>\n",
              "      <td>0.000000</td>\n",
              "      <td>0.000000</td>\n",
              "      <td>0.000000</td>\n",
              "      <td>0.000000</td>\n",
              "      <td>0.000000</td>\n",
              "    </tr>\n",
              "    <tr>\n",
              "      <th>75%</th>\n",
              "      <td>9.438963e+13</td>\n",
              "      <td>5.725522e+06</td>\n",
              "      <td>55.000000</td>\n",
              "      <td>0.000000</td>\n",
              "      <td>0.000000</td>\n",
              "      <td>0.000000</td>\n",
              "      <td>0.000000</td>\n",
              "      <td>0.000000</td>\n",
              "      <td>1.000000</td>\n",
              "    </tr>\n",
              "    <tr>\n",
              "      <th>max</th>\n",
              "      <td>9.999816e+14</td>\n",
              "      <td>5.790484e+06</td>\n",
              "      <td>100.000000</td>\n",
              "      <td>1.000000</td>\n",
              "      <td>1.000000</td>\n",
              "      <td>1.000000</td>\n",
              "      <td>1.000000</td>\n",
              "      <td>4.000000</td>\n",
              "      <td>1.000000</td>\n",
              "    </tr>\n",
              "  </tbody>\n",
              "</table>\n",
              "</div>\n",
              "      <button class=\"colab-df-convert\" onclick=\"convertToInteractive('df-eadfe6dc-6178-4f2b-9cdc-3f295be4f592')\"\n",
              "              title=\"Convert this dataframe to an interactive table.\"\n",
              "              style=\"display:none;\">\n",
              "        \n",
              "  <svg xmlns=\"http://www.w3.org/2000/svg\" height=\"24px\"viewBox=\"0 0 24 24\"\n",
              "       width=\"24px\">\n",
              "    <path d=\"M0 0h24v24H0V0z\" fill=\"none\"/>\n",
              "    <path d=\"M18.56 5.44l.94 2.06.94-2.06 2.06-.94-2.06-.94-.94-2.06-.94 2.06-2.06.94zm-11 1L8.5 8.5l.94-2.06 2.06-.94-2.06-.94L8.5 2.5l-.94 2.06-2.06.94zm10 10l.94 2.06.94-2.06 2.06-.94-2.06-.94-.94-2.06-.94 2.06-2.06.94z\"/><path d=\"M17.41 7.96l-1.37-1.37c-.4-.4-.92-.59-1.43-.59-.52 0-1.04.2-1.43.59L10.3 9.45l-7.72 7.72c-.78.78-.78 2.05 0 2.83L4 21.41c.39.39.9.59 1.41.59.51 0 1.02-.2 1.41-.59l7.78-7.78 2.81-2.81c.8-.78.8-2.07 0-2.86zM5.41 20L4 18.59l7.72-7.72 1.47 1.35L5.41 20z\"/>\n",
              "  </svg>\n",
              "      </button>\n",
              "      \n",
              "  <style>\n",
              "    .colab-df-container {\n",
              "      display:flex;\n",
              "      flex-wrap:wrap;\n",
              "      gap: 12px;\n",
              "    }\n",
              "\n",
              "    .colab-df-convert {\n",
              "      background-color: #E8F0FE;\n",
              "      border: none;\n",
              "      border-radius: 50%;\n",
              "      cursor: pointer;\n",
              "      display: none;\n",
              "      fill: #1967D2;\n",
              "      height: 32px;\n",
              "      padding: 0 0 0 0;\n",
              "      width: 32px;\n",
              "    }\n",
              "\n",
              "    .colab-df-convert:hover {\n",
              "      background-color: #E2EBFA;\n",
              "      box-shadow: 0px 1px 2px rgba(60, 64, 67, 0.3), 0px 1px 3px 1px rgba(60, 64, 67, 0.15);\n",
              "      fill: #174EA6;\n",
              "    }\n",
              "\n",
              "    [theme=dark] .colab-df-convert {\n",
              "      background-color: #3B4455;\n",
              "      fill: #D2E3FC;\n",
              "    }\n",
              "\n",
              "    [theme=dark] .colab-df-convert:hover {\n",
              "      background-color: #434B5C;\n",
              "      box-shadow: 0px 1px 3px 1px rgba(0, 0, 0, 0.15);\n",
              "      filter: drop-shadow(0px 1px 2px rgba(0, 0, 0, 0.3));\n",
              "      fill: #FFFFFF;\n",
              "    }\n",
              "  </style>\n",
              "\n",
              "      <script>\n",
              "        const buttonEl =\n",
              "          document.querySelector('#df-eadfe6dc-6178-4f2b-9cdc-3f295be4f592 button.colab-df-convert');\n",
              "        buttonEl.style.display =\n",
              "          google.colab.kernel.accessAllowed ? 'block' : 'none';\n",
              "\n",
              "        async function convertToInteractive(key) {\n",
              "          const element = document.querySelector('#df-eadfe6dc-6178-4f2b-9cdc-3f295be4f592');\n",
              "          const dataTable =\n",
              "            await google.colab.kernel.invokeFunction('convertToInteractive',\n",
              "                                                     [key], {});\n",
              "          if (!dataTable) return;\n",
              "\n",
              "          const docLinkHtml = 'Like what you see? Visit the ' +\n",
              "            '<a target=\"_blank\" href=https://colab.research.google.com/notebooks/data_table.ipynb>data table notebook</a>'\n",
              "            + ' to learn more about interactive tables.';\n",
              "          element.innerHTML = '';\n",
              "          dataTable['output_type'] = 'display_data';\n",
              "          await google.colab.output.renderOutput(dataTable, element);\n",
              "          const docLink = document.createElement('div');\n",
              "          docLink.innerHTML = docLinkHtml;\n",
              "          element.appendChild(docLink);\n",
              "        }\n",
              "      </script>\n",
              "    </div>\n",
              "  </div>\n",
              "  "
            ]
          },
          "metadata": {},
          "execution_count": 21
        }
      ]
    },
    {
      "cell_type": "markdown",
      "source": [
        "From the descriptions it was told that the Handicap feature aought to be true or false but in our dataset it is more than that so i will be removing that."
      ],
      "metadata": {
        "id": "a9uAXH8vuwfv"
      }
    },
    {
      "cell_type": "code",
      "source": [
        "df  = df[(df['handicap'] <2) ]\n",
        "df.describe()"
      ],
      "metadata": {
        "colab": {
          "base_uri": "https://localhost:8080/",
          "height": 300
        },
        "id": "icCFdHtovHAQ",
        "outputId": "5ce05847-8032-4489-8a7e-f741a597acba"
      },
      "execution_count": 22,
      "outputs": [
        {
          "output_type": "execute_result",
          "data": {
            "text/plain": [
              "         Patient_Id  Appointment_ID            Age    Scholarship  \\\n",
              "count  1.103200e+05    1.103200e+05  110320.000000  110320.000000   \n",
              "mean   1.475170e+14    5.675297e+06      37.066044       0.098287   \n",
              "std    2.561271e+14    7.129939e+04      23.091170       0.297703   \n",
              "min    3.921784e+04    5.030230e+06       0.000000       0.000000   \n",
              "25%    4.174318e+12    5.640276e+06      18.000000       0.000000   \n",
              "50%    3.174698e+13    5.680566e+06      37.000000       0.000000   \n",
              "75%    9.439381e+13    5.725508e+06      55.000000       0.000000   \n",
              "max    9.999816e+14    5.790484e+06     100.000000       1.000000   \n",
              "\n",
              "        hypertension       Diabetes     Alcoholism       handicap  \\\n",
              "count  110320.000000  110320.000000  110320.000000  110320.000000   \n",
              "mean        0.196836       0.071610       0.030384       0.018474   \n",
              "std         0.397609       0.257842       0.171643       0.134657   \n",
              "min         0.000000       0.000000       0.000000       0.000000   \n",
              "25%         0.000000       0.000000       0.000000       0.000000   \n",
              "50%         0.000000       0.000000       0.000000       0.000000   \n",
              "75%         0.000000       0.000000       0.000000       0.000000   \n",
              "max         1.000000       1.000000       1.000000       1.000000   \n",
              "\n",
              "        SMS_received  \n",
              "count  110320.000000  \n",
              "mean        0.321193  \n",
              "std         0.466937  \n",
              "min         0.000000  \n",
              "25%         0.000000  \n",
              "50%         0.000000  \n",
              "75%         1.000000  \n",
              "max         1.000000  "
            ],
            "text/html": [
              "\n",
              "  <div id=\"df-506005f6-9a67-4e42-93ab-942718c740e2\">\n",
              "    <div class=\"colab-df-container\">\n",
              "      <div>\n",
              "<style scoped>\n",
              "    .dataframe tbody tr th:only-of-type {\n",
              "        vertical-align: middle;\n",
              "    }\n",
              "\n",
              "    .dataframe tbody tr th {\n",
              "        vertical-align: top;\n",
              "    }\n",
              "\n",
              "    .dataframe thead th {\n",
              "        text-align: right;\n",
              "    }\n",
              "</style>\n",
              "<table border=\"1\" class=\"dataframe\">\n",
              "  <thead>\n",
              "    <tr style=\"text-align: right;\">\n",
              "      <th></th>\n",
              "      <th>Patient_Id</th>\n",
              "      <th>Appointment_ID</th>\n",
              "      <th>Age</th>\n",
              "      <th>Scholarship</th>\n",
              "      <th>hypertension</th>\n",
              "      <th>Diabetes</th>\n",
              "      <th>Alcoholism</th>\n",
              "      <th>handicap</th>\n",
              "      <th>SMS_received</th>\n",
              "    </tr>\n",
              "  </thead>\n",
              "  <tbody>\n",
              "    <tr>\n",
              "      <th>count</th>\n",
              "      <td>1.103200e+05</td>\n",
              "      <td>1.103200e+05</td>\n",
              "      <td>110320.000000</td>\n",
              "      <td>110320.000000</td>\n",
              "      <td>110320.000000</td>\n",
              "      <td>110320.000000</td>\n",
              "      <td>110320.000000</td>\n",
              "      <td>110320.000000</td>\n",
              "      <td>110320.000000</td>\n",
              "    </tr>\n",
              "    <tr>\n",
              "      <th>mean</th>\n",
              "      <td>1.475170e+14</td>\n",
              "      <td>5.675297e+06</td>\n",
              "      <td>37.066044</td>\n",
              "      <td>0.098287</td>\n",
              "      <td>0.196836</td>\n",
              "      <td>0.071610</td>\n",
              "      <td>0.030384</td>\n",
              "      <td>0.018474</td>\n",
              "      <td>0.321193</td>\n",
              "    </tr>\n",
              "    <tr>\n",
              "      <th>std</th>\n",
              "      <td>2.561271e+14</td>\n",
              "      <td>7.129939e+04</td>\n",
              "      <td>23.091170</td>\n",
              "      <td>0.297703</td>\n",
              "      <td>0.397609</td>\n",
              "      <td>0.257842</td>\n",
              "      <td>0.171643</td>\n",
              "      <td>0.134657</td>\n",
              "      <td>0.466937</td>\n",
              "    </tr>\n",
              "    <tr>\n",
              "      <th>min</th>\n",
              "      <td>3.921784e+04</td>\n",
              "      <td>5.030230e+06</td>\n",
              "      <td>0.000000</td>\n",
              "      <td>0.000000</td>\n",
              "      <td>0.000000</td>\n",
              "      <td>0.000000</td>\n",
              "      <td>0.000000</td>\n",
              "      <td>0.000000</td>\n",
              "      <td>0.000000</td>\n",
              "    </tr>\n",
              "    <tr>\n",
              "      <th>25%</th>\n",
              "      <td>4.174318e+12</td>\n",
              "      <td>5.640276e+06</td>\n",
              "      <td>18.000000</td>\n",
              "      <td>0.000000</td>\n",
              "      <td>0.000000</td>\n",
              "      <td>0.000000</td>\n",
              "      <td>0.000000</td>\n",
              "      <td>0.000000</td>\n",
              "      <td>0.000000</td>\n",
              "    </tr>\n",
              "    <tr>\n",
              "      <th>50%</th>\n",
              "      <td>3.174698e+13</td>\n",
              "      <td>5.680566e+06</td>\n",
              "      <td>37.000000</td>\n",
              "      <td>0.000000</td>\n",
              "      <td>0.000000</td>\n",
              "      <td>0.000000</td>\n",
              "      <td>0.000000</td>\n",
              "      <td>0.000000</td>\n",
              "      <td>0.000000</td>\n",
              "    </tr>\n",
              "    <tr>\n",
              "      <th>75%</th>\n",
              "      <td>9.439381e+13</td>\n",
              "      <td>5.725508e+06</td>\n",
              "      <td>55.000000</td>\n",
              "      <td>0.000000</td>\n",
              "      <td>0.000000</td>\n",
              "      <td>0.000000</td>\n",
              "      <td>0.000000</td>\n",
              "      <td>0.000000</td>\n",
              "      <td>1.000000</td>\n",
              "    </tr>\n",
              "    <tr>\n",
              "      <th>max</th>\n",
              "      <td>9.999816e+14</td>\n",
              "      <td>5.790484e+06</td>\n",
              "      <td>100.000000</td>\n",
              "      <td>1.000000</td>\n",
              "      <td>1.000000</td>\n",
              "      <td>1.000000</td>\n",
              "      <td>1.000000</td>\n",
              "      <td>1.000000</td>\n",
              "      <td>1.000000</td>\n",
              "    </tr>\n",
              "  </tbody>\n",
              "</table>\n",
              "</div>\n",
              "      <button class=\"colab-df-convert\" onclick=\"convertToInteractive('df-506005f6-9a67-4e42-93ab-942718c740e2')\"\n",
              "              title=\"Convert this dataframe to an interactive table.\"\n",
              "              style=\"display:none;\">\n",
              "        \n",
              "  <svg xmlns=\"http://www.w3.org/2000/svg\" height=\"24px\"viewBox=\"0 0 24 24\"\n",
              "       width=\"24px\">\n",
              "    <path d=\"M0 0h24v24H0V0z\" fill=\"none\"/>\n",
              "    <path d=\"M18.56 5.44l.94 2.06.94-2.06 2.06-.94-2.06-.94-.94-2.06-.94 2.06-2.06.94zm-11 1L8.5 8.5l.94-2.06 2.06-.94-2.06-.94L8.5 2.5l-.94 2.06-2.06.94zm10 10l.94 2.06.94-2.06 2.06-.94-2.06-.94-.94-2.06-.94 2.06-2.06.94z\"/><path d=\"M17.41 7.96l-1.37-1.37c-.4-.4-.92-.59-1.43-.59-.52 0-1.04.2-1.43.59L10.3 9.45l-7.72 7.72c-.78.78-.78 2.05 0 2.83L4 21.41c.39.39.9.59 1.41.59.51 0 1.02-.2 1.41-.59l7.78-7.78 2.81-2.81c.8-.78.8-2.07 0-2.86zM5.41 20L4 18.59l7.72-7.72 1.47 1.35L5.41 20z\"/>\n",
              "  </svg>\n",
              "      </button>\n",
              "      \n",
              "  <style>\n",
              "    .colab-df-container {\n",
              "      display:flex;\n",
              "      flex-wrap:wrap;\n",
              "      gap: 12px;\n",
              "    }\n",
              "\n",
              "    .colab-df-convert {\n",
              "      background-color: #E8F0FE;\n",
              "      border: none;\n",
              "      border-radius: 50%;\n",
              "      cursor: pointer;\n",
              "      display: none;\n",
              "      fill: #1967D2;\n",
              "      height: 32px;\n",
              "      padding: 0 0 0 0;\n",
              "      width: 32px;\n",
              "    }\n",
              "\n",
              "    .colab-df-convert:hover {\n",
              "      background-color: #E2EBFA;\n",
              "      box-shadow: 0px 1px 2px rgba(60, 64, 67, 0.3), 0px 1px 3px 1px rgba(60, 64, 67, 0.15);\n",
              "      fill: #174EA6;\n",
              "    }\n",
              "\n",
              "    [theme=dark] .colab-df-convert {\n",
              "      background-color: #3B4455;\n",
              "      fill: #D2E3FC;\n",
              "    }\n",
              "\n",
              "    [theme=dark] .colab-df-convert:hover {\n",
              "      background-color: #434B5C;\n",
              "      box-shadow: 0px 1px 3px 1px rgba(0, 0, 0, 0.15);\n",
              "      filter: drop-shadow(0px 1px 2px rgba(0, 0, 0, 0.3));\n",
              "      fill: #FFFFFF;\n",
              "    }\n",
              "  </style>\n",
              "\n",
              "      <script>\n",
              "        const buttonEl =\n",
              "          document.querySelector('#df-506005f6-9a67-4e42-93ab-942718c740e2 button.colab-df-convert');\n",
              "        buttonEl.style.display =\n",
              "          google.colab.kernel.accessAllowed ? 'block' : 'none';\n",
              "\n",
              "        async function convertToInteractive(key) {\n",
              "          const element = document.querySelector('#df-506005f6-9a67-4e42-93ab-942718c740e2');\n",
              "          const dataTable =\n",
              "            await google.colab.kernel.invokeFunction('convertToInteractive',\n",
              "                                                     [key], {});\n",
              "          if (!dataTable) return;\n",
              "\n",
              "          const docLinkHtml = 'Like what you see? Visit the ' +\n",
              "            '<a target=\"_blank\" href=https://colab.research.google.com/notebooks/data_table.ipynb>data table notebook</a>'\n",
              "            + ' to learn more about interactive tables.';\n",
              "          element.innerHTML = '';\n",
              "          dataTable['output_type'] = 'display_data';\n",
              "          await google.colab.output.renderOutput(dataTable, element);\n",
              "          const docLink = document.createElement('div');\n",
              "          docLink.innerHTML = docLinkHtml;\n",
              "          element.appendChild(docLink);\n",
              "        }\n",
              "      </script>\n",
              "    </div>\n",
              "  </div>\n",
              "  "
            ]
          },
          "metadata": {},
          "execution_count": 22
        }
      ]
    },
    {
      "cell_type": "code",
      "source": [
        "df.shape"
      ],
      "metadata": {
        "colab": {
          "base_uri": "https://localhost:8080/"
        },
        "id": "dGdfMn5KxIxV",
        "outputId": "bd01b8fa-3c4e-4c85-c21e-7ff41e000dd9"
      },
      "execution_count": 23,
      "outputs": [
        {
          "output_type": "execute_result",
          "data": {
            "text/plain": [
              "(110320, 14)"
            ]
          },
          "metadata": {},
          "execution_count": 23
        }
      ]
    },
    {
      "cell_type": "markdown",
      "source": [
        "After removing the anomalies from the data we now have 110320 rows and 14 columns"
      ],
      "metadata": {
        "id": "3TRkuzPqxOMa"
      }
    },
    {
      "cell_type": "markdown",
      "source": [
        "NOTICE:\n",
        "    Before going into Exploratory Data analysis in our No_Show for the appionment \n",
        "   * NO- patient showed-up for their appiontment\n",
        "   * YES- patient that do not showed-up for their appiontment"
      ],
      "metadata": {
        "id": "W12xljqsxloS"
      }
    },
    {
      "cell_type": "code",
      "source": [
        "# changing the values of the columns NO_show  to a more understandable meaning\n",
        "df['No_show'].replace(['No','Yes'],['Showed_up','NShowed_up'], inplace = True)"
      ],
      "metadata": {
        "id": "vHjpLcOGu_57"
      },
      "execution_count": 24,
      "outputs": []
    },
    {
      "cell_type": "code",
      "source": [
        "df['No_show'].value_counts()"
      ],
      "metadata": {
        "colab": {
          "base_uri": "https://localhost:8080/"
        },
        "id": "IOeU5FhiwuHX",
        "outputId": "886ba273-e457-4695-aa2d-e15e9eed47fa"
      },
      "execution_count": 25,
      "outputs": [
        {
          "output_type": "execute_result",
          "data": {
            "text/plain": [
              "Showed_up     88045\n",
              "NShowed_up    22275\n",
              "Name: No_show, dtype: int64"
            ]
          },
          "metadata": {},
          "execution_count": 25
        }
      ]
    },
    {
      "cell_type": "markdown",
      "source": [
        "## Exploratory Data Analysis\n"
      ],
      "metadata": {
        "id": "HCJMjbIS2DQG"
      }
    },
    {
      "cell_type": "code",
      "execution_count": 26,
      "metadata": {
        "colab": {
          "base_uri": "https://localhost:8080/",
          "height": 207
        },
        "id": "lFP5g_1QJc0O",
        "outputId": "8b71267a-599a-45c0-af95-857fb96990a7"
      },
      "outputs": [
        {
          "output_type": "execute_result",
          "data": {
            "text/plain": [
              "            Patient_Id  Appointment_ID  Gender  Scheduled_Day  \\\n",
              "No_show                                                         \n",
              "NShowed_up       22275           22275   22275          22275   \n",
              "Showed_up        88045           88045   88045          88045   \n",
              "\n",
              "            Appointment_Day    Age  Neighbourhood  Scholarship  hypertension  \\\n",
              "No_show                                                                        \n",
              "NShowed_up            22275  22275          22275        22275         22275   \n",
              "Showed_up             88045  88045          88045        88045         88045   \n",
              "\n",
              "            Diabetes  Alcoholism  handicap  SMS_received  \n",
              "No_show                                                   \n",
              "NShowed_up     22275       22275     22275         22275  \n",
              "Showed_up      88045       88045     88045         88045  "
            ],
            "text/html": [
              "\n",
              "  <div id=\"df-76abc52c-b7dd-4498-94a0-f82b31ff91f9\">\n",
              "    <div class=\"colab-df-container\">\n",
              "      <div>\n",
              "<style scoped>\n",
              "    .dataframe tbody tr th:only-of-type {\n",
              "        vertical-align: middle;\n",
              "    }\n",
              "\n",
              "    .dataframe tbody tr th {\n",
              "        vertical-align: top;\n",
              "    }\n",
              "\n",
              "    .dataframe thead th {\n",
              "        text-align: right;\n",
              "    }\n",
              "</style>\n",
              "<table border=\"1\" class=\"dataframe\">\n",
              "  <thead>\n",
              "    <tr style=\"text-align: right;\">\n",
              "      <th></th>\n",
              "      <th>Patient_Id</th>\n",
              "      <th>Appointment_ID</th>\n",
              "      <th>Gender</th>\n",
              "      <th>Scheduled_Day</th>\n",
              "      <th>Appointment_Day</th>\n",
              "      <th>Age</th>\n",
              "      <th>Neighbourhood</th>\n",
              "      <th>Scholarship</th>\n",
              "      <th>hypertension</th>\n",
              "      <th>Diabetes</th>\n",
              "      <th>Alcoholism</th>\n",
              "      <th>handicap</th>\n",
              "      <th>SMS_received</th>\n",
              "    </tr>\n",
              "    <tr>\n",
              "      <th>No_show</th>\n",
              "      <th></th>\n",
              "      <th></th>\n",
              "      <th></th>\n",
              "      <th></th>\n",
              "      <th></th>\n",
              "      <th></th>\n",
              "      <th></th>\n",
              "      <th></th>\n",
              "      <th></th>\n",
              "      <th></th>\n",
              "      <th></th>\n",
              "      <th></th>\n",
              "      <th></th>\n",
              "    </tr>\n",
              "  </thead>\n",
              "  <tbody>\n",
              "    <tr>\n",
              "      <th>NShowed_up</th>\n",
              "      <td>22275</td>\n",
              "      <td>22275</td>\n",
              "      <td>22275</td>\n",
              "      <td>22275</td>\n",
              "      <td>22275</td>\n",
              "      <td>22275</td>\n",
              "      <td>22275</td>\n",
              "      <td>22275</td>\n",
              "      <td>22275</td>\n",
              "      <td>22275</td>\n",
              "      <td>22275</td>\n",
              "      <td>22275</td>\n",
              "      <td>22275</td>\n",
              "    </tr>\n",
              "    <tr>\n",
              "      <th>Showed_up</th>\n",
              "      <td>88045</td>\n",
              "      <td>88045</td>\n",
              "      <td>88045</td>\n",
              "      <td>88045</td>\n",
              "      <td>88045</td>\n",
              "      <td>88045</td>\n",
              "      <td>88045</td>\n",
              "      <td>88045</td>\n",
              "      <td>88045</td>\n",
              "      <td>88045</td>\n",
              "      <td>88045</td>\n",
              "      <td>88045</td>\n",
              "      <td>88045</td>\n",
              "    </tr>\n",
              "  </tbody>\n",
              "</table>\n",
              "</div>\n",
              "      <button class=\"colab-df-convert\" onclick=\"convertToInteractive('df-76abc52c-b7dd-4498-94a0-f82b31ff91f9')\"\n",
              "              title=\"Convert this dataframe to an interactive table.\"\n",
              "              style=\"display:none;\">\n",
              "        \n",
              "  <svg xmlns=\"http://www.w3.org/2000/svg\" height=\"24px\"viewBox=\"0 0 24 24\"\n",
              "       width=\"24px\">\n",
              "    <path d=\"M0 0h24v24H0V0z\" fill=\"none\"/>\n",
              "    <path d=\"M18.56 5.44l.94 2.06.94-2.06 2.06-.94-2.06-.94-.94-2.06-.94 2.06-2.06.94zm-11 1L8.5 8.5l.94-2.06 2.06-.94-2.06-.94L8.5 2.5l-.94 2.06-2.06.94zm10 10l.94 2.06.94-2.06 2.06-.94-2.06-.94-.94-2.06-.94 2.06-2.06.94z\"/><path d=\"M17.41 7.96l-1.37-1.37c-.4-.4-.92-.59-1.43-.59-.52 0-1.04.2-1.43.59L10.3 9.45l-7.72 7.72c-.78.78-.78 2.05 0 2.83L4 21.41c.39.39.9.59 1.41.59.51 0 1.02-.2 1.41-.59l7.78-7.78 2.81-2.81c.8-.78.8-2.07 0-2.86zM5.41 20L4 18.59l7.72-7.72 1.47 1.35L5.41 20z\"/>\n",
              "  </svg>\n",
              "      </button>\n",
              "      \n",
              "  <style>\n",
              "    .colab-df-container {\n",
              "      display:flex;\n",
              "      flex-wrap:wrap;\n",
              "      gap: 12px;\n",
              "    }\n",
              "\n",
              "    .colab-df-convert {\n",
              "      background-color: #E8F0FE;\n",
              "      border: none;\n",
              "      border-radius: 50%;\n",
              "      cursor: pointer;\n",
              "      display: none;\n",
              "      fill: #1967D2;\n",
              "      height: 32px;\n",
              "      padding: 0 0 0 0;\n",
              "      width: 32px;\n",
              "    }\n",
              "\n",
              "    .colab-df-convert:hover {\n",
              "      background-color: #E2EBFA;\n",
              "      box-shadow: 0px 1px 2px rgba(60, 64, 67, 0.3), 0px 1px 3px 1px rgba(60, 64, 67, 0.15);\n",
              "      fill: #174EA6;\n",
              "    }\n",
              "\n",
              "    [theme=dark] .colab-df-convert {\n",
              "      background-color: #3B4455;\n",
              "      fill: #D2E3FC;\n",
              "    }\n",
              "\n",
              "    [theme=dark] .colab-df-convert:hover {\n",
              "      background-color: #434B5C;\n",
              "      box-shadow: 0px 1px 3px 1px rgba(0, 0, 0, 0.15);\n",
              "      filter: drop-shadow(0px 1px 2px rgba(0, 0, 0, 0.3));\n",
              "      fill: #FFFFFF;\n",
              "    }\n",
              "  </style>\n",
              "\n",
              "      <script>\n",
              "        const buttonEl =\n",
              "          document.querySelector('#df-76abc52c-b7dd-4498-94a0-f82b31ff91f9 button.colab-df-convert');\n",
              "        buttonEl.style.display =\n",
              "          google.colab.kernel.accessAllowed ? 'block' : 'none';\n",
              "\n",
              "        async function convertToInteractive(key) {\n",
              "          const element = document.querySelector('#df-76abc52c-b7dd-4498-94a0-f82b31ff91f9');\n",
              "          const dataTable =\n",
              "            await google.colab.kernel.invokeFunction('convertToInteractive',\n",
              "                                                     [key], {});\n",
              "          if (!dataTable) return;\n",
              "\n",
              "          const docLinkHtml = 'Like what you see? Visit the ' +\n",
              "            '<a target=\"_blank\" href=https://colab.research.google.com/notebooks/data_table.ipynb>data table notebook</a>'\n",
              "            + ' to learn more about interactive tables.';\n",
              "          element.innerHTML = '';\n",
              "          dataTable['output_type'] = 'display_data';\n",
              "          await google.colab.output.renderOutput(dataTable, element);\n",
              "          const docLink = document.createElement('div');\n",
              "          docLink.innerHTML = docLinkHtml;\n",
              "          element.appendChild(docLink);\n",
              "        }\n",
              "      </script>\n",
              "    </div>\n",
              "  </div>\n",
              "  "
            ]
          },
          "metadata": {},
          "execution_count": 26
        }
      ],
      "source": [
        "# NO- patient showed-up for their appiontment, YES- patient that do not showed-up for their appiontment based on Gender\n",
        "df.groupby('No_show').count()"
      ]
    },
    {
      "cell_type": "code",
      "source": [
        "# we want to see the ratio of male to female\n",
        "df['Gender'].value_counts()"
      ],
      "metadata": {
        "colab": {
          "base_uri": "https://localhost:8080/"
        },
        "id": "HtcSISYZ2Lyl",
        "outputId": "d258d896-b8a1-4c7c-9d16-76002c2ead67"
      },
      "execution_count": 27,
      "outputs": [
        {
          "output_type": "execute_result",
          "data": {
            "text/plain": [
              "F    71723\n",
              "M    38597\n",
              "Name: Gender, dtype: int64"
            ]
          },
          "metadata": {},
          "execution_count": 27
        }
      ]
    },
    {
      "cell_type": "code",
      "source": [
        "# which ratio of male to female book more appointment\n",
        "df.groupby('Gender').count()"
      ],
      "metadata": {
        "colab": {
          "base_uri": "https://localhost:8080/",
          "height": 207
        },
        "id": "Tt35ik4I4Tay",
        "outputId": "4ba10bad-18e0-4701-b875-e1892bec889c"
      },
      "execution_count": 28,
      "outputs": [
        {
          "output_type": "execute_result",
          "data": {
            "text/plain": [
              "        Patient_Id  Appointment_ID  Scheduled_Day  Appointment_Day    Age  \\\n",
              "Gender                                                                      \n",
              "F            71723           71723          71723            71723  71723   \n",
              "M            38597           38597          38597            38597  38597   \n",
              "\n",
              "        Neighbourhood  Scholarship  hypertension  Diabetes  Alcoholism  \\\n",
              "Gender                                                                   \n",
              "F               71723        71723         71723     71723       71723   \n",
              "M               38597        38597         38597     38597       38597   \n",
              "\n",
              "        handicap  SMS_received  No_show  \n",
              "Gender                                   \n",
              "F          71723         71723    71723  \n",
              "M          38597         38597    38597  "
            ],
            "text/html": [
              "\n",
              "  <div id=\"df-d9f05c76-b4ec-416e-85dc-8c8919301aea\">\n",
              "    <div class=\"colab-df-container\">\n",
              "      <div>\n",
              "<style scoped>\n",
              "    .dataframe tbody tr th:only-of-type {\n",
              "        vertical-align: middle;\n",
              "    }\n",
              "\n",
              "    .dataframe tbody tr th {\n",
              "        vertical-align: top;\n",
              "    }\n",
              "\n",
              "    .dataframe thead th {\n",
              "        text-align: right;\n",
              "    }\n",
              "</style>\n",
              "<table border=\"1\" class=\"dataframe\">\n",
              "  <thead>\n",
              "    <tr style=\"text-align: right;\">\n",
              "      <th></th>\n",
              "      <th>Patient_Id</th>\n",
              "      <th>Appointment_ID</th>\n",
              "      <th>Scheduled_Day</th>\n",
              "      <th>Appointment_Day</th>\n",
              "      <th>Age</th>\n",
              "      <th>Neighbourhood</th>\n",
              "      <th>Scholarship</th>\n",
              "      <th>hypertension</th>\n",
              "      <th>Diabetes</th>\n",
              "      <th>Alcoholism</th>\n",
              "      <th>handicap</th>\n",
              "      <th>SMS_received</th>\n",
              "      <th>No_show</th>\n",
              "    </tr>\n",
              "    <tr>\n",
              "      <th>Gender</th>\n",
              "      <th></th>\n",
              "      <th></th>\n",
              "      <th></th>\n",
              "      <th></th>\n",
              "      <th></th>\n",
              "      <th></th>\n",
              "      <th></th>\n",
              "      <th></th>\n",
              "      <th></th>\n",
              "      <th></th>\n",
              "      <th></th>\n",
              "      <th></th>\n",
              "      <th></th>\n",
              "    </tr>\n",
              "  </thead>\n",
              "  <tbody>\n",
              "    <tr>\n",
              "      <th>F</th>\n",
              "      <td>71723</td>\n",
              "      <td>71723</td>\n",
              "      <td>71723</td>\n",
              "      <td>71723</td>\n",
              "      <td>71723</td>\n",
              "      <td>71723</td>\n",
              "      <td>71723</td>\n",
              "      <td>71723</td>\n",
              "      <td>71723</td>\n",
              "      <td>71723</td>\n",
              "      <td>71723</td>\n",
              "      <td>71723</td>\n",
              "      <td>71723</td>\n",
              "    </tr>\n",
              "    <tr>\n",
              "      <th>M</th>\n",
              "      <td>38597</td>\n",
              "      <td>38597</td>\n",
              "      <td>38597</td>\n",
              "      <td>38597</td>\n",
              "      <td>38597</td>\n",
              "      <td>38597</td>\n",
              "      <td>38597</td>\n",
              "      <td>38597</td>\n",
              "      <td>38597</td>\n",
              "      <td>38597</td>\n",
              "      <td>38597</td>\n",
              "      <td>38597</td>\n",
              "      <td>38597</td>\n",
              "    </tr>\n",
              "  </tbody>\n",
              "</table>\n",
              "</div>\n",
              "      <button class=\"colab-df-convert\" onclick=\"convertToInteractive('df-d9f05c76-b4ec-416e-85dc-8c8919301aea')\"\n",
              "              title=\"Convert this dataframe to an interactive table.\"\n",
              "              style=\"display:none;\">\n",
              "        \n",
              "  <svg xmlns=\"http://www.w3.org/2000/svg\" height=\"24px\"viewBox=\"0 0 24 24\"\n",
              "       width=\"24px\">\n",
              "    <path d=\"M0 0h24v24H0V0z\" fill=\"none\"/>\n",
              "    <path d=\"M18.56 5.44l.94 2.06.94-2.06 2.06-.94-2.06-.94-.94-2.06-.94 2.06-2.06.94zm-11 1L8.5 8.5l.94-2.06 2.06-.94-2.06-.94L8.5 2.5l-.94 2.06-2.06.94zm10 10l.94 2.06.94-2.06 2.06-.94-2.06-.94-.94-2.06-.94 2.06-2.06.94z\"/><path d=\"M17.41 7.96l-1.37-1.37c-.4-.4-.92-.59-1.43-.59-.52 0-1.04.2-1.43.59L10.3 9.45l-7.72 7.72c-.78.78-.78 2.05 0 2.83L4 21.41c.39.39.9.59 1.41.59.51 0 1.02-.2 1.41-.59l7.78-7.78 2.81-2.81c.8-.78.8-2.07 0-2.86zM5.41 20L4 18.59l7.72-7.72 1.47 1.35L5.41 20z\"/>\n",
              "  </svg>\n",
              "      </button>\n",
              "      \n",
              "  <style>\n",
              "    .colab-df-container {\n",
              "      display:flex;\n",
              "      flex-wrap:wrap;\n",
              "      gap: 12px;\n",
              "    }\n",
              "\n",
              "    .colab-df-convert {\n",
              "      background-color: #E8F0FE;\n",
              "      border: none;\n",
              "      border-radius: 50%;\n",
              "      cursor: pointer;\n",
              "      display: none;\n",
              "      fill: #1967D2;\n",
              "      height: 32px;\n",
              "      padding: 0 0 0 0;\n",
              "      width: 32px;\n",
              "    }\n",
              "\n",
              "    .colab-df-convert:hover {\n",
              "      background-color: #E2EBFA;\n",
              "      box-shadow: 0px 1px 2px rgba(60, 64, 67, 0.3), 0px 1px 3px 1px rgba(60, 64, 67, 0.15);\n",
              "      fill: #174EA6;\n",
              "    }\n",
              "\n",
              "    [theme=dark] .colab-df-convert {\n",
              "      background-color: #3B4455;\n",
              "      fill: #D2E3FC;\n",
              "    }\n",
              "\n",
              "    [theme=dark] .colab-df-convert:hover {\n",
              "      background-color: #434B5C;\n",
              "      box-shadow: 0px 1px 3px 1px rgba(0, 0, 0, 0.15);\n",
              "      filter: drop-shadow(0px 1px 2px rgba(0, 0, 0, 0.3));\n",
              "      fill: #FFFFFF;\n",
              "    }\n",
              "  </style>\n",
              "\n",
              "      <script>\n",
              "        const buttonEl =\n",
              "          document.querySelector('#df-d9f05c76-b4ec-416e-85dc-8c8919301aea button.colab-df-convert');\n",
              "        buttonEl.style.display =\n",
              "          google.colab.kernel.accessAllowed ? 'block' : 'none';\n",
              "\n",
              "        async function convertToInteractive(key) {\n",
              "          const element = document.querySelector('#df-d9f05c76-b4ec-416e-85dc-8c8919301aea');\n",
              "          const dataTable =\n",
              "            await google.colab.kernel.invokeFunction('convertToInteractive',\n",
              "                                                     [key], {});\n",
              "          if (!dataTable) return;\n",
              "\n",
              "          const docLinkHtml = 'Like what you see? Visit the ' +\n",
              "            '<a target=\"_blank\" href=https://colab.research.google.com/notebooks/data_table.ipynb>data table notebook</a>'\n",
              "            + ' to learn more about interactive tables.';\n",
              "          element.innerHTML = '';\n",
              "          dataTable['output_type'] = 'display_data';\n",
              "          await google.colab.output.renderOutput(dataTable, element);\n",
              "          const docLink = document.createElement('div');\n",
              "          docLink.innerHTML = docLinkHtml;\n",
              "          element.appendChild(docLink);\n",
              "        }\n",
              "      </script>\n",
              "    </div>\n",
              "  </div>\n",
              "  "
            ]
          },
          "metadata": {},
          "execution_count": 28
        }
      ]
    },
    {
      "cell_type": "markdown",
      "source": [
        "Here we see that more male book more appointment than female in our datasets"
      ],
      "metadata": {
        "id": "l4tC9qX35Y3_"
      }
    },
    {
      "cell_type": "markdown",
      "source": [],
      "metadata": {
        "id": "sLGWsVUwz7-x"
      }
    },
    {
      "cell_type": "code",
      "execution_count": 29,
      "metadata": {
        "id": "fCBfUFPdI-Mx",
        "outputId": "72ac25d3-f53f-404a-88fc-ddb6dd1c1a0e",
        "colab": {
          "base_uri": "https://localhost:8080/"
        }
      },
      "outputs": [
        {
          "output_type": "execute_result",
          "data": {
            "text/plain": [
              "array([ 62,  56,   8,  76,  23,  39,  21,  19,  30,  29,  22,  28,  54,\n",
              "        15,  50,  40,  46,   4,  13,  65,  45,  51,  32,  12,  61,  38,\n",
              "        79,  18,  63,  64,  85,  59,  55,  71,  49,  78,  31,  58,  27,\n",
              "         6,   2,  11,   7,   0,   3,   1,  69,  68,  60,  67,  36,  10,\n",
              "        35,  20,  26,  34,  33,  16,  42,   5,  47,  17,  41,  44,  37,\n",
              "        24,  66,  77,  81,  70,  53,  75,  73,  52,  74,  43,  89,  57,\n",
              "        14,   9,  48,  83,  72,  25,  80,  87,  88,  84,  82,  90,  86,\n",
              "        91,  98,  92,  94,  96,  93,  95,  97, 100,  99])"
            ]
          },
          "metadata": {},
          "execution_count": 29
        }
      ],
      "source": [
        "df['Age'].unique()"
      ]
    },
    {
      "cell_type": "code",
      "execution_count": 30,
      "metadata": {
        "id": "w57XUB9VKNRv"
      },
      "outputs": [],
      "source": [
        "# for further analysis i was able to group the names into different groups\n",
        "df['age_groups'] = pd.cut(df['Age'], bins=[0, 12, 18, 59, np.inf], labels=['child', 'Adolescence', 'Adult', 'Senior Adult'])"
      ]
    },
    {
      "cell_type": "code",
      "execution_count": 31,
      "metadata": {
        "id": "hNKVJItuTWnt",
        "outputId": "422150b3-1e75-4b5f-81a4-ee7f0d2ebbdd",
        "colab": {
          "base_uri": "https://localhost:8080/",
          "height": 1000
        }
      },
      "outputs": [
        {
          "output_type": "display_data",
          "data": {
            "text/plain": [
              "<Figure size 1440x1440 with 12 Axes>"
            ],
            "image/png": "[encoded data removed]"
          },
          "metadata": {
            "needs_background": "light"
          }
        }
      ],
      "source": [
        "# the distribution of the datas in d\n",
        "df.hist(figsize = (20,20));"
      ]
    },
    {
      "cell_type": "code",
      "execution_count": 73,
      "metadata": {
        "id": "i5IheWxueWzH",
        "outputId": "71599b15-b3ec-457c-d407-8dcbd0c110b5",
        "colab": {
          "base_uri": "https://localhost:8080/",
          "height": 428
        }
      },
      "outputs": [
        {
          "output_type": "display_data",
          "data": {
            "text/plain": [
              "<Figure size 432x288 with 1 Axes>"
            ],
            "image/png": "[encoded data removed]"
          },
          "metadata": {
            "needs_background": "light"
          }
        }
      ],
      "source": [
        "df.groupby(['No_show', 'age_groups'])['Alcoholism'].count().plot(kind = \"bar\")\n",
        "plt.legend()\n",
        "plt.ylabel('Count')\n",
        "plt.xlabel('No_show and Age_groups')\n",
        "plt.title('Plotting the value count of No_show and Age_groups');"
      ]
    },
    {
      "cell_type": "markdown",
      "source": [
        "grouping ['Alcoholism']  by 'No_show', 'age_groups'  we can see that more of the adults showed-up followed by the Senior Adult,children and the Adolescence came last"
      ],
      "metadata": {
        "id": "g7dQ3iRM2m1Q"
      }
    },
    {
      "cell_type": "code",
      "execution_count": 72,
      "metadata": {
        "colab": {
          "base_uri": "https://localhost:8080/",
          "height": 484
        },
        "id": "5f2uXL7GSoXM",
        "outputId": "9b173bd6-a795-4ed5-9c9a-674acfff098d",
        "scrolled": true
      },
      "outputs": [
        {
          "output_type": "stream",
          "name": "stderr",
          "text": [
            "/usr/local/lib/python3.7/dist-packages/ipykernel_launcher.py:1: FutureWarning: Indexing with multiple keys (implicitly converted to a tuple of keys) will be deprecated, use a list instead.\n",
            "  \"\"\"Entry point for launching an IPython kernel.\n"
          ]
        },
        {
          "output_type": "display_data",
          "data": {
            "text/plain": [
              "<Figure size 432x288 with 1 Axes>"
            ],
            "image/png": "[encoded data removed]"
          },
          "metadata": {
            "needs_background": "light"
          }
        }
      ],
      "source": [
        "df.groupby(['No_show', 'age_groups'])['Diabetes','Scholarship','hypertension','Alcoholism'].count().plot(kind = \"bar\")\n",
        "plt.legend()\n",
        "plt.ylabel('Count')\n",
        "plt.xlabel('No_show and Age_groups')\n",
        "plt.title('the count of Diabetes,Scholarship,hypertension,Alcoholism grouped by No_show and Age_groups');"
      ]
    },
    {
      "cell_type": "markdown",
      "source": [
        "grouping 'Diabetes','Scholarship','hypertension','Alcoholism by 'No_show', 'age_groups'  we see that considering other factors i.e the 'Diabetes','Scholarship','hypertension','Alcoholism' we can see that the Adult showed up"
      ],
      "metadata": {
        "id": "0QYcRFuf3MB0"
      }
    },
    {
      "cell_type": "markdown",
      "source": [],
      "metadata": {
        "id": "w2U2GZz8y1DR"
      }
    },
    {
      "cell_type": "code",
      "execution_count": 34,
      "metadata": {
        "scrolled": false,
        "id": "GVGl1SakeWzI",
        "outputId": "71a89c32-68c4-4844-d660-133304909611",
        "colab": {
          "base_uri": "https://localhost:8080/",
          "height": 496
        }
      },
      "outputs": [
        {
          "output_type": "display_data",
          "data": {
            "text/plain": [
              "<Figure size 576x576 with 1 Axes>"
            ],
            "image/png": "[encoded data removed]"
          },
          "metadata": {}
        }
      ],
      "source": [
        "df.groupby('No_show')['Gender'].value_counts().plot(kind = 'pie',autopct='%1.1f%%', figsize = (8,8))\n",
        "plt.legend()\n",
        "plt.xlabel('Value Count of Gender')\n",
        "plt.ylabel('No_show ')\n",
        "plt.title('Plotting the count of Gender grouped by No_show ');"
      ]
    },
    {
      "cell_type": "markdown",
      "source": [
        "grouping ['Gender'] by 'No_show' Considering the ratio of male to female we can see that we have more female from both the patient that showed_up for their appointment and those that did not"
      ],
      "metadata": {
        "id": "VNjaHs6f4Fyh"
      }
    },
    {
      "cell_type": "code",
      "source": [
        "df.columns"
      ],
      "metadata": {
        "colab": {
          "base_uri": "https://localhost:8080/"
        },
        "id": "GsG_vPvx5J-P",
        "outputId": "124dc62d-a21b-42d4-8847-a83bdab32667"
      },
      "execution_count": 35,
      "outputs": [
        {
          "output_type": "execute_result",
          "data": {
            "text/plain": [
              "Index(['Patient_Id', 'Appointment_ID', 'Gender', 'Scheduled_Day',\n",
              "       'Appointment_Day', 'Age', 'Neighbourhood', 'Scholarship',\n",
              "       'hypertension', 'Diabetes', 'Alcoholism', 'handicap', 'SMS_received',\n",
              "       'No_show', 'age_groups'],\n",
              "      dtype='object')"
            ]
          },
          "metadata": {},
          "execution_count": 35
        }
      ]
    },
    {
      "cell_type": "code",
      "source": [
        "df.groupby('No_show')['Scholarship'].value_counts().plot(kind = 'pie',autopct='%1.1f%%', figsize = (8,8))\n",
        "plt.legend()\n",
        "plt.xlabel('Value Count of Scholarship')\n",
        "plt.ylabel('No_show ')\n",
        "plt.title('Plotting the count of Scholarship grouped by No_show ');"
      ],
      "metadata": {
        "colab": {
          "base_uri": "https://localhost:8080/",
          "height": 496
        },
        "id": "xqq8i9jr4mn6",
        "outputId": "885c773e-a17a-4e61-fbe2-ff036b93eb6a"
      },
      "execution_count": 36,
      "outputs": [
        {
          "output_type": "display_data",
          "data": {
            "text/plain": [
              "<Figure size 576x576 with 1 Axes>"
            ],
            "image/png": "[encoded data removed]"
          },
          "metadata": {}
        }
      ]
    },
    {
      "cell_type": "code",
      "execution_count": 37,
      "metadata": {
        "id": "pth1YyrreWzI",
        "outputId": "b22372ee-33fb-49d1-b5a9-a3c586bd665c",
        "colab": {
          "base_uri": "https://localhost:8080/"
        }
      },
      "outputs": [
        {
          "output_type": "execute_result",
          "data": {
            "text/plain": [
              "No_show                 \n",
              "NShowed_up  Adult           12715\n",
              "            child            3663\n",
              "            Senior Adult     3220\n",
              "            Adolescence      2038\n",
              "Showed_up   Adult           47692\n",
              "            Senior Adult    17874\n",
              "            child           13812\n",
              "            Adolescence      5767\n",
              "Name: age_groups, dtype: int64"
            ]
          },
          "metadata": {},
          "execution_count": 37
        }
      ],
      "source": [
        "df.groupby('No_show')['age_groups'].value_counts()"
      ]
    },
    {
      "cell_type": "code",
      "execution_count": 38,
      "metadata": {
        "id": "_LE_PETzeWzI",
        "outputId": "7f1fdda3-1b42-4a36-ecc9-3ae095483eec",
        "colab": {
          "base_uri": "https://localhost:8080/",
          "height": 497
        }
      },
      "outputs": [
        {
          "output_type": "display_data",
          "data": {
            "text/plain": [
              "<Figure size 576x576 with 1 Axes>"
            ],
            "image/png": "[encoded data removed]"
          },
          "metadata": {}
        }
      ],
      "source": [
        "df.groupby('No_show')['age_groups'].value_counts().plot(kind = 'pie',autopct='%1.1f%%', figsize = (8,8))\n",
        "plt.legend()\n",
        "plt.xlabel('Value Count of age_groups')\n",
        "plt.ylabel('No_show ')\n",
        "plt.title('Plotting the count of age_groups grouped by No_show ');"
      ]
    },
    {
      "cell_type": "code",
      "execution_count": 39,
      "metadata": {
        "id": "hlsKyAPweWzJ",
        "outputId": "39a5fe25-2eda-4d1a-c419-5c49cc035edb",
        "colab": {
          "base_uri": "https://localhost:8080/"
        }
      },
      "outputs": [
        {
          "output_type": "execute_result",
          "data": {
            "text/plain": [
              "No_show     SMS_received\n",
              "NShowed_up  0               12500\n",
              "            1                9775\n",
              "Showed_up   0               62386\n",
              "            1               25659\n",
              "Name: SMS_received, dtype: int64"
            ]
          },
          "metadata": {},
          "execution_count": 39
        }
      ],
      "source": [
        "df.groupby('No_show')['SMS_received'].value_counts()\n"
      ]
    },
    {
      "cell_type": "code",
      "source": [
        "df.groupby('No_show')['SMS_received'].value_counts().plot(kind = 'pie',autopct='%1.1f%%', figsize = (8,8))\n",
        "plt.legend()\n",
        "plt.xlabel('Value Count of age_SMS_received')\n",
        "plt.ylabel('No_show ')\n",
        "plt.title('Plotting the count of SMS_received grouped by No_show ');"
      ],
      "metadata": {
        "colab": {
          "base_uri": "https://localhost:8080/",
          "height": 497
        },
        "id": "vXz3-PU96EZh",
        "outputId": "4d70c063-60aa-4a14-c935-e392d4d1dbf8"
      },
      "execution_count": 70,
      "outputs": [
        {
          "output_type": "display_data",
          "data": {
            "text/plain": [
              "<Figure size 576x576 with 1 Axes>"
            ],
            "image/png": "[encoded data removed]"
          },
          "metadata": {}
        }
      ]
    },
    {
      "cell_type": "markdown",
      "metadata": {
        "id": "wBy1oeUfeWzJ"
      },
      "source": [
        "we can see from here that most of those people that did not recieve message have more values than those that receive so part of what course people for not showing for their appointment was becuse they did not receive SMS"
      ]
    },
    {
      "cell_type": "code",
      "source": [
        "df['age_groups'].value_counts()"
      ],
      "metadata": {
        "colab": {
          "base_uri": "https://localhost:8080/"
        },
        "id": "majmiw8SHGQY",
        "outputId": "4f796bd4-2ba0-49ae-d1a1-9b7708b109e9"
      },
      "execution_count": 41,
      "outputs": [
        {
          "output_type": "execute_result",
          "data": {
            "text/plain": [
              "Adult           60407\n",
              "Senior Adult    21094\n",
              "child           17475\n",
              "Adolescence      7805\n",
              "Name: age_groups, dtype: int64"
            ]
          },
          "metadata": {},
          "execution_count": 41
        }
      ]
    },
    {
      "cell_type": "code",
      "source": [
        "#finding the values that corrolate together that is the realtionship between them\n",
        "df.corr()"
      ],
      "metadata": {
        "colab": {
          "base_uri": "https://localhost:8080/",
          "height": 331
        },
        "id": "5FfK9iLRKvRK",
        "outputId": "fabb8f0e-9365-4e53-c43d-aec00c21726b"
      },
      "execution_count": 42,
      "outputs": [
        {
          "output_type": "execute_result",
          "data": {
            "text/plain": [
              "                Patient_Id  Appointment_ID       Age  Scholarship  \\\n",
              "Patient_Id        1.000000        0.003903 -0.004269    -0.002693   \n",
              "Appointment_ID    0.003903        1.000000 -0.019272     0.022754   \n",
              "Age              -0.004269       -0.019272  1.000000    -0.092082   \n",
              "Scholarship      -0.002693        0.022754 -0.092082     1.000000   \n",
              "hypertension     -0.006555        0.012770  0.503879    -0.019244   \n",
              "Diabetes          0.001729        0.022779  0.291914    -0.024618   \n",
              "Alcoholism        0.011061        0.033118  0.095754     0.035220   \n",
              "handicap         -0.008067        0.015186  0.081176    -0.009115   \n",
              "SMS_received     -0.009886       -0.256880  0.012853     0.001194   \n",
              "\n",
              "                hypertension  Diabetes  Alcoholism  handicap  SMS_received  \n",
              "Patient_Id         -0.006555  0.001729    0.011061 -0.008067     -0.009886  \n",
              "Appointment_ID      0.012770  0.022779    0.033118  0.015186     -0.256880  \n",
              "Age                 0.503879  0.291914    0.095754  0.081176      0.012853  \n",
              "Scholarship        -0.019244 -0.024618    0.035220 -0.009115      0.001194  \n",
              "hypertension        1.000000  0.432273    0.088087  0.081578     -0.006284  \n",
              "Diabetes            0.432273  1.000000    0.018631  0.054842     -0.014789  \n",
              "Alcoholism          0.088087  0.018631    1.000000  0.003168     -0.026085  \n",
              "handicap            0.081578  0.054842    0.003168  1.000000     -0.023873  \n",
              "SMS_received       -0.006284 -0.014789   -0.026085 -0.023873      1.000000  "
            ],
            "text/html": [
              "\n",
              "  <div id=\"df-f5d65444-ca90-4e34-9265-be3b0585d731\">\n",
              "    <div class=\"colab-df-container\">\n",
              "      <div>\n",
              "<style scoped>\n",
              "    .dataframe tbody tr th:only-of-type {\n",
              "        vertical-align: middle;\n",
              "    }\n",
              "\n",
              "    .dataframe tbody tr th {\n",
              "        vertical-align: top;\n",
              "    }\n",
              "\n",
              "    .dataframe thead th {\n",
              "        text-align: right;\n",
              "    }\n",
              "</style>\n",
              "<table border=\"1\" class=\"dataframe\">\n",
              "  <thead>\n",
              "    <tr style=\"text-align: right;\">\n",
              "      <th></th>\n",
              "      <th>Patient_Id</th>\n",
              "      <th>Appointment_ID</th>\n",
              "      <th>Age</th>\n",
              "      <th>Scholarship</th>\n",
              "      <th>hypertension</th>\n",
              "      <th>Diabetes</th>\n",
              "      <th>Alcoholism</th>\n",
              "      <th>handicap</th>\n",
              "      <th>SMS_received</th>\n",
              "    </tr>\n",
              "  </thead>\n",
              "  <tbody>\n",
              "    <tr>\n",
              "      <th>Patient_Id</th>\n",
              "      <td>1.000000</td>\n",
              "      <td>0.003903</td>\n",
              "      <td>-0.004269</td>\n",
              "      <td>-0.002693</td>\n",
              "      <td>-0.006555</td>\n",
              "      <td>0.001729</td>\n",
              "      <td>0.011061</td>\n",
              "      <td>-0.008067</td>\n",
              "      <td>-0.009886</td>\n",
              "    </tr>\n",
              "    <tr>\n",
              "      <th>Appointment_ID</th>\n",
              "      <td>0.003903</td>\n",
              "      <td>1.000000</td>\n",
              "      <td>-0.019272</td>\n",
              "      <td>0.022754</td>\n",
              "      <td>0.012770</td>\n",
              "      <td>0.022779</td>\n",
              "      <td>0.033118</td>\n",
              "      <td>0.015186</td>\n",
              "      <td>-0.256880</td>\n",
              "    </tr>\n",
              "    <tr>\n",
              "      <th>Age</th>\n",
              "      <td>-0.004269</td>\n",
              "      <td>-0.019272</td>\n",
              "      <td>1.000000</td>\n",
              "      <td>-0.092082</td>\n",
              "      <td>0.503879</td>\n",
              "      <td>0.291914</td>\n",
              "      <td>0.095754</td>\n",
              "      <td>0.081176</td>\n",
              "      <td>0.012853</td>\n",
              "    </tr>\n",
              "    <tr>\n",
              "      <th>Scholarship</th>\n",
              "      <td>-0.002693</td>\n",
              "      <td>0.022754</td>\n",
              "      <td>-0.092082</td>\n",
              "      <td>1.000000</td>\n",
              "      <td>-0.019244</td>\n",
              "      <td>-0.024618</td>\n",
              "      <td>0.035220</td>\n",
              "      <td>-0.009115</td>\n",
              "      <td>0.001194</td>\n",
              "    </tr>\n",
              "    <tr>\n",
              "      <th>hypertension</th>\n",
              "      <td>-0.006555</td>\n",
              "      <td>0.012770</td>\n",
              "      <td>0.503879</td>\n",
              "      <td>-0.019244</td>\n",
              "      <td>1.000000</td>\n",
              "      <td>0.432273</td>\n",
              "      <td>0.088087</td>\n",
              "      <td>0.081578</td>\n",
              "      <td>-0.006284</td>\n",
              "    </tr>\n",
              "    <tr>\n",
              "      <th>Diabetes</th>\n",
              "      <td>0.001729</td>\n",
              "      <td>0.022779</td>\n",
              "      <td>0.291914</td>\n",
              "      <td>-0.024618</td>\n",
              "      <td>0.432273</td>\n",
              "      <td>1.000000</td>\n",
              "      <td>0.018631</td>\n",
              "      <td>0.054842</td>\n",
              "      <td>-0.014789</td>\n",
              "    </tr>\n",
              "    <tr>\n",
              "      <th>Alcoholism</th>\n",
              "      <td>0.011061</td>\n",
              "      <td>0.033118</td>\n",
              "      <td>0.095754</td>\n",
              "      <td>0.035220</td>\n",
              "      <td>0.088087</td>\n",
              "      <td>0.018631</td>\n",
              "      <td>1.000000</td>\n",
              "      <td>0.003168</td>\n",
              "      <td>-0.026085</td>\n",
              "    </tr>\n",
              "    <tr>\n",
              "      <th>handicap</th>\n",
              "      <td>-0.008067</td>\n",
              "      <td>0.015186</td>\n",
              "      <td>0.081176</td>\n",
              "      <td>-0.009115</td>\n",
              "      <td>0.081578</td>\n",
              "      <td>0.054842</td>\n",
              "      <td>0.003168</td>\n",
              "      <td>1.000000</td>\n",
              "      <td>-0.023873</td>\n",
              "    </tr>\n",
              "    <tr>\n",
              "      <th>SMS_received</th>\n",
              "      <td>-0.009886</td>\n",
              "      <td>-0.256880</td>\n",
              "      <td>0.012853</td>\n",
              "      <td>0.001194</td>\n",
              "      <td>-0.006284</td>\n",
              "      <td>-0.014789</td>\n",
              "      <td>-0.026085</td>\n",
              "      <td>-0.023873</td>\n",
              "      <td>1.000000</td>\n",
              "    </tr>\n",
              "  </tbody>\n",
              "</table>\n",
              "</div>\n",
              "      <button class=\"colab-df-convert\" onclick=\"convertToInteractive('df-f5d65444-ca90-4e34-9265-be3b0585d731')\"\n",
              "              title=\"Convert this dataframe to an interactive table.\"\n",
              "              style=\"display:none;\">\n",
              "        \n",
              "  <svg xmlns=\"http://www.w3.org/2000/svg\" height=\"24px\"viewBox=\"0 0 24 24\"\n",
              "       width=\"24px\">\n",
              "    <path d=\"M0 0h24v24H0V0z\" fill=\"none\"/>\n",
              "    <path d=\"M18.56 5.44l.94 2.06.94-2.06 2.06-.94-2.06-.94-.94-2.06-.94 2.06-2.06.94zm-11 1L8.5 8.5l.94-2.06 2.06-.94-2.06-.94L8.5 2.5l-.94 2.06-2.06.94zm10 10l.94 2.06.94-2.06 2.06-.94-2.06-.94-.94-2.06-.94 2.06-2.06.94z\"/><path d=\"M17.41 7.96l-1.37-1.37c-.4-.4-.92-.59-1.43-.59-.52 0-1.04.2-1.43.59L10.3 9.45l-7.72 7.72c-.78.78-.78 2.05 0 2.83L4 21.41c.39.39.9.59 1.41.59.51 0 1.02-.2 1.41-.59l7.78-7.78 2.81-2.81c.8-.78.8-2.07 0-2.86zM5.41 20L4 18.59l7.72-7.72 1.47 1.35L5.41 20z\"/>\n",
              "  </svg>\n",
              "      </button>\n",
              "      \n",
              "  <style>\n",
              "    .colab-df-container {\n",
              "      display:flex;\n",
              "      flex-wrap:wrap;\n",
              "      gap: 12px;\n",
              "    }\n",
              "\n",
              "    .colab-df-convert {\n",
              "      background-color: #E8F0FE;\n",
              "      border: none;\n",
              "      border-radius: 50%;\n",
              "      cursor: pointer;\n",
              "      display: none;\n",
              "      fill: #1967D2;\n",
              "      height: 32px;\n",
              "      padding: 0 0 0 0;\n",
              "      width: 32px;\n",
              "    }\n",
              "\n",
              "    .colab-df-convert:hover {\n",
              "      background-color: #E2EBFA;\n",
              "      box-shadow: 0px 1px 2px rgba(60, 64, 67, 0.3), 0px 1px 3px 1px rgba(60, 64, 67, 0.15);\n",
              "      fill: #174EA6;\n",
              "    }\n",
              "\n",
              "    [theme=dark] .colab-df-convert {\n",
              "      background-color: #3B4455;\n",
              "      fill: #D2E3FC;\n",
              "    }\n",
              "\n",
              "    [theme=dark] .colab-df-convert:hover {\n",
              "      background-color: #434B5C;\n",
              "      box-shadow: 0px 1px 3px 1px rgba(0, 0, 0, 0.15);\n",
              "      filter: drop-shadow(0px 1px 2px rgba(0, 0, 0, 0.3));\n",
              "      fill: #FFFFFF;\n",
              "    }\n",
              "  </style>\n",
              "\n",
              "      <script>\n",
              "        const buttonEl =\n",
              "          document.querySelector('#df-f5d65444-ca90-4e34-9265-be3b0585d731 button.colab-df-convert');\n",
              "        buttonEl.style.display =\n",
              "          google.colab.kernel.accessAllowed ? 'block' : 'none';\n",
              "\n",
              "        async function convertToInteractive(key) {\n",
              "          const element = document.querySelector('#df-f5d65444-ca90-4e34-9265-be3b0585d731');\n",
              "          const dataTable =\n",
              "            await google.colab.kernel.invokeFunction('convertToInteractive',\n",
              "                                                     [key], {});\n",
              "          if (!dataTable) return;\n",
              "\n",
              "          const docLinkHtml = 'Like what you see? Visit the ' +\n",
              "            '<a target=\"_blank\" href=https://colab.research.google.com/notebooks/data_table.ipynb>data table notebook</a>'\n",
              "            + ' to learn more about interactive tables.';\n",
              "          element.innerHTML = '';\n",
              "          dataTable['output_type'] = 'display_data';\n",
              "          await google.colab.output.renderOutput(dataTable, element);\n",
              "          const docLink = document.createElement('div');\n",
              "          docLink.innerHTML = docLinkHtml;\n",
              "          element.appendChild(docLink);\n",
              "        }\n",
              "      </script>\n",
              "    </div>\n",
              "  </div>\n",
              "  "
            ]
          },
          "metadata": {},
          "execution_count": 42
        }
      ]
    },
    {
      "cell_type": "code",
      "source": [
        "plt.figure(figsize=(10,10))\n",
        "sns.heatmap(df.corr(),cbar=True,annot=True,cmap='Blues')"
      ],
      "metadata": {
        "colab": {
          "base_uri": "https://localhost:8080/",
          "height": 684
        },
        "id": "ES7Jsk0AW8WY",
        "outputId": "8a517fac-c45f-402c-df49-6cb01a96dd42"
      },
      "execution_count": 43,
      "outputs": [
        {
          "output_type": "execute_result",
          "data": {
            "text/plain": [
              "<matplotlib.axes._subplots.AxesSubplot at 0x7f876d21fcd0>"
            ]
          },
          "metadata": {},
          "execution_count": 43
        },
        {
          "output_type": "display_data",
          "data": {
            "text/plain": [
              "<Figure size 720x720 with 2 Axes>"
            ],
            "image/png": "[encoded data removed]"
          },
          "metadata": {
            "needs_background": "light"
          }
        }
      ]
    },
    {
      "cell_type": "markdown",
      "source": [
        "Here we can see that age, hypertension have a relationship and Hypertension and Diabetes have a relationship though its not a strong one"
      ],
      "metadata": {
        "id": "W1V31sbR7Y9f"
      }
    },
    {
      "cell_type": "code",
      "source": [
        "df.columns"
      ],
      "metadata": {
        "colab": {
          "base_uri": "https://localhost:8080/"
        },
        "id": "LRTc4W5nbXEH",
        "outputId": "56f36b34-c380-4116-ee10-88cb830f7e25"
      },
      "execution_count": 44,
      "outputs": [
        {
          "output_type": "execute_result",
          "data": {
            "text/plain": [
              "Index(['Patient_Id', 'Appointment_ID', 'Gender', 'Scheduled_Day',\n",
              "       'Appointment_Day', 'Age', 'Neighbourhood', 'Scholarship',\n",
              "       'hypertension', 'Diabetes', 'Alcoholism', 'handicap', 'SMS_received',\n",
              "       'No_show', 'age_groups'],\n",
              "      dtype='object')"
            ]
          },
          "metadata": {},
          "execution_count": 44
        }
      ]
    },
    {
      "cell_type": "code",
      "source": [
        "df.groupby('No_show')['Scholarship'].value_counts()"
      ],
      "metadata": {
        "colab": {
          "base_uri": "https://localhost:8080/"
        },
        "id": "k90HYDF6h6ZD",
        "outputId": "1c789c98-fbe7-4cb2-e221-2035025203bf"
      },
      "execution_count": 45,
      "outputs": [
        {
          "output_type": "execute_result",
          "data": {
            "text/plain": [
              "No_show     Scholarship\n",
              "NShowed_up  0              19698\n",
              "            1               2577\n",
              "Showed_up   0              79779\n",
              "            1               8266\n",
              "Name: Scholarship, dtype: int64"
            ]
          },
          "metadata": {},
          "execution_count": 45
        }
      ]
    },
    {
      "cell_type": "code",
      "source": [
        "df.head(30)"
      ],
      "metadata": {
        "colab": {
          "base_uri": "https://localhost:8080/",
          "height": 1000
        },
        "id": "jFUbKm9Jirtq",
        "outputId": "8039bf50-e614-4798-f5cb-c8e9868e5128"
      },
      "execution_count": 46,
      "outputs": [
        {
          "output_type": "execute_result",
          "data": {
            "text/plain": [
              "      Patient_Id  Appointment_ID Gender       Scheduled_Day Appointment_Day  \\\n",
              "0   2.987250e+13         5642903      F 2016-04-29 18:38:08      2016-04-29   \n",
              "1   5.589978e+14         5642503      M 2016-04-29 16:08:27      2016-04-29   \n",
              "2   4.262962e+12         5642549      F 2016-04-29 16:19:04      2016-04-29   \n",
              "3   8.679512e+11         5642828      F 2016-04-29 17:29:31      2016-04-29   \n",
              "4   8.841186e+12         5642494      F 2016-04-29 16:07:23      2016-04-29   \n",
              "5   9.598513e+13         5626772      F 2016-04-27 08:36:51      2016-04-29   \n",
              "6   7.336882e+14         5630279      F 2016-04-27 15:05:12      2016-04-29   \n",
              "7   3.449833e+12         5630575      F 2016-04-27 15:39:58      2016-04-29   \n",
              "8   5.639473e+13         5638447      F 2016-04-29 08:02:16      2016-04-29   \n",
              "9   7.812456e+13         5629123      F 2016-04-27 12:48:25      2016-04-29   \n",
              "10  7.345362e+14         5630213      F 2016-04-27 14:58:11      2016-04-29   \n",
              "11  7.542951e+12         5620163      M 2016-04-26 08:44:12      2016-04-29   \n",
              "12  5.666548e+14         5634718      F 2016-04-28 11:33:51      2016-04-29   \n",
              "13  9.113946e+14         5636249      M 2016-04-28 14:52:07      2016-04-29   \n",
              "14  9.988472e+13         5633951      F 2016-04-28 10:06:24      2016-04-29   \n",
              "15  9.994839e+10         5620206      F 2016-04-26 08:47:27      2016-04-29   \n",
              "16  8.457439e+13         5633121      M 2016-04-28 08:51:47      2016-04-29   \n",
              "17  1.479497e+13         5633460      F 2016-04-28 09:28:57      2016-04-29   \n",
              "18  1.713538e+13         5621836      F 2016-04-26 10:54:18      2016-04-29   \n",
              "19  7.223289e+12         5640433      F 2016-04-29 10:43:14      2016-04-29   \n",
              "20  6.222575e+14         5626083      F 2016-04-27 07:51:14      2016-04-29   \n",
              "21  1.215484e+13         5628338      F 2016-04-27 10:50:45      2016-04-29   \n",
              "22  8.632298e+14         5616091      M 2016-04-25 13:29:16      2016-04-29   \n",
              "23  2.137540e+14         5634142      F 2016-04-28 10:27:05      2016-04-29   \n",
              "24  8.734858e+12         5641780      F 2016-04-29 14:19:19      2016-04-29   \n",
              "25  5.819370e+12         5624020      M 2016-04-26 15:04:17      2016-04-29   \n",
              "26  2.578785e+10         5641781      F 2016-04-29 14:19:42      2016-04-29   \n",
              "27  1.215484e+13         5628345      F 2016-04-27 10:51:45      2016-04-29   \n",
              "28  5.926172e+12         5642400      M 2016-04-29 15:48:02      2016-04-29   \n",
              "29  1.225776e+12         5642186      F 2016-04-29 15:16:29      2016-04-29   \n",
              "\n",
              "    Age      Neighbourhood  Scholarship  hypertension  Diabetes  Alcoholism  \\\n",
              "0    62    JARDIM DA PENHA            0             1         0           0   \n",
              "1    56    JARDIM DA PENHA            0             0         0           0   \n",
              "2    62      MATA DA PRAIA            0             0         0           0   \n",
              "3     8  PONTAL DE CAMBURI            0             0         0           0   \n",
              "4    56    JARDIM DA PENHA            0             1         1           0   \n",
              "5    76          REPÚBLICA            0             1         0           0   \n",
              "6    23         GOIABEIRAS            0             0         0           0   \n",
              "7    39         GOIABEIRAS            0             0         0           0   \n",
              "8    21         ANDORINHAS            0             0         0           0   \n",
              "9    19          CONQUISTA            0             0         0           0   \n",
              "10   30     NOVA PALESTINA            0             0         0           0   \n",
              "11   29     NOVA PALESTINA            0             0         0           0   \n",
              "12   22     NOVA PALESTINA            1             0         0           0   \n",
              "13   28     NOVA PALESTINA            0             0         0           0   \n",
              "14   54     NOVA PALESTINA            0             0         0           0   \n",
              "15   15     NOVA PALESTINA            0             0         0           0   \n",
              "16   50     NOVA PALESTINA            0             0         0           0   \n",
              "17   40          CONQUISTA            1             0         0           0   \n",
              "18   30     NOVA PALESTINA            1             0         0           0   \n",
              "19   46           DA PENHA            0             0         0           0   \n",
              "20   30     NOVA PALESTINA            0             0         0           0   \n",
              "21    4          CONQUISTA            0             0         0           0   \n",
              "22   13          CONQUISTA            0             0         0           0   \n",
              "23   46          CONQUISTA            0             0         0           0   \n",
              "24   65         TABUAZEIRO            0             0         0           0   \n",
              "25   46          CONQUISTA            0             1         0           0   \n",
              "26   45     BENTO FERREIRA            0             1         0           0   \n",
              "27    4          CONQUISTA            0             0         0           0   \n",
              "28   51          SÃO PEDRO            0             0         0           0   \n",
              "29   32       SANTA MARTHA            0             0         0           0   \n",
              "\n",
              "    handicap  SMS_received     No_show    age_groups  \n",
              "0          0             0   Showed_up  Senior Adult  \n",
              "1          0             0   Showed_up         Adult  \n",
              "2          0             0   Showed_up  Senior Adult  \n",
              "3          0             0   Showed_up         child  \n",
              "4          0             0   Showed_up         Adult  \n",
              "5          0             0   Showed_up  Senior Adult  \n",
              "6          0             0  NShowed_up         Adult  \n",
              "7          0             0  NShowed_up         Adult  \n",
              "8          0             0   Showed_up         Adult  \n",
              "9          0             0   Showed_up         Adult  \n",
              "10         0             0   Showed_up         Adult  \n",
              "11         0             1  NShowed_up         Adult  \n",
              "12         0             0   Showed_up         Adult  \n",
              "13         0             0   Showed_up         Adult  \n",
              "14         0             0   Showed_up         Adult  \n",
              "15         0             1   Showed_up   Adolescence  \n",
              "16         0             0   Showed_up         Adult  \n",
              "17         0             0  NShowed_up         Adult  \n",
              "18         0             1   Showed_up         Adult  \n",
              "19         0             0   Showed_up         Adult  \n",
              "20         0             0  NShowed_up         Adult  \n",
              "21         0             0  NShowed_up         child  \n",
              "22         0             1  NShowed_up   Adolescence  \n",
              "23         0             0   Showed_up         Adult  \n",
              "24         0             0   Showed_up  Senior Adult  \n",
              "25         0             1   Showed_up         Adult  \n",
              "26         0             0   Showed_up         Adult  \n",
              "27         0             0   Showed_up         child  \n",
              "28         0             0   Showed_up         Adult  \n",
              "29         0             0   Showed_up         Adult  "
            ],
            "text/html": [
              "\n",
              "  <div id=\"df-ad20924a-77f1-4ce9-bd14-c3c4f8f901c7\">\n",
              "    <div class=\"colab-df-container\">\n",
              "      <div>\n",
              "<style scoped>\n",
              "    .dataframe tbody tr th:only-of-type {\n",
              "        vertical-align: middle;\n",
              "    }\n",
              "\n",
              "    .dataframe tbody tr th {\n",
              "        vertical-align: top;\n",
              "    }\n",
              "\n",
              "    .dataframe thead th {\n",
              "        text-align: right;\n",
              "    }\n",
              "</style>\n",
              "<table border=\"1\" class=\"dataframe\">\n",
              "  <thead>\n",
              "    <tr style=\"text-align: right;\">\n",
              "      <th></th>\n",
              "      <th>Patient_Id</th>\n",
              "      <th>Appointment_ID</th>\n",
              "      <th>Gender</th>\n",
              "      <th>Scheduled_Day</th>\n",
              "      <th>Appointment_Day</th>\n",
              "      <th>Age</th>\n",
              "      <th>Neighbourhood</th>\n",
              "      <th>Scholarship</th>\n",
              "      <th>hypertension</th>\n",
              "      <th>Diabetes</th>\n",
              "      <th>Alcoholism</th>\n",
              "      <th>handicap</th>\n",
              "      <th>SMS_received</th>\n",
              "      <th>No_show</th>\n",
              "      <th>age_groups</th>\n",
              "    </tr>\n",
              "  </thead>\n",
              "  <tbody>\n",
              "    <tr>\n",
              "      <th>0</th>\n",
              "      <td>2.987250e+13</td>\n",
              "      <td>5642903</td>\n",
              "      <td>F</td>\n",
              "      <td>2016-04-29 18:38:08</td>\n",
              "      <td>2016-04-29</td>\n",
              "      <td>62</td>\n",
              "      <td>JARDIM DA PENHA</td>\n",
              "      <td>0</td>\n",
              "      <td>1</td>\n",
              "      <td>0</td>\n",
              "      <td>0</td>\n",
              "      <td>0</td>\n",
              "      <td>0</td>\n",
              "      <td>Showed_up</td>\n",
              "      <td>Senior Adult</td>\n",
              "    </tr>\n",
              "    <tr>\n",
              "      <th>1</th>\n",
              "      <td>5.589978e+14</td>\n",
              "      <td>5642503</td>\n",
              "      <td>M</td>\n",
              "      <td>2016-04-29 16:08:27</td>\n",
              "      <td>2016-04-29</td>\n",
              "      <td>56</td>\n",
              "      <td>JARDIM DA PENHA</td>\n",
              "      <td>0</td>\n",
              "      <td>0</td>\n",
              "      <td>0</td>\n",
              "      <td>0</td>\n",
              "      <td>0</td>\n",
              "      <td>0</td>\n",
              "      <td>Showed_up</td>\n",
              "      <td>Adult</td>\n",
              "    </tr>\n",
              "    <tr>\n",
              "      <th>2</th>\n",
              "      <td>4.262962e+12</td>\n",
              "      <td>5642549</td>\n",
              "      <td>F</td>\n",
              "      <td>2016-04-29 16:19:04</td>\n",
              "      <td>2016-04-29</td>\n",
              "      <td>62</td>\n",
              "      <td>MATA DA PRAIA</td>\n",
              "      <td>0</td>\n",
              "      <td>0</td>\n",
              "      <td>0</td>\n",
              "      <td>0</td>\n",
              "      <td>0</td>\n",
              "      <td>0</td>\n",
              "      <td>Showed_up</td>\n",
              "      <td>Senior Adult</td>\n",
              "    </tr>\n",
              "    <tr>\n",
              "      <th>3</th>\n",
              "      <td>8.679512e+11</td>\n",
              "      <td>5642828</td>\n",
              "      <td>F</td>\n",
              "      <td>2016-04-29 17:29:31</td>\n",
              "      <td>2016-04-29</td>\n",
              "      <td>8</td>\n",
              "      <td>PONTAL DE CAMBURI</td>\n",
              "      <td>0</td>\n",
              "      <td>0</td>\n",
              "      <td>0</td>\n",
              "      <td>0</td>\n",
              "      <td>0</td>\n",
              "      <td>0</td>\n",
              "      <td>Showed_up</td>\n",
              "      <td>child</td>\n",
              "    </tr>\n",
              "    <tr>\n",
              "      <th>4</th>\n",
              "      <td>8.841186e+12</td>\n",
              "      <td>5642494</td>\n",
              "      <td>F</td>\n",
              "      <td>2016-04-29 16:07:23</td>\n",
              "      <td>2016-04-29</td>\n",
              "      <td>56</td>\n",
              "      <td>JARDIM DA PENHA</td>\n",
              "      <td>0</td>\n",
              "      <td>1</td>\n",
              "      <td>1</td>\n",
              "      <td>0</td>\n",
              "      <td>0</td>\n",
              "      <td>0</td>\n",
              "      <td>Showed_up</td>\n",
              "      <td>Adult</td>\n",
              "    </tr>\n",
              "    <tr>\n",
              "      <th>5</th>\n",
              "      <td>9.598513e+13</td>\n",
              "      <td>5626772</td>\n",
              "      <td>F</td>\n",
              "      <td>2016-04-27 08:36:51</td>\n",
              "      <td>2016-04-29</td>\n",
              "      <td>76</td>\n",
              "      <td>REPÚBLICA</td>\n",
              "      <td>0</td>\n",
              "      <td>1</td>\n",
              "      <td>0</td>\n",
              "      <td>0</td>\n",
              "      <td>0</td>\n",
              "      <td>0</td>\n",
              "      <td>Showed_up</td>\n",
              "      <td>Senior Adult</td>\n",
              "    </tr>\n",
              "    <tr>\n",
              "      <th>6</th>\n",
              "      <td>7.336882e+14</td>\n",
              "      <td>5630279</td>\n",
              "      <td>F</td>\n",
              "      <td>2016-04-27 15:05:12</td>\n",
              "      <td>2016-04-29</td>\n",
              "      <td>23</td>\n",
              "      <td>GOIABEIRAS</td>\n",
              "      <td>0</td>\n",
              "      <td>0</td>\n",
              "      <td>0</td>\n",
              "      <td>0</td>\n",
              "      <td>0</td>\n",
              "      <td>0</td>\n",
              "      <td>NShowed_up</td>\n",
              "      <td>Adult</td>\n",
              "    </tr>\n",
              "    <tr>\n",
              "      <th>7</th>\n",
              "      <td>3.449833e+12</td>\n",
              "      <td>5630575</td>\n",
              "      <td>F</td>\n",
              "      <td>2016-04-27 15:39:58</td>\n",
              "      <td>2016-04-29</td>\n",
              "      <td>39</td>\n",
              "      <td>GOIABEIRAS</td>\n",
              "      <td>0</td>\n",
              "      <td>0</td>\n",
              "      <td>0</td>\n",
              "      <td>0</td>\n",
              "      <td>0</td>\n",
              "      <td>0</td>\n",
              "      <td>NShowed_up</td>\n",
              "      <td>Adult</td>\n",
              "    </tr>\n",
              "    <tr>\n",
              "      <th>8</th>\n",
              "      <td>5.639473e+13</td>\n",
              "      <td>5638447</td>\n",
              "      <td>F</td>\n",
              "      <td>2016-04-29 08:02:16</td>\n",
              "      <td>2016-04-29</td>\n",
              "      <td>21</td>\n",
              "      <td>ANDORINHAS</td>\n",
              "      <td>0</td>\n",
              "      <td>0</td>\n",
              "      <td>0</td>\n",
              "      <td>0</td>\n",
              "      <td>0</td>\n",
              "      <td>0</td>\n",
              "      <td>Showed_up</td>\n",
              "      <td>Adult</td>\n",
              "    </tr>\n",
              "    <tr>\n",
              "      <th>9</th>\n",
              "      <td>7.812456e+13</td>\n",
              "      <td>5629123</td>\n",
              "      <td>F</td>\n",
              "      <td>2016-04-27 12:48:25</td>\n",
              "      <td>2016-04-29</td>\n",
              "      <td>19</td>\n",
              "      <td>CONQUISTA</td>\n",
              "      <td>0</td>\n",
              "      <td>0</td>\n",
              "      <td>0</td>\n",
              "      <td>0</td>\n",
              "      <td>0</td>\n",
              "      <td>0</td>\n",
              "      <td>Showed_up</td>\n",
              "      <td>Adult</td>\n",
              "    </tr>\n",
              "    <tr>\n",
              "      <th>10</th>\n",
              "      <td>7.345362e+14</td>\n",
              "      <td>5630213</td>\n",
              "      <td>F</td>\n",
              "      <td>2016-04-27 14:58:11</td>\n",
              "      <td>2016-04-29</td>\n",
              "      <td>30</td>\n",
              "      <td>NOVA PALESTINA</td>\n",
              "      <td>0</td>\n",
              "      <td>0</td>\n",
              "      <td>0</td>\n",
              "      <td>0</td>\n",
              "      <td>0</td>\n",
              "      <td>0</td>\n",
              "      <td>Showed_up</td>\n",
              "      <td>Adult</td>\n",
              "    </tr>\n",
              "    <tr>\n",
              "      <th>11</th>\n",
              "      <td>7.542951e+12</td>\n",
              "      <td>5620163</td>\n",
              "      <td>M</td>\n",
              "      <td>2016-04-26 08:44:12</td>\n",
              "      <td>2016-04-29</td>\n",
              "      <td>29</td>\n",
              "      <td>NOVA PALESTINA</td>\n",
              "      <td>0</td>\n",
              "      <td>0</td>\n",
              "      <td>0</td>\n",
              "      <td>0</td>\n",
              "      <td>0</td>\n",
              "      <td>1</td>\n",
              "      <td>NShowed_up</td>\n",
              "      <td>Adult</td>\n",
              "    </tr>\n",
              "    <tr>\n",
              "      <th>12</th>\n",
              "      <td>5.666548e+14</td>\n",
              "      <td>5634718</td>\n",
              "      <td>F</td>\n",
              "      <td>2016-04-28 11:33:51</td>\n",
              "      <td>2016-04-29</td>\n",
              "      <td>22</td>\n",
              "      <td>NOVA PALESTINA</td>\n",
              "      <td>1</td>\n",
              "      <td>0</td>\n",
              "      <td>0</td>\n",
              "      <td>0</td>\n",
              "      <td>0</td>\n",
              "      <td>0</td>\n",
              "      <td>Showed_up</td>\n",
              "      <td>Adult</td>\n",
              "    </tr>\n",
              "    <tr>\n",
              "      <th>13</th>\n",
              "      <td>9.113946e+14</td>\n",
              "      <td>5636249</td>\n",
              "      <td>M</td>\n",
              "      <td>2016-04-28 14:52:07</td>\n",
              "      <td>2016-04-29</td>\n",
              "      <td>28</td>\n",
              "      <td>NOVA PALESTINA</td>\n",
              "      <td>0</td>\n",
              "      <td>0</td>\n",
              "      <td>0</td>\n",
              "      <td>0</td>\n",
              "      <td>0</td>\n",
              "      <td>0</td>\n",
              "      <td>Showed_up</td>\n",
              "      <td>Adult</td>\n",
              "    </tr>\n",
              "    <tr>\n",
              "      <th>14</th>\n",
              "      <td>9.988472e+13</td>\n",
              "      <td>5633951</td>\n",
              "      <td>F</td>\n",
              "      <td>2016-04-28 10:06:24</td>\n",
              "      <td>2016-04-29</td>\n",
              "      <td>54</td>\n",
              "      <td>NOVA PALESTINA</td>\n",
              "      <td>0</td>\n",
              "      <td>0</td>\n",
              "      <td>0</td>\n",
              "      <td>0</td>\n",
              "      <td>0</td>\n",
              "      <td>0</td>\n",
              "      <td>Showed_up</td>\n",
              "      <td>Adult</td>\n",
              "    </tr>\n",
              "    <tr>\n",
              "      <th>15</th>\n",
              "      <td>9.994839e+10</td>\n",
              "      <td>5620206</td>\n",
              "      <td>F</td>\n",
              "      <td>2016-04-26 08:47:27</td>\n",
              "      <td>2016-04-29</td>\n",
              "      <td>15</td>\n",
              "      <td>NOVA PALESTINA</td>\n",
              "      <td>0</td>\n",
              "      <td>0</td>\n",
              "      <td>0</td>\n",
              "      <td>0</td>\n",
              "      <td>0</td>\n",
              "      <td>1</td>\n",
              "      <td>Showed_up</td>\n",
              "      <td>Adolescence</td>\n",
              "    </tr>\n",
              "    <tr>\n",
              "      <th>16</th>\n",
              "      <td>8.457439e+13</td>\n",
              "      <td>5633121</td>\n",
              "      <td>M</td>\n",
              "      <td>2016-04-28 08:51:47</td>\n",
              "      <td>2016-04-29</td>\n",
              "      <td>50</td>\n",
              "      <td>NOVA PALESTINA</td>\n",
              "      <td>0</td>\n",
              "      <td>0</td>\n",
              "      <td>0</td>\n",
              "      <td>0</td>\n",
              "      <td>0</td>\n",
              "      <td>0</td>\n",
              "      <td>Showed_up</td>\n",
              "      <td>Adult</td>\n",
              "    </tr>\n",
              "    <tr>\n",
              "      <th>17</th>\n",
              "      <td>1.479497e+13</td>\n",
              "      <td>5633460</td>\n",
              "      <td>F</td>\n",
              "      <td>2016-04-28 09:28:57</td>\n",
              "      <td>2016-04-29</td>\n",
              "      <td>40</td>\n",
              "      <td>CONQUISTA</td>\n",
              "      <td>1</td>\n",
              "      <td>0</td>\n",
              "      <td>0</td>\n",
              "      <td>0</td>\n",
              "      <td>0</td>\n",
              "      <td>0</td>\n",
              "      <td>NShowed_up</td>\n",
              "      <td>Adult</td>\n",
              "    </tr>\n",
              "    <tr>\n",
              "      <th>18</th>\n",
              "      <td>1.713538e+13</td>\n",
              "      <td>5621836</td>\n",
              "      <td>F</td>\n",
              "      <td>2016-04-26 10:54:18</td>\n",
              "      <td>2016-04-29</td>\n",
              "      <td>30</td>\n",
              "      <td>NOVA PALESTINA</td>\n",
              "      <td>1</td>\n",
              "      <td>0</td>\n",
              "      <td>0</td>\n",
              "      <td>0</td>\n",
              "      <td>0</td>\n",
              "      <td>1</td>\n",
              "      <td>Showed_up</td>\n",
              "      <td>Adult</td>\n",
              "    </tr>\n",
              "    <tr>\n",
              "      <th>19</th>\n",
              "      <td>7.223289e+12</td>\n",
              "      <td>5640433</td>\n",
              "      <td>F</td>\n",
              "      <td>2016-04-29 10:43:14</td>\n",
              "      <td>2016-04-29</td>\n",
              "      <td>46</td>\n",
              "      <td>DA PENHA</td>\n",
              "      <td>0</td>\n",
              "      <td>0</td>\n",
              "      <td>0</td>\n",
              "      <td>0</td>\n",
              "      <td>0</td>\n",
              "      <td>0</td>\n",
              "      <td>Showed_up</td>\n",
              "      <td>Adult</td>\n",
              "    </tr>\n",
              "    <tr>\n",
              "      <th>20</th>\n",
              "      <td>6.222575e+14</td>\n",
              "      <td>5626083</td>\n",
              "      <td>F</td>\n",
              "      <td>2016-04-27 07:51:14</td>\n",
              "      <td>2016-04-29</td>\n",
              "      <td>30</td>\n",
              "      <td>NOVA PALESTINA</td>\n",
              "      <td>0</td>\n",
              "      <td>0</td>\n",
              "      <td>0</td>\n",
              "      <td>0</td>\n",
              "      <td>0</td>\n",
              "      <td>0</td>\n",
              "      <td>NShowed_up</td>\n",
              "      <td>Adult</td>\n",
              "    </tr>\n",
              "    <tr>\n",
              "      <th>21</th>\n",
              "      <td>1.215484e+13</td>\n",
              "      <td>5628338</td>\n",
              "      <td>F</td>\n",
              "      <td>2016-04-27 10:50:45</td>\n",
              "      <td>2016-04-29</td>\n",
              "      <td>4</td>\n",
              "      <td>CONQUISTA</td>\n",
              "      <td>0</td>\n",
              "      <td>0</td>\n",
              "      <td>0</td>\n",
              "      <td>0</td>\n",
              "      <td>0</td>\n",
              "      <td>0</td>\n",
              "      <td>NShowed_up</td>\n",
              "      <td>child</td>\n",
              "    </tr>\n",
              "    <tr>\n",
              "      <th>22</th>\n",
              "      <td>8.632298e+14</td>\n",
              "      <td>5616091</td>\n",
              "      <td>M</td>\n",
              "      <td>2016-04-25 13:29:16</td>\n",
              "      <td>2016-04-29</td>\n",
              "      <td>13</td>\n",
              "      <td>CONQUISTA</td>\n",
              "      <td>0</td>\n",
              "      <td>0</td>\n",
              "      <td>0</td>\n",
              "      <td>0</td>\n",
              "      <td>0</td>\n",
              "      <td>1</td>\n",
              "      <td>NShowed_up</td>\n",
              "      <td>Adolescence</td>\n",
              "    </tr>\n",
              "    <tr>\n",
              "      <th>23</th>\n",
              "      <td>2.137540e+14</td>\n",
              "      <td>5634142</td>\n",
              "      <td>F</td>\n",
              "      <td>2016-04-28 10:27:05</td>\n",
              "      <td>2016-04-29</td>\n",
              "      <td>46</td>\n",
              "      <td>CONQUISTA</td>\n",
              "      <td>0</td>\n",
              "      <td>0</td>\n",
              "      <td>0</td>\n",
              "      <td>0</td>\n",
              "      <td>0</td>\n",
              "      <td>0</td>\n",
              "      <td>Showed_up</td>\n",
              "      <td>Adult</td>\n",
              "    </tr>\n",
              "    <tr>\n",
              "      <th>24</th>\n",
              "      <td>8.734858e+12</td>\n",
              "      <td>5641780</td>\n",
              "      <td>F</td>\n",
              "      <td>2016-04-29 14:19:19</td>\n",
              "      <td>2016-04-29</td>\n",
              "      <td>65</td>\n",
              "      <td>TABUAZEIRO</td>\n",
              "      <td>0</td>\n",
              "      <td>0</td>\n",
              "      <td>0</td>\n",
              "      <td>0</td>\n",
              "      <td>0</td>\n",
              "      <td>0</td>\n",
              "      <td>Showed_up</td>\n",
              "      <td>Senior Adult</td>\n",
              "    </tr>\n",
              "    <tr>\n",
              "      <th>25</th>\n",
              "      <td>5.819370e+12</td>\n",
              "      <td>5624020</td>\n",
              "      <td>M</td>\n",
              "      <td>2016-04-26 15:04:17</td>\n",
              "      <td>2016-04-29</td>\n",
              "      <td>46</td>\n",
              "      <td>CONQUISTA</td>\n",
              "      <td>0</td>\n",
              "      <td>1</td>\n",
              "      <td>0</td>\n",
              "      <td>0</td>\n",
              "      <td>0</td>\n",
              "      <td>1</td>\n",
              "      <td>Showed_up</td>\n",
              "      <td>Adult</td>\n",
              "    </tr>\n",
              "    <tr>\n",
              "      <th>26</th>\n",
              "      <td>2.578785e+10</td>\n",
              "      <td>5641781</td>\n",
              "      <td>F</td>\n",
              "      <td>2016-04-29 14:19:42</td>\n",
              "      <td>2016-04-29</td>\n",
              "      <td>45</td>\n",
              "      <td>BENTO FERREIRA</td>\n",
              "      <td>0</td>\n",
              "      <td>1</td>\n",
              "      <td>0</td>\n",
              "      <td>0</td>\n",
              "      <td>0</td>\n",
              "      <td>0</td>\n",
              "      <td>Showed_up</td>\n",
              "      <td>Adult</td>\n",
              "    </tr>\n",
              "    <tr>\n",
              "      <th>27</th>\n",
              "      <td>1.215484e+13</td>\n",
              "      <td>5628345</td>\n",
              "      <td>F</td>\n",
              "      <td>2016-04-27 10:51:45</td>\n",
              "      <td>2016-04-29</td>\n",
              "      <td>4</td>\n",
              "      <td>CONQUISTA</td>\n",
              "      <td>0</td>\n",
              "      <td>0</td>\n",
              "      <td>0</td>\n",
              "      <td>0</td>\n",
              "      <td>0</td>\n",
              "      <td>0</td>\n",
              "      <td>Showed_up</td>\n",
              "      <td>child</td>\n",
              "    </tr>\n",
              "    <tr>\n",
              "      <th>28</th>\n",
              "      <td>5.926172e+12</td>\n",
              "      <td>5642400</td>\n",
              "      <td>M</td>\n",
              "      <td>2016-04-29 15:48:02</td>\n",
              "      <td>2016-04-29</td>\n",
              "      <td>51</td>\n",
              "      <td>SÃO PEDRO</td>\n",
              "      <td>0</td>\n",
              "      <td>0</td>\n",
              "      <td>0</td>\n",
              "      <td>0</td>\n",
              "      <td>0</td>\n",
              "      <td>0</td>\n",
              "      <td>Showed_up</td>\n",
              "      <td>Adult</td>\n",
              "    </tr>\n",
              "    <tr>\n",
              "      <th>29</th>\n",
              "      <td>1.225776e+12</td>\n",
              "      <td>5642186</td>\n",
              "      <td>F</td>\n",
              "      <td>2016-04-29 15:16:29</td>\n",
              "      <td>2016-04-29</td>\n",
              "      <td>32</td>\n",
              "      <td>SANTA MARTHA</td>\n",
              "      <td>0</td>\n",
              "      <td>0</td>\n",
              "      <td>0</td>\n",
              "      <td>0</td>\n",
              "      <td>0</td>\n",
              "      <td>0</td>\n",
              "      <td>Showed_up</td>\n",
              "      <td>Adult</td>\n",
              "    </tr>\n",
              "  </tbody>\n",
              "</table>\n",
              "</div>\n",
              "      <button class=\"colab-df-convert\" onclick=\"convertToInteractive('df-ad20924a-77f1-4ce9-bd14-c3c4f8f901c7')\"\n",
              "              title=\"Convert this dataframe to an interactive table.\"\n",
              "              style=\"display:none;\">\n",
              "        \n",
              "  <svg xmlns=\"http://www.w3.org/2000/svg\" height=\"24px\"viewBox=\"0 0 24 24\"\n",
              "       width=\"24px\">\n",
              "    <path d=\"M0 0h24v24H0V0z\" fill=\"none\"/>\n",
              "    <path d=\"M18.56 5.44l.94 2.06.94-2.06 2.06-.94-2.06-.94-.94-2.06-.94 2.06-2.06.94zm-11 1L8.5 8.5l.94-2.06 2.06-.94-2.06-.94L8.5 2.5l-.94 2.06-2.06.94zm10 10l.94 2.06.94-2.06 2.06-.94-2.06-.94-.94-2.06-.94 2.06-2.06.94z\"/><path d=\"M17.41 7.96l-1.37-1.37c-.4-.4-.92-.59-1.43-.59-.52 0-1.04.2-1.43.59L10.3 9.45l-7.72 7.72c-.78.78-.78 2.05 0 2.83L4 21.41c.39.39.9.59 1.41.59.51 0 1.02-.2 1.41-.59l7.78-7.78 2.81-2.81c.8-.78.8-2.07 0-2.86zM5.41 20L4 18.59l7.72-7.72 1.47 1.35L5.41 20z\"/>\n",
              "  </svg>\n",
              "      </button>\n",
              "      \n",
              "  <style>\n",
              "    .colab-df-container {\n",
              "      display:flex;\n",
              "      flex-wrap:wrap;\n",
              "      gap: 12px;\n",
              "    }\n",
              "\n",
              "    .colab-df-convert {\n",
              "      background-color: #E8F0FE;\n",
              "      border: none;\n",
              "      border-radius: 50%;\n",
              "      cursor: pointer;\n",
              "      display: none;\n",
              "      fill: #1967D2;\n",
              "      height: 32px;\n",
              "      padding: 0 0 0 0;\n",
              "      width: 32px;\n",
              "    }\n",
              "\n",
              "    .colab-df-convert:hover {\n",
              "      background-color: #E2EBFA;\n",
              "      box-shadow: 0px 1px 2px rgba(60, 64, 67, 0.3), 0px 1px 3px 1px rgba(60, 64, 67, 0.15);\n",
              "      fill: #174EA6;\n",
              "    }\n",
              "\n",
              "    [theme=dark] .colab-df-convert {\n",
              "      background-color: #3B4455;\n",
              "      fill: #D2E3FC;\n",
              "    }\n",
              "\n",
              "    [theme=dark] .colab-df-convert:hover {\n",
              "      background-color: #434B5C;\n",
              "      box-shadow: 0px 1px 3px 1px rgba(0, 0, 0, 0.15);\n",
              "      filter: drop-shadow(0px 1px 2px rgba(0, 0, 0, 0.3));\n",
              "      fill: #FFFFFF;\n",
              "    }\n",
              "  </style>\n",
              "\n",
              "      <script>\n",
              "        const buttonEl =\n",
              "          document.querySelector('#df-ad20924a-77f1-4ce9-bd14-c3c4f8f901c7 button.colab-df-convert');\n",
              "        buttonEl.style.display =\n",
              "          google.colab.kernel.accessAllowed ? 'block' : 'none';\n",
              "\n",
              "        async function convertToInteractive(key) {\n",
              "          const element = document.querySelector('#df-ad20924a-77f1-4ce9-bd14-c3c4f8f901c7');\n",
              "          const dataTable =\n",
              "            await google.colab.kernel.invokeFunction('convertToInteractive',\n",
              "                                                     [key], {});\n",
              "          if (!dataTable) return;\n",
              "\n",
              "          const docLinkHtml = 'Like what you see? Visit the ' +\n",
              "            '<a target=\"_blank\" href=https://colab.research.google.com/notebooks/data_table.ipynb>data table notebook</a>'\n",
              "            + ' to learn more about interactive tables.';\n",
              "          element.innerHTML = '';\n",
              "          dataTable['output_type'] = 'display_data';\n",
              "          await google.colab.output.renderOutput(dataTable, element);\n",
              "          const docLink = document.createElement('div');\n",
              "          docLink.innerHTML = docLinkHtml;\n",
              "          element.appendChild(docLink);\n",
              "        }\n",
              "      </script>\n",
              "    </div>\n",
              "  </div>\n",
              "  "
            ]
          },
          "metadata": {},
          "execution_count": 46
        }
      ]
    },
    {
      "cell_type": "code",
      "source": [
        "df['Neighbourhood'].value_counts()"
      ],
      "metadata": {
        "colab": {
          "base_uri": "https://localhost:8080/"
        },
        "id": "J-ROzUKFlN9C",
        "outputId": "b2eff601-8ce9-4404-ed63-dc29a0761b35"
      },
      "execution_count": 47,
      "outputs": [
        {
          "output_type": "execute_result",
          "data": {
            "text/plain": [
              "JARDIM CAMBURI                 7717\n",
              "MARIA ORTIZ                    5804\n",
              "RESISTÊNCIA                    4420\n",
              "JARDIM DA PENHA                3872\n",
              "ITARARÉ                        3507\n",
              "                               ... \n",
              "ILHA DO BOI                      35\n",
              "ILHA DO FRADE                    10\n",
              "AEROPORTO                         8\n",
              "ILHAS OCEÂNICAS DE TRINDADE       2\n",
              "PARQUE INDUSTRIAL                 1\n",
              "Name: Neighbourhood, Length: 81, dtype: int64"
            ]
          },
          "metadata": {},
          "execution_count": 47
        }
      ]
    },
    {
      "cell_type": "markdown",
      "source": [
        "Here we can see that the mostoccuring location where the appointment wsas taking is in the JARDIM CAMBURI "
      ],
      "metadata": {
        "id": "VUOHRA14mJEF"
      }
    },
    {
      "cell_type": "code",
      "source": [
        "df['Scheduled_Day'].dt.year.unique()"
      ],
      "metadata": {
        "colab": {
          "base_uri": "https://localhost:8080/"
        },
        "id": "tPUQjlgPlmFO",
        "outputId": "dbc32ed8-e0f3-419c-ffe3-7a0cf4743344"
      },
      "execution_count": 48,
      "outputs": [
        {
          "output_type": "execute_result",
          "data": {
            "text/plain": [
              "array([2016, 2015])"
            ]
          },
          "metadata": {},
          "execution_count": 48
        }
      ]
    },
    {
      "cell_type": "code",
      "source": [
        "df['Scheduled_Day'].dt.month.unique()"
      ],
      "metadata": {
        "colab": {
          "base_uri": "https://localhost:8080/"
        },
        "id": "Z2QqODVKnQdu",
        "outputId": "1c1c7cf7-3c96-43aa-85d8-786aefc773da"
      },
      "execution_count": 49,
      "outputs": [
        {
          "output_type": "execute_result",
          "data": {
            "text/plain": [
              "array([ 4,  3,  2,  1,  5, 11, 12,  6])"
            ]
          },
          "metadata": {},
          "execution_count": 49
        }
      ]
    },
    {
      "cell_type": "code",
      "source": [
        "df['Scheduled_Day'][7].day_name()"
      ],
      "metadata": {
        "colab": {
          "base_uri": "https://localhost:8080/",
          "height": 36
        },
        "id": "_vLQ-9v0oMRq",
        "outputId": "b27360b8-b63a-4bfa-91a3-6ef4cbb3a09e"
      },
      "execution_count": 50,
      "outputs": [
        {
          "output_type": "execute_result",
          "data": {
            "text/plain": [
              "'Wednesday'"
            ],
            "application/vnd.google.colaboratory.intrinsic+json": {
              "type": "string"
            }
          },
          "metadata": {},
          "execution_count": 50
        }
      ]
    },
    {
      "cell_type": "code",
      "source": [
        "df.columns"
      ],
      "metadata": {
        "colab": {
          "base_uri": "https://localhost:8080/"
        },
        "id": "Fv6x1zXw7BrA",
        "outputId": "a69ad815-e746-4ba8-912a-b9b7a3987d94"
      },
      "execution_count": 51,
      "outputs": [
        {
          "output_type": "execute_result",
          "data": {
            "text/plain": [
              "Index(['Patient_Id', 'Appointment_ID', 'Gender', 'Scheduled_Day',\n",
              "       'Appointment_Day', 'Age', 'Neighbourhood', 'Scholarship',\n",
              "       'hypertension', 'Diabetes', 'Alcoholism', 'handicap', 'SMS_received',\n",
              "       'No_show', 'age_groups'],\n",
              "      dtype='object')"
            ]
          },
          "metadata": {},
          "execution_count": 51
        }
      ]
    },
    {
      "cell_type": "code",
      "source": [
        "df['No_show'].unique()"
      ],
      "metadata": {
        "colab": {
          "base_uri": "https://localhost:8080/"
        },
        "id": "8zMsNkCAh_dR",
        "outputId": "86c64fd5-bc98-4ff1-983c-52128ca0573d"
      },
      "execution_count": 52,
      "outputs": [
        {
          "output_type": "execute_result",
          "data": {
            "text/plain": [
              "array(['Showed_up', 'NShowed_up'], dtype=object)"
            ]
          },
          "metadata": {},
          "execution_count": 52
        }
      ]
    },
    {
      "cell_type": "code",
      "source": [
        "#calculating the percentage of patient\n",
        "proportion_no_show = df[\"No_show\"].value_counts() / sum(df[\"No_show\"].value_counts())\n",
        "\n",
        "print(\"The percentage of patients that showed up for the appointment is about {}%.\"\n",
        "      .format(round(proportion_no_show[\"Showed_up\"],4)*100))"
      ],
      "metadata": {
        "colab": {
          "base_uri": "https://localhost:8080/"
        },
        "id": "hy_m8O79ybE0",
        "outputId": "e2214dca-8f6e-46fb-80a6-a85c6570959d"
      },
      "execution_count": 53,
      "outputs": [
        {
          "output_type": "stream",
          "name": "stdout",
          "text": [
            "The percentage of patients that showed up for the appointment is about 79.81%.\n"
          ]
        }
      ]
    },
    {
      "cell_type": "code",
      "source": [
        "print(\"The percentage of patients that did not showed up for the appointment is about {}%.\"\n",
        "      .format(round(proportion_no_show[\"NShowed_up\"],4)*100))"
      ],
      "metadata": {
        "id": "yN17ASmp3OAK",
        "colab": {
          "base_uri": "https://localhost:8080/"
        },
        "outputId": "0ba2f03f-e4f7-4a7d-cb65-fc2e280b9088"
      },
      "execution_count": 54,
      "outputs": [
        {
          "output_type": "stream",
          "name": "stdout",
          "text": [
            "The percentage of patients that did not showed up for the appointment is about 20.19%.\n"
          ]
        }
      ]
    },
    {
      "cell_type": "code",
      "source": [
        "plt.pie(proportion_no_show, labels=[\"showed up\", \"not show up\"],autopct='%1.1f%%')\n",
        "plt.title(\"The percentage of patients that showed up and didn't show up for the appointment.\");"
      ],
      "metadata": {
        "colab": {
          "base_uri": "https://localhost:8080/",
          "height": 264
        },
        "id": "lJxQCZu0cyYS",
        "outputId": "9b852d9e-191b-4ecd-ee42-19737b491710"
      },
      "execution_count": 77,
      "outputs": [
        {
          "output_type": "display_data",
          "data": {
            "text/plain": [
              "<Figure size 432x288 with 1 Axes>"
            ],
            "image/png": "[encoded data removed]"
          },
          "metadata": {}
        }
      ]
    },
    {
      "cell_type": "code",
      "source": [
        "df.columns"
      ],
      "metadata": {
        "id": "kZkGVK_qoEJf",
        "colab": {
          "base_uri": "https://localhost:8080/"
        },
        "outputId": "1d316a94-f166-4d8b-ee4b-1b76d6b9ba89"
      },
      "execution_count": 56,
      "outputs": [
        {
          "output_type": "execute_result",
          "data": {
            "text/plain": [
              "Index(['Patient_Id', 'Appointment_ID', 'Gender', 'Scheduled_Day',\n",
              "       'Appointment_Day', 'Age', 'Neighbourhood', 'Scholarship',\n",
              "       'hypertension', 'Diabetes', 'Alcoholism', 'handicap', 'SMS_received',\n",
              "       'No_show', 'age_groups'],\n",
              "      dtype='object')"
            ]
          },
          "metadata": {},
          "execution_count": 56
        }
      ]
    },
    {
      "cell_type": "code",
      "source": [
        "## Creating a new column (attribute) containing just the scheduling time:\n",
        "df['Schedule_Time'] = df.Scheduled_Day.dt.time\n",
        "## Normalizing the \"Day\" columns to keep just the date information (dropping the time info)\n",
        "df['Scheduled_Day'] = df.Scheduled_Day.dt.normalize()"
      ],
      "metadata": {
        "id": "cIziiK8goMXv"
      },
      "execution_count": 57,
      "outputs": []
    },
    {
      "cell_type": "code",
      "source": [
        "df.head()"
      ],
      "metadata": {
        "colab": {
          "base_uri": "https://localhost:8080/",
          "height": 357
        },
        "id": "gWiQBioworEs",
        "outputId": "e05918fe-94dd-4df2-e951-8aec787a8fe2"
      },
      "execution_count": 58,
      "outputs": [
        {
          "output_type": "execute_result",
          "data": {
            "text/plain": [
              "     Patient_Id  Appointment_ID Gender Scheduled_Day Appointment_Day  Age  \\\n",
              "0  2.987250e+13         5642903      F    2016-04-29      2016-04-29   62   \n",
              "1  5.589978e+14         5642503      M    2016-04-29      2016-04-29   56   \n",
              "2  4.262962e+12         5642549      F    2016-04-29      2016-04-29   62   \n",
              "3  8.679512e+11         5642828      F    2016-04-29      2016-04-29    8   \n",
              "4  8.841186e+12         5642494      F    2016-04-29      2016-04-29   56   \n",
              "\n",
              "       Neighbourhood  Scholarship  hypertension  Diabetes  Alcoholism  \\\n",
              "0    JARDIM DA PENHA            0             1         0           0   \n",
              "1    JARDIM DA PENHA            0             0         0           0   \n",
              "2      MATA DA PRAIA            0             0         0           0   \n",
              "3  PONTAL DE CAMBURI            0             0         0           0   \n",
              "4    JARDIM DA PENHA            0             1         1           0   \n",
              "\n",
              "   handicap  SMS_received    No_show    age_groups Schedule_Time  \n",
              "0         0             0  Showed_up  Senior Adult      18:38:08  \n",
              "1         0             0  Showed_up         Adult      16:08:27  \n",
              "2         0             0  Showed_up  Senior Adult      16:19:04  \n",
              "3         0             0  Showed_up         child      17:29:31  \n",
              "4         0             0  Showed_up         Adult      16:07:23  "
            ],
            "text/html": [
              "\n",
              "  <div id=\"df-028e7fd1-276e-45cf-b264-ac3c40f16f45\">\n",
              "    <div class=\"colab-df-container\">\n",
              "      <div>\n",
              "<style scoped>\n",
              "    .dataframe tbody tr th:only-of-type {\n",
              "        vertical-align: middle;\n",
              "    }\n",
              "\n",
              "    .dataframe tbody tr th {\n",
              "        vertical-align: top;\n",
              "    }\n",
              "\n",
              "    .dataframe thead th {\n",
              "        text-align: right;\n",
              "    }\n",
              "</style>\n",
              "<table border=\"1\" class=\"dataframe\">\n",
              "  <thead>\n",
              "    <tr style=\"text-align: right;\">\n",
              "      <th></th>\n",
              "      <th>Patient_Id</th>\n",
              "      <th>Appointment_ID</th>\n",
              "      <th>Gender</th>\n",
              "      <th>Scheduled_Day</th>\n",
              "      <th>Appointment_Day</th>\n",
              "      <th>Age</th>\n",
              "      <th>Neighbourhood</th>\n",
              "      <th>Scholarship</th>\n",
              "      <th>hypertension</th>\n",
              "      <th>Diabetes</th>\n",
              "      <th>Alcoholism</th>\n",
              "      <th>handicap</th>\n",
              "      <th>SMS_received</th>\n",
              "      <th>No_show</th>\n",
              "      <th>age_groups</th>\n",
              "      <th>Schedule_Time</th>\n",
              "    </tr>\n",
              "  </thead>\n",
              "  <tbody>\n",
              "    <tr>\n",
              "      <th>0</th>\n",
              "      <td>2.987250e+13</td>\n",
              "      <td>5642903</td>\n",
              "      <td>F</td>\n",
              "      <td>2016-04-29</td>\n",
              "      <td>2016-04-29</td>\n",
              "      <td>62</td>\n",
              "      <td>JARDIM DA PENHA</td>\n",
              "      <td>0</td>\n",
              "      <td>1</td>\n",
              "      <td>0</td>\n",
              "      <td>0</td>\n",
              "      <td>0</td>\n",
              "      <td>0</td>\n",
              "      <td>Showed_up</td>\n",
              "      <td>Senior Adult</td>\n",
              "      <td>18:38:08</td>\n",
              "    </tr>\n",
              "    <tr>\n",
              "      <th>1</th>\n",
              "      <td>5.589978e+14</td>\n",
              "      <td>5642503</td>\n",
              "      <td>M</td>\n",
              "      <td>2016-04-29</td>\n",
              "      <td>2016-04-29</td>\n",
              "      <td>56</td>\n",
              "      <td>JARDIM DA PENHA</td>\n",
              "      <td>0</td>\n",
              "      <td>0</td>\n",
              "      <td>0</td>\n",
              "      <td>0</td>\n",
              "      <td>0</td>\n",
              "      <td>0</td>\n",
              "      <td>Showed_up</td>\n",
              "      <td>Adult</td>\n",
              "      <td>16:08:27</td>\n",
              "    </tr>\n",
              "    <tr>\n",
              "      <th>2</th>\n",
              "      <td>4.262962e+12</td>\n",
              "      <td>5642549</td>\n",
              "      <td>F</td>\n",
              "      <td>2016-04-29</td>\n",
              "      <td>2016-04-29</td>\n",
              "      <td>62</td>\n",
              "      <td>MATA DA PRAIA</td>\n",
              "      <td>0</td>\n",
              "      <td>0</td>\n",
              "      <td>0</td>\n",
              "      <td>0</td>\n",
              "      <td>0</td>\n",
              "      <td>0</td>\n",
              "      <td>Showed_up</td>\n",
              "      <td>Senior Adult</td>\n",
              "      <td>16:19:04</td>\n",
              "    </tr>\n",
              "    <tr>\n",
              "      <th>3</th>\n",
              "      <td>8.679512e+11</td>\n",
              "      <td>5642828</td>\n",
              "      <td>F</td>\n",
              "      <td>2016-04-29</td>\n",
              "      <td>2016-04-29</td>\n",
              "      <td>8</td>\n",
              "      <td>PONTAL DE CAMBURI</td>\n",
              "      <td>0</td>\n",
              "      <td>0</td>\n",
              "      <td>0</td>\n",
              "      <td>0</td>\n",
              "      <td>0</td>\n",
              "      <td>0</td>\n",
              "      <td>Showed_up</td>\n",
              "      <td>child</td>\n",
              "      <td>17:29:31</td>\n",
              "    </tr>\n",
              "    <tr>\n",
              "      <th>4</th>\n",
              "      <td>8.841186e+12</td>\n",
              "      <td>5642494</td>\n",
              "      <td>F</td>\n",
              "      <td>2016-04-29</td>\n",
              "      <td>2016-04-29</td>\n",
              "      <td>56</td>\n",
              "      <td>JARDIM DA PENHA</td>\n",
              "      <td>0</td>\n",
              "      <td>1</td>\n",
              "      <td>1</td>\n",
              "      <td>0</td>\n",
              "      <td>0</td>\n",
              "      <td>0</td>\n",
              "      <td>Showed_up</td>\n",
              "      <td>Adult</td>\n",
              "      <td>16:07:23</td>\n",
              "    </tr>\n",
              "  </tbody>\n",
              "</table>\n",
              "</div>\n",
              "      <button class=\"colab-df-convert\" onclick=\"convertToInteractive('df-028e7fd1-276e-45cf-b264-ac3c40f16f45')\"\n",
              "              title=\"Convert this dataframe to an interactive table.\"\n",
              "              style=\"display:none;\">\n",
              "        \n",
              "  <svg xmlns=\"http://www.w3.org/2000/svg\" height=\"24px\"viewBox=\"0 0 24 24\"\n",
              "       width=\"24px\">\n",
              "    <path d=\"M0 0h24v24H0V0z\" fill=\"none\"/>\n",
              "    <path d=\"M18.56 5.44l.94 2.06.94-2.06 2.06-.94-2.06-.94-.94-2.06-.94 2.06-2.06.94zm-11 1L8.5 8.5l.94-2.06 2.06-.94-2.06-.94L8.5 2.5l-.94 2.06-2.06.94zm10 10l.94 2.06.94-2.06 2.06-.94-2.06-.94-.94-2.06-.94 2.06-2.06.94z\"/><path d=\"M17.41 7.96l-1.37-1.37c-.4-.4-.92-.59-1.43-.59-.52 0-1.04.2-1.43.59L10.3 9.45l-7.72 7.72c-.78.78-.78 2.05 0 2.83L4 21.41c.39.39.9.59 1.41.59.51 0 1.02-.2 1.41-.59l7.78-7.78 2.81-2.81c.8-.78.8-2.07 0-2.86zM5.41 20L4 18.59l7.72-7.72 1.47 1.35L5.41 20z\"/>\n",
              "  </svg>\n",
              "      </button>\n",
              "      \n",
              "  <style>\n",
              "    .colab-df-container {\n",
              "      display:flex;\n",
              "      flex-wrap:wrap;\n",
              "      gap: 12px;\n",
              "    }\n",
              "\n",
              "    .colab-df-convert {\n",
              "      background-color: #E8F0FE;\n",
              "      border: none;\n",
              "      border-radius: 50%;\n",
              "      cursor: pointer;\n",
              "      display: none;\n",
              "      fill: #1967D2;\n",
              "      height: 32px;\n",
              "      padding: 0 0 0 0;\n",
              "      width: 32px;\n",
              "    }\n",
              "\n",
              "    .colab-df-convert:hover {\n",
              "      background-color: #E2EBFA;\n",
              "      box-shadow: 0px 1px 2px rgba(60, 64, 67, 0.3), 0px 1px 3px 1px rgba(60, 64, 67, 0.15);\n",
              "      fill: #174EA6;\n",
              "    }\n",
              "\n",
              "    [theme=dark] .colab-df-convert {\n",
              "      background-color: #3B4455;\n",
              "      fill: #D2E3FC;\n",
              "    }\n",
              "\n",
              "    [theme=dark] .colab-df-convert:hover {\n",
              "      background-color: #434B5C;\n",
              "      box-shadow: 0px 1px 3px 1px rgba(0, 0, 0, 0.15);\n",
              "      filter: drop-shadow(0px 1px 2px rgba(0, 0, 0, 0.3));\n",
              "      fill: #FFFFFF;\n",
              "    }\n",
              "  </style>\n",
              "\n",
              "      <script>\n",
              "        const buttonEl =\n",
              "          document.querySelector('#df-028e7fd1-276e-45cf-b264-ac3c40f16f45 button.colab-df-convert');\n",
              "        buttonEl.style.display =\n",
              "          google.colab.kernel.accessAllowed ? 'block' : 'none';\n",
              "\n",
              "        async function convertToInteractive(key) {\n",
              "          const element = document.querySelector('#df-028e7fd1-276e-45cf-b264-ac3c40f16f45');\n",
              "          const dataTable =\n",
              "            await google.colab.kernel.invokeFunction('convertToInteractive',\n",
              "                                                     [key], {});\n",
              "          if (!dataTable) return;\n",
              "\n",
              "          const docLinkHtml = 'Like what you see? Visit the ' +\n",
              "            '<a target=\"_blank\" href=https://colab.research.google.com/notebooks/data_table.ipynb>data table notebook</a>'\n",
              "            + ' to learn more about interactive tables.';\n",
              "          element.innerHTML = '';\n",
              "          dataTable['output_type'] = 'display_data';\n",
              "          await google.colab.output.renderOutput(dataTable, element);\n",
              "          const docLink = document.createElement('div');\n",
              "          docLink.innerHTML = docLinkHtml;\n",
              "          element.appendChild(docLink);\n",
              "        }\n",
              "      </script>\n",
              "    </div>\n",
              "  </div>\n",
              "  "
            ]
          },
          "metadata": {},
          "execution_count": 58
        }
      ]
    },
    {
      "cell_type": "code",
      "source": [
        "## i will be creating a the waiting day from the subtraction of both 'AppointmentDay' and 'ScheduledDay' since they are also pandas.Timestamp type, this operation can be done directly:\n",
        "df['Waiting_Days'] = df['Appointment_Day'] - df['Scheduled_Day']"
      ],
      "metadata": {
        "id": "LnVo32a3otqI"
      },
      "execution_count": 59,
      "outputs": []
    },
    {
      "cell_type": "markdown",
      "source": [
        "Here we see that some of the waiting days has negative value and which is abnormal and from what that tell us is that some people book for an appointment after the scheduled and this should be treated."
      ],
      "metadata": {
        "id": "hIW7wu4uu2a-"
      }
    },
    {
      "cell_type": "code",
      "source": [
        "df.info()"
      ],
      "metadata": {
        "colab": {
          "base_uri": "https://localhost:8080/"
        },
        "id": "ifDqnqE_vbYG",
        "outputId": "f907481b-9ef4-486b-ff82-7ef593b4ceda"
      },
      "execution_count": 60,
      "outputs": [
        {
          "output_type": "stream",
          "name": "stdout",
          "text": [
            "<class 'pandas.core.frame.DataFrame'>\n",
            "Int64Index: 110320 entries, 0 to 110526\n",
            "Data columns (total 17 columns):\n",
            " #   Column           Non-Null Count   Dtype          \n",
            "---  ------           --------------   -----          \n",
            " 0   Patient_Id       110320 non-null  float64        \n",
            " 1   Appointment_ID   110320 non-null  int64          \n",
            " 2   Gender           110320 non-null  object         \n",
            " 3   Scheduled_Day    110320 non-null  datetime64[ns] \n",
            " 4   Appointment_Day  110320 non-null  datetime64[ns] \n",
            " 5   Age              110320 non-null  int64          \n",
            " 6   Neighbourhood    110320 non-null  object         \n",
            " 7   Scholarship      110320 non-null  int64          \n",
            " 8   hypertension     110320 non-null  int64          \n",
            " 9   Diabetes         110320 non-null  int64          \n",
            " 10  Alcoholism       110320 non-null  int64          \n",
            " 11  handicap         110320 non-null  int64          \n",
            " 12  SMS_received     110320 non-null  int64          \n",
            " 13  No_show          110320 non-null  object         \n",
            " 14  age_groups       106781 non-null  category       \n",
            " 15  Schedule_Time    110320 non-null  object         \n",
            " 16  Waiting_Days     110320 non-null  timedelta64[ns]\n",
            "dtypes: category(1), datetime64[ns](2), float64(1), int64(8), object(4), timedelta64[ns](1)\n",
            "memory usage: 18.4+ MB\n"
          ]
        }
      ]
    },
    {
      "cell_type": "code",
      "source": [
        "df\n"
      ],
      "metadata": {
        "colab": {
          "base_uri": "https://localhost:8080/",
          "height": 574
        },
        "id": "D9FjP-jg0DIj",
        "outputId": "ce96b836-0b99-4ec1-e089-a2858e1b3ec9"
      },
      "execution_count": 61,
      "outputs": [
        {
          "output_type": "execute_result",
          "data": {
            "text/plain": [
              "          Patient_Id  Appointment_ID Gender Scheduled_Day Appointment_Day  \\\n",
              "0       2.987250e+13         5642903      F    2016-04-29      2016-04-29   \n",
              "1       5.589978e+14         5642503      M    2016-04-29      2016-04-29   \n",
              "2       4.262962e+12         5642549      F    2016-04-29      2016-04-29   \n",
              "3       8.679512e+11         5642828      F    2016-04-29      2016-04-29   \n",
              "4       8.841186e+12         5642494      F    2016-04-29      2016-04-29   \n",
              "...              ...             ...    ...           ...             ...   \n",
              "110522  2.572134e+12         5651768      F    2016-05-03      2016-06-07   \n",
              "110523  3.596266e+12         5650093      F    2016-05-03      2016-06-07   \n",
              "110524  1.557663e+13         5630692      F    2016-04-27      2016-06-07   \n",
              "110525  9.213493e+13         5630323      F    2016-04-27      2016-06-07   \n",
              "110526  3.775115e+14         5629448      F    2016-04-27      2016-06-07   \n",
              "\n",
              "        Age      Neighbourhood  Scholarship  hypertension  Diabetes  \\\n",
              "0        62    JARDIM DA PENHA            0             1         0   \n",
              "1        56    JARDIM DA PENHA            0             0         0   \n",
              "2        62      MATA DA PRAIA            0             0         0   \n",
              "3         8  PONTAL DE CAMBURI            0             0         0   \n",
              "4        56    JARDIM DA PENHA            0             1         1   \n",
              "...     ...                ...          ...           ...       ...   \n",
              "110522   56        MARIA ORTIZ            0             0         0   \n",
              "110523   51        MARIA ORTIZ            0             0         0   \n",
              "110524   21        MARIA ORTIZ            0             0         0   \n",
              "110525   38        MARIA ORTIZ            0             0         0   \n",
              "110526   54        MARIA ORTIZ            0             0         0   \n",
              "\n",
              "        Alcoholism  handicap  SMS_received    No_show    age_groups  \\\n",
              "0                0         0             0  Showed_up  Senior Adult   \n",
              "1                0         0             0  Showed_up         Adult   \n",
              "2                0         0             0  Showed_up  Senior Adult   \n",
              "3                0         0             0  Showed_up         child   \n",
              "4                0         0             0  Showed_up         Adult   \n",
              "...            ...       ...           ...        ...           ...   \n",
              "110522           0         0             1  Showed_up         Adult   \n",
              "110523           0         0             1  Showed_up         Adult   \n",
              "110524           0         0             1  Showed_up         Adult   \n",
              "110525           0         0             1  Showed_up         Adult   \n",
              "110526           0         0             1  Showed_up         Adult   \n",
              "\n",
              "       Schedule_Time Waiting_Days  \n",
              "0           18:38:08       0 days  \n",
              "1           16:08:27       0 days  \n",
              "2           16:19:04       0 days  \n",
              "3           17:29:31       0 days  \n",
              "4           16:07:23       0 days  \n",
              "...              ...          ...  \n",
              "110522      09:15:35      35 days  \n",
              "110523      07:27:33      35 days  \n",
              "110524      16:03:52      41 days  \n",
              "110525      15:09:23      41 days  \n",
              "110526      13:30:56      41 days  \n",
              "\n",
              "[110320 rows x 17 columns]"
            ],
            "text/html": [
              "\n",
              "  <div id=\"df-000a1539-9d23-4f45-9882-2cf13aa20708\">\n",
              "    <div class=\"colab-df-container\">\n",
              "      <div>\n",
              "<style scoped>\n",
              "    .dataframe tbody tr th:only-of-type {\n",
              "        vertical-align: middle;\n",
              "    }\n",
              "\n",
              "    .dataframe tbody tr th {\n",
              "        vertical-align: top;\n",
              "    }\n",
              "\n",
              "    .dataframe thead th {\n",
              "        text-align: right;\n",
              "    }\n",
              "</style>\n",
              "<table border=\"1\" class=\"dataframe\">\n",
              "  <thead>\n",
              "    <tr style=\"text-align: right;\">\n",
              "      <th></th>\n",
              "      <th>Patient_Id</th>\n",
              "      <th>Appointment_ID</th>\n",
              "      <th>Gender</th>\n",
              "      <th>Scheduled_Day</th>\n",
              "      <th>Appointment_Day</th>\n",
              "      <th>Age</th>\n",
              "      <th>Neighbourhood</th>\n",
              "      <th>Scholarship</th>\n",
              "      <th>hypertension</th>\n",
              "      <th>Diabetes</th>\n",
              "      <th>Alcoholism</th>\n",
              "      <th>handicap</th>\n",
              "      <th>SMS_received</th>\n",
              "      <th>No_show</th>\n",
              "      <th>age_groups</th>\n",
              "      <th>Schedule_Time</th>\n",
              "      <th>Waiting_Days</th>\n",
              "    </tr>\n",
              "  </thead>\n",
              "  <tbody>\n",
              "    <tr>\n",
              "      <th>0</th>\n",
              "      <td>2.987250e+13</td>\n",
              "      <td>5642903</td>\n",
              "      <td>F</td>\n",
              "      <td>2016-04-29</td>\n",
              "      <td>2016-04-29</td>\n",
              "      <td>62</td>\n",
              "      <td>JARDIM DA PENHA</td>\n",
              "      <td>0</td>\n",
              "      <td>1</td>\n",
              "      <td>0</td>\n",
              "      <td>0</td>\n",
              "      <td>0</td>\n",
              "      <td>0</td>\n",
              "      <td>Showed_up</td>\n",
              "      <td>Senior Adult</td>\n",
              "      <td>18:38:08</td>\n",
              "      <td>0 days</td>\n",
              "    </tr>\n",
              "    <tr>\n",
              "      <th>1</th>\n",
              "      <td>5.589978e+14</td>\n",
              "      <td>5642503</td>\n",
              "      <td>M</td>\n",
              "      <td>2016-04-29</td>\n",
              "      <td>2016-04-29</td>\n",
              "      <td>56</td>\n",
              "      <td>JARDIM DA PENHA</td>\n",
              "      <td>0</td>\n",
              "      <td>0</td>\n",
              "      <td>0</td>\n",
              "      <td>0</td>\n",
              "      <td>0</td>\n",
              "      <td>0</td>\n",
              "      <td>Showed_up</td>\n",
              "      <td>Adult</td>\n",
              "      <td>16:08:27</td>\n",
              "      <td>0 days</td>\n",
              "    </tr>\n",
              "    <tr>\n",
              "      <th>2</th>\n",
              "      <td>4.262962e+12</td>\n",
              "      <td>5642549</td>\n",
              "      <td>F</td>\n",
              "      <td>2016-04-29</td>\n",
              "      <td>2016-04-29</td>\n",
              "      <td>62</td>\n",
              "      <td>MATA DA PRAIA</td>\n",
              "      <td>0</td>\n",
              "      <td>0</td>\n",
              "      <td>0</td>\n",
              "      <td>0</td>\n",
              "      <td>0</td>\n",
              "      <td>0</td>\n",
              "      <td>Showed_up</td>\n",
              "      <td>Senior Adult</td>\n",
              "      <td>16:19:04</td>\n",
              "      <td>0 days</td>\n",
              "    </tr>\n",
              "    <tr>\n",
              "      <th>3</th>\n",
              "      <td>8.679512e+11</td>\n",
              "      <td>5642828</td>\n",
              "      <td>F</td>\n",
              "      <td>2016-04-29</td>\n",
              "      <td>2016-04-29</td>\n",
              "      <td>8</td>\n",
              "      <td>PONTAL DE CAMBURI</td>\n",
              "      <td>0</td>\n",
              "      <td>0</td>\n",
              "      <td>0</td>\n",
              "      <td>0</td>\n",
              "      <td>0</td>\n",
              "      <td>0</td>\n",
              "      <td>Showed_up</td>\n",
              "      <td>child</td>\n",
              "      <td>17:29:31</td>\n",
              "      <td>0 days</td>\n",
              "    </tr>\n",
              "    <tr>\n",
              "      <th>4</th>\n",
              "      <td>8.841186e+12</td>\n",
              "      <td>5642494</td>\n",
              "      <td>F</td>\n",
              "      <td>2016-04-29</td>\n",
              "      <td>2016-04-29</td>\n",
              "      <td>56</td>\n",
              "      <td>JARDIM DA PENHA</td>\n",
              "      <td>0</td>\n",
              "      <td>1</td>\n",
              "      <td>1</td>\n",
              "      <td>0</td>\n",
              "      <td>0</td>\n",
              "      <td>0</td>\n",
              "      <td>Showed_up</td>\n",
              "      <td>Adult</td>\n",
              "      <td>16:07:23</td>\n",
              "      <td>0 days</td>\n",
              "    </tr>\n",
              "    <tr>\n",
              "      <th>...</th>\n",
              "      <td>...</td>\n",
              "      <td>...</td>\n",
              "      <td>...</td>\n",
              "      <td>...</td>\n",
              "      <td>...</td>\n",
              "      <td>...</td>\n",
              "      <td>...</td>\n",
              "      <td>...</td>\n",
              "      <td>...</td>\n",
              "      <td>...</td>\n",
              "      <td>...</td>\n",
              "      <td>...</td>\n",
              "      <td>...</td>\n",
              "      <td>...</td>\n",
              "      <td>...</td>\n",
              "      <td>...</td>\n",
              "      <td>...</td>\n",
              "    </tr>\n",
              "    <tr>\n",
              "      <th>110522</th>\n",
              "      <td>2.572134e+12</td>\n",
              "      <td>5651768</td>\n",
              "      <td>F</td>\n",
              "      <td>2016-05-03</td>\n",
              "      <td>2016-06-07</td>\n",
              "      <td>56</td>\n",
              "      <td>MARIA ORTIZ</td>\n",
              "      <td>0</td>\n",
              "      <td>0</td>\n",
              "      <td>0</td>\n",
              "      <td>0</td>\n",
              "      <td>0</td>\n",
              "      <td>1</td>\n",
              "      <td>Showed_up</td>\n",
              "      <td>Adult</td>\n",
              "      <td>09:15:35</td>\n",
              "      <td>35 days</td>\n",
              "    </tr>\n",
              "    <tr>\n",
              "      <th>110523</th>\n",
              "      <td>3.596266e+12</td>\n",
              "      <td>5650093</td>\n",
              "      <td>F</td>\n",
              "      <td>2016-05-03</td>\n",
              "      <td>2016-06-07</td>\n",
              "      <td>51</td>\n",
              "      <td>MARIA ORTIZ</td>\n",
              "      <td>0</td>\n",
              "      <td>0</td>\n",
              "      <td>0</td>\n",
              "      <td>0</td>\n",
              "      <td>0</td>\n",
              "      <td>1</td>\n",
              "      <td>Showed_up</td>\n",
              "      <td>Adult</td>\n",
              "      <td>07:27:33</td>\n",
              "      <td>35 days</td>\n",
              "    </tr>\n",
              "    <tr>\n",
              "      <th>110524</th>\n",
              "      <td>1.557663e+13</td>\n",
              "      <td>5630692</td>\n",
              "      <td>F</td>\n",
              "      <td>2016-04-27</td>\n",
              "      <td>2016-06-07</td>\n",
              "      <td>21</td>\n",
              "      <td>MARIA ORTIZ</td>\n",
              "      <td>0</td>\n",
              "      <td>0</td>\n",
              "      <td>0</td>\n",
              "      <td>0</td>\n",
              "      <td>0</td>\n",
              "      <td>1</td>\n",
              "      <td>Showed_up</td>\n",
              "      <td>Adult</td>\n",
              "      <td>16:03:52</td>\n",
              "      <td>41 days</td>\n",
              "    </tr>\n",
              "    <tr>\n",
              "      <th>110525</th>\n",
              "      <td>9.213493e+13</td>\n",
              "      <td>5630323</td>\n",
              "      <td>F</td>\n",
              "      <td>2016-04-27</td>\n",
              "      <td>2016-06-07</td>\n",
              "      <td>38</td>\n",
              "      <td>MARIA ORTIZ</td>\n",
              "      <td>0</td>\n",
              "      <td>0</td>\n",
              "      <td>0</td>\n",
              "      <td>0</td>\n",
              "      <td>0</td>\n",
              "      <td>1</td>\n",
              "      <td>Showed_up</td>\n",
              "      <td>Adult</td>\n",
              "      <td>15:09:23</td>\n",
              "      <td>41 days</td>\n",
              "    </tr>\n",
              "    <tr>\n",
              "      <th>110526</th>\n",
              "      <td>3.775115e+14</td>\n",
              "      <td>5629448</td>\n",
              "      <td>F</td>\n",
              "      <td>2016-04-27</td>\n",
              "      <td>2016-06-07</td>\n",
              "      <td>54</td>\n",
              "      <td>MARIA ORTIZ</td>\n",
              "      <td>0</td>\n",
              "      <td>0</td>\n",
              "      <td>0</td>\n",
              "      <td>0</td>\n",
              "      <td>0</td>\n",
              "      <td>1</td>\n",
              "      <td>Showed_up</td>\n",
              "      <td>Adult</td>\n",
              "      <td>13:30:56</td>\n",
              "      <td>41 days</td>\n",
              "    </tr>\n",
              "  </tbody>\n",
              "</table>\n",
              "<p>110320 rows × 17 columns</p>\n",
              "</div>\n",
              "      <button class=\"colab-df-convert\" onclick=\"convertToInteractive('df-000a1539-9d23-4f45-9882-2cf13aa20708')\"\n",
              "              title=\"Convert this dataframe to an interactive table.\"\n",
              "              style=\"display:none;\">\n",
              "        \n",
              "  <svg xmlns=\"http://www.w3.org/2000/svg\" height=\"24px\"viewBox=\"0 0 24 24\"\n",
              "       width=\"24px\">\n",
              "    <path d=\"M0 0h24v24H0V0z\" fill=\"none\"/>\n",
              "    <path d=\"M18.56 5.44l.94 2.06.94-2.06 2.06-.94-2.06-.94-.94-2.06-.94 2.06-2.06.94zm-11 1L8.5 8.5l.94-2.06 2.06-.94-2.06-.94L8.5 2.5l-.94 2.06-2.06.94zm10 10l.94 2.06.94-2.06 2.06-.94-2.06-.94-.94-2.06-.94 2.06-2.06.94z\"/><path d=\"M17.41 7.96l-1.37-1.37c-.4-.4-.92-.59-1.43-.59-.52 0-1.04.2-1.43.59L10.3 9.45l-7.72 7.72c-.78.78-.78 2.05 0 2.83L4 21.41c.39.39.9.59 1.41.59.51 0 1.02-.2 1.41-.59l7.78-7.78 2.81-2.81c.8-.78.8-2.07 0-2.86zM5.41 20L4 18.59l7.72-7.72 1.47 1.35L5.41 20z\"/>\n",
              "  </svg>\n",
              "      </button>\n",
              "      \n",
              "  <style>\n",
              "    .colab-df-container {\n",
              "      display:flex;\n",
              "      flex-wrap:wrap;\n",
              "      gap: 12px;\n",
              "    }\n",
              "\n",
              "    .colab-df-convert {\n",
              "      background-color: #E8F0FE;\n",
              "      border: none;\n",
              "      border-radius: 50%;\n",
              "      cursor: pointer;\n",
              "      display: none;\n",
              "      fill: #1967D2;\n",
              "      height: 32px;\n",
              "      padding: 0 0 0 0;\n",
              "      width: 32px;\n",
              "    }\n",
              "\n",
              "    .colab-df-convert:hover {\n",
              "      background-color: #E2EBFA;\n",
              "      box-shadow: 0px 1px 2px rgba(60, 64, 67, 0.3), 0px 1px 3px 1px rgba(60, 64, 67, 0.15);\n",
              "      fill: #174EA6;\n",
              "    }\n",
              "\n",
              "    [theme=dark] .colab-df-convert {\n",
              "      background-color: #3B4455;\n",
              "      fill: #D2E3FC;\n",
              "    }\n",
              "\n",
              "    [theme=dark] .colab-df-convert:hover {\n",
              "      background-color: #434B5C;\n",
              "      box-shadow: 0px 1px 3px 1px rgba(0, 0, 0, 0.15);\n",
              "      filter: drop-shadow(0px 1px 2px rgba(0, 0, 0, 0.3));\n",
              "      fill: #FFFFFF;\n",
              "    }\n",
              "  </style>\n",
              "\n",
              "      <script>\n",
              "        const buttonEl =\n",
              "          document.querySelector('#df-000a1539-9d23-4f45-9882-2cf13aa20708 button.colab-df-convert');\n",
              "        buttonEl.style.display =\n",
              "          google.colab.kernel.accessAllowed ? 'block' : 'none';\n",
              "\n",
              "        async function convertToInteractive(key) {\n",
              "          const element = document.querySelector('#df-000a1539-9d23-4f45-9882-2cf13aa20708');\n",
              "          const dataTable =\n",
              "            await google.colab.kernel.invokeFunction('convertToInteractive',\n",
              "                                                     [key], {});\n",
              "          if (!dataTable) return;\n",
              "\n",
              "          const docLinkHtml = 'Like what you see? Visit the ' +\n",
              "            '<a target=\"_blank\" href=https://colab.research.google.com/notebooks/data_table.ipynb>data table notebook</a>'\n",
              "            + ' to learn more about interactive tables.';\n",
              "          element.innerHTML = '';\n",
              "          dataTable['output_type'] = 'display_data';\n",
              "          await google.colab.output.renderOutput(dataTable, element);\n",
              "          const docLink = document.createElement('div');\n",
              "          docLink.innerHTML = docLinkHtml;\n",
              "          element.appendChild(docLink);\n",
              "        }\n",
              "      </script>\n",
              "    </div>\n",
              "  </div>\n",
              "  "
            ]
          },
          "metadata": {},
          "execution_count": 61
        }
      ]
    },
    {
      "cell_type": "code",
      "source": [
        "df['Waiting_Days']"
      ],
      "metadata": {
        "colab": {
          "base_uri": "https://localhost:8080/"
        },
        "id": "k1aSESywoW3o",
        "outputId": "1c25b939-7c9c-4986-9272-48223fae75c5"
      },
      "execution_count": 62,
      "outputs": [
        {
          "output_type": "execute_result",
          "data": {
            "text/plain": [
              "0         0 days\n",
              "1         0 days\n",
              "2         0 days\n",
              "3         0 days\n",
              "4         0 days\n",
              "           ...  \n",
              "110522   35 days\n",
              "110523   35 days\n",
              "110524   41 days\n",
              "110525   41 days\n",
              "110526   41 days\n",
              "Name: Waiting_Days, Length: 110320, dtype: timedelta64[ns]"
            ]
          },
          "metadata": {},
          "execution_count": 62
        }
      ]
    },
    {
      "cell_type": "code",
      "source": [
        "df['Waiting_Days'] = df.Waiting_Days.dt.days "
      ],
      "metadata": {
        "id": "vMxtc4fvrp1g"
      },
      "execution_count": 63,
      "outputs": []
    },
    {
      "cell_type": "code",
      "source": [
        "df['GWaiting_Days'] = pd.cut(df['Waiting_Days'], bins=[-1,0,3,7,15,30,90,180, 10000], labels=['Same day: 0', 'Short: 1-3', 'Week: 4-7', 'Fortnight: 8-15', 'Month: 16-30', 'Quarter: 31-90', 'Semester: 91-180', 'Very long: >180'])"
      ],
      "metadata": {
        "id": "HgjuVo7WdMXO"
      },
      "execution_count": 64,
      "outputs": []
    },
    {
      "cell_type": "code",
      "source": [
        "df"
      ],
      "metadata": {
        "colab": {
          "base_uri": "https://localhost:8080/",
          "height": 574
        },
        "id": "pjc0CC5phm8L",
        "outputId": "3b272fca-de14-4164-dbae-bc1d3e5a2103"
      },
      "execution_count": 65,
      "outputs": [
        {
          "output_type": "execute_result",
          "data": {
            "text/plain": [
              "          Patient_Id  Appointment_ID Gender Scheduled_Day Appointment_Day  \\\n",
              "0       2.987250e+13         5642903      F    2016-04-29      2016-04-29   \n",
              "1       5.589978e+14         5642503      M    2016-04-29      2016-04-29   \n",
              "2       4.262962e+12         5642549      F    2016-04-29      2016-04-29   \n",
              "3       8.679512e+11         5642828      F    2016-04-29      2016-04-29   \n",
              "4       8.841186e+12         5642494      F    2016-04-29      2016-04-29   \n",
              "...              ...             ...    ...           ...             ...   \n",
              "110522  2.572134e+12         5651768      F    2016-05-03      2016-06-07   \n",
              "110523  3.596266e+12         5650093      F    2016-05-03      2016-06-07   \n",
              "110524  1.557663e+13         5630692      F    2016-04-27      2016-06-07   \n",
              "110525  9.213493e+13         5630323      F    2016-04-27      2016-06-07   \n",
              "110526  3.775115e+14         5629448      F    2016-04-27      2016-06-07   \n",
              "\n",
              "        Age      Neighbourhood  Scholarship  hypertension  Diabetes  \\\n",
              "0        62    JARDIM DA PENHA            0             1         0   \n",
              "1        56    JARDIM DA PENHA            0             0         0   \n",
              "2        62      MATA DA PRAIA            0             0         0   \n",
              "3         8  PONTAL DE CAMBURI            0             0         0   \n",
              "4        56    JARDIM DA PENHA            0             1         1   \n",
              "...     ...                ...          ...           ...       ...   \n",
              "110522   56        MARIA ORTIZ            0             0         0   \n",
              "110523   51        MARIA ORTIZ            0             0         0   \n",
              "110524   21        MARIA ORTIZ            0             0         0   \n",
              "110525   38        MARIA ORTIZ            0             0         0   \n",
              "110526   54        MARIA ORTIZ            0             0         0   \n",
              "\n",
              "        Alcoholism  handicap  SMS_received    No_show    age_groups  \\\n",
              "0                0         0             0  Showed_up  Senior Adult   \n",
              "1                0         0             0  Showed_up         Adult   \n",
              "2                0         0             0  Showed_up  Senior Adult   \n",
              "3                0         0             0  Showed_up         child   \n",
              "4                0         0             0  Showed_up         Adult   \n",
              "...            ...       ...           ...        ...           ...   \n",
              "110522           0         0             1  Showed_up         Adult   \n",
              "110523           0         0             1  Showed_up         Adult   \n",
              "110524           0         0             1  Showed_up         Adult   \n",
              "110525           0         0             1  Showed_up         Adult   \n",
              "110526           0         0             1  Showed_up         Adult   \n",
              "\n",
              "       Schedule_Time  Waiting_Days   GWaiting_Days  \n",
              "0           18:38:08             0     Same day: 0  \n",
              "1           16:08:27             0     Same day: 0  \n",
              "2           16:19:04             0     Same day: 0  \n",
              "3           17:29:31             0     Same day: 0  \n",
              "4           16:07:23             0     Same day: 0  \n",
              "...              ...           ...             ...  \n",
              "110522      09:15:35            35  Quarter: 31-90  \n",
              "110523      07:27:33            35  Quarter: 31-90  \n",
              "110524      16:03:52            41  Quarter: 31-90  \n",
              "110525      15:09:23            41  Quarter: 31-90  \n",
              "110526      13:30:56            41  Quarter: 31-90  \n",
              "\n",
              "[110320 rows x 18 columns]"
            ],
            "text/html": [
              "\n",
              "  <div id=\"df-f0330518-1d00-43d9-a4b2-8418804d80f6\">\n",
              "    <div class=\"colab-df-container\">\n",
              "      <div>\n",
              "<style scoped>\n",
              "    .dataframe tbody tr th:only-of-type {\n",
              "        vertical-align: middle;\n",
              "    }\n",
              "\n",
              "    .dataframe tbody tr th {\n",
              "        vertical-align: top;\n",
              "    }\n",
              "\n",
              "    .dataframe thead th {\n",
              "        text-align: right;\n",
              "    }\n",
              "</style>\n",
              "<table border=\"1\" class=\"dataframe\">\n",
              "  <thead>\n",
              "    <tr style=\"text-align: right;\">\n",
              "      <th></th>\n",
              "      <th>Patient_Id</th>\n",
              "      <th>Appointment_ID</th>\n",
              "      <th>Gender</th>\n",
              "      <th>Scheduled_Day</th>\n",
              "      <th>Appointment_Day</th>\n",
              "      <th>Age</th>\n",
              "      <th>Neighbourhood</th>\n",
              "      <th>Scholarship</th>\n",
              "      <th>hypertension</th>\n",
              "      <th>Diabetes</th>\n",
              "      <th>Alcoholism</th>\n",
              "      <th>handicap</th>\n",
              "      <th>SMS_received</th>\n",
              "      <th>No_show</th>\n",
              "      <th>age_groups</th>\n",
              "      <th>Schedule_Time</th>\n",
              "      <th>Waiting_Days</th>\n",
              "      <th>GWaiting_Days</th>\n",
              "    </tr>\n",
              "  </thead>\n",
              "  <tbody>\n",
              "    <tr>\n",
              "      <th>0</th>\n",
              "      <td>2.987250e+13</td>\n",
              "      <td>5642903</td>\n",
              "      <td>F</td>\n",
              "      <td>2016-04-29</td>\n",
              "      <td>2016-04-29</td>\n",
              "      <td>62</td>\n",
              "      <td>JARDIM DA PENHA</td>\n",
              "      <td>0</td>\n",
              "      <td>1</td>\n",
              "      <td>0</td>\n",
              "      <td>0</td>\n",
              "      <td>0</td>\n",
              "      <td>0</td>\n",
              "      <td>Showed_up</td>\n",
              "      <td>Senior Adult</td>\n",
              "      <td>18:38:08</td>\n",
              "      <td>0</td>\n",
              "      <td>Same day: 0</td>\n",
              "    </tr>\n",
              "    <tr>\n",
              "      <th>1</th>\n",
              "      <td>5.589978e+14</td>\n",
              "      <td>5642503</td>\n",
              "      <td>M</td>\n",
              "      <td>2016-04-29</td>\n",
              "      <td>2016-04-29</td>\n",
              "      <td>56</td>\n",
              "      <td>JARDIM DA PENHA</td>\n",
              "      <td>0</td>\n",
              "      <td>0</td>\n",
              "      <td>0</td>\n",
              "      <td>0</td>\n",
              "      <td>0</td>\n",
              "      <td>0</td>\n",
              "      <td>Showed_up</td>\n",
              "      <td>Adult</td>\n",
              "      <td>16:08:27</td>\n",
              "      <td>0</td>\n",
              "      <td>Same day: 0</td>\n",
              "    </tr>\n",
              "    <tr>\n",
              "      <th>2</th>\n",
              "      <td>4.262962e+12</td>\n",
              "      <td>5642549</td>\n",
              "      <td>F</td>\n",
              "      <td>2016-04-29</td>\n",
              "      <td>2016-04-29</td>\n",
              "      <td>62</td>\n",
              "      <td>MATA DA PRAIA</td>\n",
              "      <td>0</td>\n",
              "      <td>0</td>\n",
              "      <td>0</td>\n",
              "      <td>0</td>\n",
              "      <td>0</td>\n",
              "      <td>0</td>\n",
              "      <td>Showed_up</td>\n",
              "      <td>Senior Adult</td>\n",
              "      <td>16:19:04</td>\n",
              "      <td>0</td>\n",
              "      <td>Same day: 0</td>\n",
              "    </tr>\n",
              "    <tr>\n",
              "      <th>3</th>\n",
              "      <td>8.679512e+11</td>\n",
              "      <td>5642828</td>\n",
              "      <td>F</td>\n",
              "      <td>2016-04-29</td>\n",
              "      <td>2016-04-29</td>\n",
              "      <td>8</td>\n",
              "      <td>PONTAL DE CAMBURI</td>\n",
              "      <td>0</td>\n",
              "      <td>0</td>\n",
              "      <td>0</td>\n",
              "      <td>0</td>\n",
              "      <td>0</td>\n",
              "      <td>0</td>\n",
              "      <td>Showed_up</td>\n",
              "      <td>child</td>\n",
              "      <td>17:29:31</td>\n",
              "      <td>0</td>\n",
              "      <td>Same day: 0</td>\n",
              "    </tr>\n",
              "    <tr>\n",
              "      <th>4</th>\n",
              "      <td>8.841186e+12</td>\n",
              "      <td>5642494</td>\n",
              "      <td>F</td>\n",
              "      <td>2016-04-29</td>\n",
              "      <td>2016-04-29</td>\n",
              "      <td>56</td>\n",
              "      <td>JARDIM DA PENHA</td>\n",
              "      <td>0</td>\n",
              "      <td>1</td>\n",
              "      <td>1</td>\n",
              "      <td>0</td>\n",
              "      <td>0</td>\n",
              "      <td>0</td>\n",
              "      <td>Showed_up</td>\n",
              "      <td>Adult</td>\n",
              "      <td>16:07:23</td>\n",
              "      <td>0</td>\n",
              "      <td>Same day: 0</td>\n",
              "    </tr>\n",
              "    <tr>\n",
              "      <th>...</th>\n",
              "      <td>...</td>\n",
              "      <td>...</td>\n",
              "      <td>...</td>\n",
              "      <td>...</td>\n",
              "      <td>...</td>\n",
              "      <td>...</td>\n",
              "      <td>...</td>\n",
              "      <td>...</td>\n",
              "      <td>...</td>\n",
              "      <td>...</td>\n",
              "      <td>...</td>\n",
              "      <td>...</td>\n",
              "      <td>...</td>\n",
              "      <td>...</td>\n",
              "      <td>...</td>\n",
              "      <td>...</td>\n",
              "      <td>...</td>\n",
              "      <td>...</td>\n",
              "    </tr>\n",
              "    <tr>\n",
              "      <th>110522</th>\n",
              "      <td>2.572134e+12</td>\n",
              "      <td>5651768</td>\n",
              "      <td>F</td>\n",
              "      <td>2016-05-03</td>\n",
              "      <td>2016-06-07</td>\n",
              "      <td>56</td>\n",
              "      <td>MARIA ORTIZ</td>\n",
              "      <td>0</td>\n",
              "      <td>0</td>\n",
              "      <td>0</td>\n",
              "      <td>0</td>\n",
              "      <td>0</td>\n",
              "      <td>1</td>\n",
              "      <td>Showed_up</td>\n",
              "      <td>Adult</td>\n",
              "      <td>09:15:35</td>\n",
              "      <td>35</td>\n",
              "      <td>Quarter: 31-90</td>\n",
              "    </tr>\n",
              "    <tr>\n",
              "      <th>110523</th>\n",
              "      <td>3.596266e+12</td>\n",
              "      <td>5650093</td>\n",
              "      <td>F</td>\n",
              "      <td>2016-05-03</td>\n",
              "      <td>2016-06-07</td>\n",
              "      <td>51</td>\n",
              "      <td>MARIA ORTIZ</td>\n",
              "      <td>0</td>\n",
              "      <td>0</td>\n",
              "      <td>0</td>\n",
              "      <td>0</td>\n",
              "      <td>0</td>\n",
              "      <td>1</td>\n",
              "      <td>Showed_up</td>\n",
              "      <td>Adult</td>\n",
              "      <td>07:27:33</td>\n",
              "      <td>35</td>\n",
              "      <td>Quarter: 31-90</td>\n",
              "    </tr>\n",
              "    <tr>\n",
              "      <th>110524</th>\n",
              "      <td>1.557663e+13</td>\n",
              "      <td>5630692</td>\n",
              "      <td>F</td>\n",
              "      <td>2016-04-27</td>\n",
              "      <td>2016-06-07</td>\n",
              "      <td>21</td>\n",
              "      <td>MARIA ORTIZ</td>\n",
              "      <td>0</td>\n",
              "      <td>0</td>\n",
              "      <td>0</td>\n",
              "      <td>0</td>\n",
              "      <td>0</td>\n",
              "      <td>1</td>\n",
              "      <td>Showed_up</td>\n",
              "      <td>Adult</td>\n",
              "      <td>16:03:52</td>\n",
              "      <td>41</td>\n",
              "      <td>Quarter: 31-90</td>\n",
              "    </tr>\n",
              "    <tr>\n",
              "      <th>110525</th>\n",
              "      <td>9.213493e+13</td>\n",
              "      <td>5630323</td>\n",
              "      <td>F</td>\n",
              "      <td>2016-04-27</td>\n",
              "      <td>2016-06-07</td>\n",
              "      <td>38</td>\n",
              "      <td>MARIA ORTIZ</td>\n",
              "      <td>0</td>\n",
              "      <td>0</td>\n",
              "      <td>0</td>\n",
              "      <td>0</td>\n",
              "      <td>0</td>\n",
              "      <td>1</td>\n",
              "      <td>Showed_up</td>\n",
              "      <td>Adult</td>\n",
              "      <td>15:09:23</td>\n",
              "      <td>41</td>\n",
              "      <td>Quarter: 31-90</td>\n",
              "    </tr>\n",
              "    <tr>\n",
              "      <th>110526</th>\n",
              "      <td>3.775115e+14</td>\n",
              "      <td>5629448</td>\n",
              "      <td>F</td>\n",
              "      <td>2016-04-27</td>\n",
              "      <td>2016-06-07</td>\n",
              "      <td>54</td>\n",
              "      <td>MARIA ORTIZ</td>\n",
              "      <td>0</td>\n",
              "      <td>0</td>\n",
              "      <td>0</td>\n",
              "      <td>0</td>\n",
              "      <td>0</td>\n",
              "      <td>1</td>\n",
              "      <td>Showed_up</td>\n",
              "      <td>Adult</td>\n",
              "      <td>13:30:56</td>\n",
              "      <td>41</td>\n",
              "      <td>Quarter: 31-90</td>\n",
              "    </tr>\n",
              "  </tbody>\n",
              "</table>\n",
              "<p>110320 rows × 18 columns</p>\n",
              "</div>\n",
              "      <button class=\"colab-df-convert\" onclick=\"convertToInteractive('df-f0330518-1d00-43d9-a4b2-8418804d80f6')\"\n",
              "              title=\"Convert this dataframe to an interactive table.\"\n",
              "              style=\"display:none;\">\n",
              "        \n",
              "  <svg xmlns=\"http://www.w3.org/2000/svg\" height=\"24px\"viewBox=\"0 0 24 24\"\n",
              "       width=\"24px\">\n",
              "    <path d=\"M0 0h24v24H0V0z\" fill=\"none\"/>\n",
              "    <path d=\"M18.56 5.44l.94 2.06.94-2.06 2.06-.94-2.06-.94-.94-2.06-.94 2.06-2.06.94zm-11 1L8.5 8.5l.94-2.06 2.06-.94-2.06-.94L8.5 2.5l-.94 2.06-2.06.94zm10 10l.94 2.06.94-2.06 2.06-.94-2.06-.94-.94-2.06-.94 2.06-2.06.94z\"/><path d=\"M17.41 7.96l-1.37-1.37c-.4-.4-.92-.59-1.43-.59-.52 0-1.04.2-1.43.59L10.3 9.45l-7.72 7.72c-.78.78-.78 2.05 0 2.83L4 21.41c.39.39.9.59 1.41.59.51 0 1.02-.2 1.41-.59l7.78-7.78 2.81-2.81c.8-.78.8-2.07 0-2.86zM5.41 20L4 18.59l7.72-7.72 1.47 1.35L5.41 20z\"/>\n",
              "  </svg>\n",
              "      </button>\n",
              "      \n",
              "  <style>\n",
              "    .colab-df-container {\n",
              "      display:flex;\n",
              "      flex-wrap:wrap;\n",
              "      gap: 12px;\n",
              "    }\n",
              "\n",
              "    .colab-df-convert {\n",
              "      background-color: #E8F0FE;\n",
              "      border: none;\n",
              "      border-radius: 50%;\n",
              "      cursor: pointer;\n",
              "      display: none;\n",
              "      fill: #1967D2;\n",
              "      height: 32px;\n",
              "      padding: 0 0 0 0;\n",
              "      width: 32px;\n",
              "    }\n",
              "\n",
              "    .colab-df-convert:hover {\n",
              "      background-color: #E2EBFA;\n",
              "      box-shadow: 0px 1px 2px rgba(60, 64, 67, 0.3), 0px 1px 3px 1px rgba(60, 64, 67, 0.15);\n",
              "      fill: #174EA6;\n",
              "    }\n",
              "\n",
              "    [theme=dark] .colab-df-convert {\n",
              "      background-color: #3B4455;\n",
              "      fill: #D2E3FC;\n",
              "    }\n",
              "\n",
              "    [theme=dark] .colab-df-convert:hover {\n",
              "      background-color: #434B5C;\n",
              "      box-shadow: 0px 1px 3px 1px rgba(0, 0, 0, 0.15);\n",
              "      filter: drop-shadow(0px 1px 2px rgba(0, 0, 0, 0.3));\n",
              "      fill: #FFFFFF;\n",
              "    }\n",
              "  </style>\n",
              "\n",
              "      <script>\n",
              "        const buttonEl =\n",
              "          document.querySelector('#df-f0330518-1d00-43d9-a4b2-8418804d80f6 button.colab-df-convert');\n",
              "        buttonEl.style.display =\n",
              "          google.colab.kernel.accessAllowed ? 'block' : 'none';\n",
              "\n",
              "        async function convertToInteractive(key) {\n",
              "          const element = document.querySelector('#df-f0330518-1d00-43d9-a4b2-8418804d80f6');\n",
              "          const dataTable =\n",
              "            await google.colab.kernel.invokeFunction('convertToInteractive',\n",
              "                                                     [key], {});\n",
              "          if (!dataTable) return;\n",
              "\n",
              "          const docLinkHtml = 'Like what you see? Visit the ' +\n",
              "            '<a target=\"_blank\" href=https://colab.research.google.com/notebooks/data_table.ipynb>data table notebook</a>'\n",
              "            + ' to learn more about interactive tables.';\n",
              "          element.innerHTML = '';\n",
              "          dataTable['output_type'] = 'display_data';\n",
              "          await google.colab.output.renderOutput(dataTable, element);\n",
              "          const docLink = document.createElement('div');\n",
              "          docLink.innerHTML = docLinkHtml;\n",
              "          element.appendChild(docLink);\n",
              "        }\n",
              "      </script>\n",
              "    </div>\n",
              "  </div>\n",
              "  "
            ]
          },
          "metadata": {},
          "execution_count": 65
        }
      ]
    },
    {
      "cell_type": "code",
      "source": [
        "df.groupby('No_show')['Waiting_Days'].mean()"
      ],
      "metadata": {
        "colab": {
          "base_uri": "https://localhost:8080/"
        },
        "id": "IqIQXNubidFm",
        "outputId": "edbde76b-3f12-4762-cd41-d1f57e13cbb4"
      },
      "execution_count": 66,
      "outputs": [
        {
          "output_type": "execute_result",
          "data": {
            "text/plain": [
              "No_show\n",
              "NShowed_up    15.830932\n",
              "Showed_up      8.759191\n",
              "Name: Waiting_Days, dtype: float64"
            ]
          },
          "metadata": {},
          "execution_count": 66
        }
      ]
    },
    {
      "cell_type": "code",
      "source": [
        "df.groupby('No_show')['GWaiting_Days'].value_counts().plot(kind = 'pie',autopct='%1.1f%%', figsize = (11,11))\n",
        "plt.title('Value count of GWaiting_Days grouped by No_show');\n"
      ],
      "metadata": {
        "colab": {
          "base_uri": "https://localhost:8080/",
          "height": 645
        },
        "id": "QeSqhFc9k6oV",
        "outputId": "5f678068-2bb6-4cf0-86ed-32e45308a010"
      },
      "execution_count": 76,
      "outputs": [
        {
          "output_type": "display_data",
          "data": {
            "text/plain": [
              "<Figure size 792x792 with 1 Axes>"
            ],
            "image/png": "[encoded data removed]"
          },
          "metadata": {}
        }
      ]
    },
    {
      "cell_type": "markdown",
      "source": [
        "# Conclusions:\n",
        "## The data of medical appointment show or noshow was used to answer a number of questions.\n",
        "## I was able to explore the data set to understand all its features and we went further to wrangle and clean up the data in line with what we intended to explore with the data.\n",
        "## A number of research questions were considered in our analysis and my observations are thus:\n",
        "\n",
        "* looking at the shape of the data I can see that from our documentation we see that the dataset is complete where we have 110527 rows and 14 rows\n",
        "* checking the statistical description of the data i notice that the age has a min of -1 and which is not possible for a person to have a negative age\n",
        "* I notice that their is a negative age in the dataset which is not visible for paltient to have and i also limit the age to 100 so this analysis is base on age of people from 0-100\n",
        "* From the descriptions it was told that the Handicap feature aought to be true or false but in our dataset it is more than that so i will be removing that.\n",
        "* After removing the anomalies from the data we now have 110320 rows and 14 columns\n",
        "* lookingat the ratio of ratio of male to female that booked an appointment i see that more male book more appointment than female in our datasets\n",
        "* grouping 'No_show', 'age_groups' by ['Alcoholism'] we can see that more of the adults showed-up followed by the Senior Adult,children and the Adolescence came last\n",
        "* grouping 'Diabetes','Scholarship','hypertension','Alcoholism by 'No_show', 'age_groups' we see that considering other factors i.e the 'Diabetes','Scholarship','hypertension','Alcoholism' we can see that the Adult showed up\n",
        "* grouping ['Gender'] by 'No_show' Considering the ratio of male to female we can see that we have more female from both the patient that showed_up for their appointment and those that did not\n",
        "\n",
        "# limitations\n",
        "## While i were able to answer about four questions with the data set, some challenges and limitations were nevertheless encountered during the course of our analysis.\n",
        "\n",
        "* Time to do a proper analysis\n",
        "* Not enough data to Explore\n",
        "* When looking at the data its looks clean but while exploring the data i see that their is a lot to do and which took bulk of the time\n",
        "* The description of the data was not sufficient to give an explanation to the dataset which limit the insight to be gotten from the data\n",
        "\n"
      ],
      "metadata": {
        "id": "w0MhtsvwwPko"
      }
    },
    {
      "cell_type": "code",
      "source": [],
      "metadata": {
        "id": "CuK06ksbvFKf"
      },
      "execution_count": 67,
      "outputs": []
    }
  ],
  "metadata": {
    "colab": {
      "provenance": [],
      "collapsed_sections": []
    },
    "kernelspec": {
      "display_name": "Python 3 (ipykernel)",
      "language": "python",
      "name": "python3"
    },
    "language_info": {
      "codemirror_mode": {
        "name": "ipython",
        "version": 3
      },
      "file_extension": ".py",
      "mimetype": "text/x-python",
      "name": "python",
      "nbconvert_exporter": "python",
      "pygments_lexer": "ipython3",
      "version": "3.9.7"
    },
    "nbTranslate": {
      "displayLangs": [
        "*"
      ],
      "hotkey": "alt-t",
      "langInMainMenu": true,
      "sourceLang": "en",
      "targetLang": "fr",
      "useGoogleTranslate": true
    },
    "toc": {
      "base_numbering": 1,
      "nav_menu": {},
      "number_sections": true,
      "sideBar": true,
      "skip_h1_title": false,
      "title_cell": "Table of Contents",
      "title_sidebar": "Contents",
      "toc_cell": false,
      "toc_position": {},
      "toc_section_display": true,
      "toc_window_display": false
    },
    "varInspector": {
      "cols": {
        "lenName": 16,
        "lenType": 16,
        "lenVar": 40
      },
      "kernels_config": {
        "python": {
          "delete_cmd_postfix": "",
          "delete_cmd_prefix": "del ",
          "library": "var_list.py",
          "varRefreshCmd": "print(var_dic_list())"
        },
        "r": {
          "delete_cmd_postfix": ") ",
          "delete_cmd_prefix": "rm(",
          "library": "var_list.r",
          "varRefreshCmd": "cat(var_dic_list()) "
        }
      },
      "types_to_exclude": [
        "module",
        "function",
        "builtin_function_or_method",
        "instance",
        "_Feature"
      ],
      "window_display": false
    }
  },
  "nbformat": 4,
  "nbformat_minor": 0
}